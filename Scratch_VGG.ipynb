{
  "nbformat": 4,
  "nbformat_minor": 0,
  "metadata": {
    "colab": {
      "name": "covid_19_vgg16_13_04_2022.ipynb",
      "provenance": [],
      "collapsed_sections": []
    },
    "kernelspec": {
      "name": "python3",
      "display_name": "Python 3"
    },
    "language_info": {
      "name": "python"
    },
    "accelerator": "GPU"
  },
  "cells": [
    {
      "cell_type": "code",
      "source": [
        "from google.colab import drive\n",
        "drive.mount('/content/drive')"
      ],
      "metadata": {
        "colab": {
          "base_uri": "https://localhost:8080/"
        },
        "id": "Dzs52y-986Gi",
        "outputId": "d9369752-085b-453e-ed88-16e040fd0e20"
      },
      "execution_count": 34,
      "outputs": [
        {
          "output_type": "stream",
          "name": "stdout",
          "text": [
            "Drive already mounted at /content/drive; to attempt to forcibly remount, call drive.mount(\"/content/drive\", force_remount=True).\n"
          ]
        }
      ]
    },
    {
      "cell_type": "code",
      "source": [
        "import numpy as np\n",
        "import pandas as pd\n",
        "import matplotlib.pyplot as plt\n",
        "import seaborn as sns"
      ],
      "metadata": {
        "id": "R00QK97LIK6i"
      },
      "execution_count": 35,
      "outputs": []
    },
    {
      "cell_type": "code",
      "source": [
        "import os\n",
        "import torch\n",
        "import torchvision\n",
        "import torchvision.transforms as transforms"
      ],
      "metadata": {
        "id": "Mg_cysYrt-82"
      },
      "execution_count": 36,
      "outputs": []
    },
    {
      "cell_type": "code",
      "source": [
        "os.listdir('/content/drive/MyDrive/PRML Project/covid 19/Extensive COVID-19 X-Ray and CT Chest Images Dataset.zip (Unzipped Files)/COVID-19 Dataset.zip (Unzipped Files)/COVID-19 Dataset/X-ray')"
      ],
      "metadata": {
        "colab": {
          "base_uri": "https://localhost:8080/"
        },
        "id": "0KHHlo6V9Fuk",
        "outputId": "8fe26961-c1ec-444d-a0e8-b1d394a9fc9e"
      },
      "execution_count": 37,
      "outputs": [
        {
          "output_type": "execute_result",
          "data": {
            "text/plain": [
              "['Non-COVID', 'COVID']"
            ]
          },
          "metadata": {},
          "execution_count": 37
        }
      ]
    },
    {
      "cell_type": "code",
      "source": [
        "len(os.listdir('/content/drive/MyDrive/PRML Project/covid 19/Extensive COVID-19 X-Ray and CT Chest Images Dataset.zip (Unzipped Files)/COVID-19 Dataset.zip (Unzipped Files)/COVID-19 Dataset/X-ray/COVID'))"
      ],
      "metadata": {
        "colab": {
          "base_uri": "https://localhost:8080/"
        },
        "id": "cX2TXRrZ9TOe",
        "outputId": "795a445d-502d-46cb-d1fc-26c5da4a8ec1"
      },
      "execution_count": 38,
      "outputs": [
        {
          "output_type": "execute_result",
          "data": {
            "text/plain": [
              "4044"
            ]
          },
          "metadata": {},
          "execution_count": 38
        }
      ]
    },
    {
      "cell_type": "code",
      "source": [
        "len(os.listdir('/content/drive/MyDrive/PRML Project/covid 19/Extensive COVID-19 X-Ray and CT Chest Images Dataset.zip (Unzipped Files)/COVID-19 Dataset.zip (Unzipped Files)/COVID-19 Dataset/X-ray/Non-COVID'))"
      ],
      "metadata": {
        "colab": {
          "base_uri": "https://localhost:8080/"
        },
        "id": "f7mmRihG9Xiz",
        "outputId": "63f800c4-8aa3-4093-db3e-7fc485ef4a89"
      },
      "execution_count": 39,
      "outputs": [
        {
          "output_type": "execute_result",
          "data": {
            "text/plain": [
              "5500"
            ]
          },
          "metadata": {},
          "execution_count": 39
        }
      ]
    },
    {
      "cell_type": "code",
      "source": [
        "dataset_path = '/content/drive/MyDrive/PRML Project/covid 19/Extensive COVID-19 X-Ray and CT Chest Images Dataset.zip (Unzipped Files)/COVID-19 Dataset.zip (Unzipped Files)/COVID-19 Dataset/X-ray'"
      ],
      "metadata": {
        "id": "x1TncA6B9x5X"
      },
      "execution_count": 40,
      "outputs": []
    },
    {
      "cell_type": "code",
      "source": [
        "dataset_transforms = transforms.Compose([transforms.Resize((224, 224)), transforms.ToTensor()])"
      ],
      "metadata": {
        "id": "ZKFsRoDF-Kr2"
      },
      "execution_count": 41,
      "outputs": []
    },
    {
      "cell_type": "code",
      "source": [
        "def get_mean_and_std(loader):\n",
        "  mean = 0.\n",
        "  std = 0.\n",
        "  total_images_count = 0\n",
        "  for images, _ in loader:\n",
        "    image_count_in_a_batch = images.size(0)\n",
        "    images = images.view(image_count_in_a_batch, images.size(1), -1)\n",
        "    mean += images.mean(2).sum(0)\n",
        "    std += images.std(2).sum(0)\n",
        "    total_images_count += image_count_in_a_batch\n",
        "  mean /= total_images_count\n",
        "  std /= total_images_count\n",
        "\n",
        "  return mean, std "
      ],
      "metadata": {
        "id": "YumVD5UK_0Ex"
      },
      "execution_count": 42,
      "outputs": []
    },
    {
      "cell_type": "code",
      "source": [
        "# mean = [0.4363, 0.4328, 0.3291]\n",
        "# std = [0.2129, 0.3075, 0.2038]\n",
        "# from torchvision.transforms.transforms import RandomHorizontalFlip\n",
        "# dataset_transforms2 = transforms.Compose([\n",
        "#                                           transforms.Resize((1024,1024), ), \n",
        "#                                           transforms.RandomHorizontalFlip(),\n",
        "#                                           transforms.RandomRotation(10),\n",
        "#                                           transforms.ToTensor(),\n",
        "#                                           transforms.Normalize(torch.Tensor(mean), torch.Tensor(std))\n",
        "#                                         ])"
      ],
      "metadata": {
        "id": "yAJW978AI0JV"
      },
      "execution_count": 43,
      "outputs": []
    },
    {
      "cell_type": "code",
      "source": [
        "mean = [0.4867, 0.4870, 0.4872]\n",
        "std = [0.2273, 0.2273, 0.2274]\n",
        "from torchvision.transforms.transforms import RandomHorizontalFlip\n",
        "dataset_transforms2 = transforms.Compose([\n",
        "                                          transforms.Resize((224,224)), \n",
        "                                          transforms.RandomHorizontalFlip(),\n",
        "                                          transforms.RandomRotation(10),\n",
        "                                          transforms.ToTensor(),\n",
        "                                          transforms.Normalize(torch.Tensor(mean), torch.Tensor(std))\n",
        "                                        ])"
      ],
      "metadata": {
        "id": "bNMTaLx0YfBF"
      },
      "execution_count": 44,
      "outputs": []
    },
    {
      "cell_type": "code",
      "source": [
        "dataset = torchvision.datasets.ImageFolder(root = dataset_path, transform = dataset_transforms2)"
      ],
      "metadata": {
        "id": "Nq6mAiN9_JdB"
      },
      "execution_count": 45,
      "outputs": []
    },
    {
      "cell_type": "code",
      "source": [
        "len(dataset)"
      ],
      "metadata": {
        "colab": {
          "base_uri": "https://localhost:8080/"
        },
        "id": "UAhSm7M1AOnm",
        "outputId": "2c2050b1-abad-4a90-b5d0-8c5cbc12edb0"
      },
      "execution_count": 46,
      "outputs": [
        {
          "output_type": "execute_result",
          "data": {
            "text/plain": [
              "9537"
            ]
          },
          "metadata": {},
          "execution_count": 46
        }
      ]
    },
    {
      "cell_type": "code",
      "source": [
        "train_size = int(0.7 * len(dataset))\n",
        "validation_size = int(0.2 * len(dataset))\n",
        "test_size = len(dataset) - train_size - validation_size\n",
        "train_dataset, validation_dataset, test_dataset = torch.utils.data.random_split(dataset, [train_size,validation_size,test_size])"
      ],
      "metadata": {
        "id": "Jcfg2B7XAHSN"
      },
      "execution_count": 47,
      "outputs": []
    },
    {
      "cell_type": "code",
      "source": [
        "dataset_loader = torch.utils.data.DataLoader(dataset = dataset, batch_size = 8, shuffle = True)"
      ],
      "metadata": {
        "id": "He7-jHhK_bTE"
      },
      "execution_count": 48,
      "outputs": []
    },
    {
      "cell_type": "code",
      "source": [
        "train_loader = torch.utils.data.DataLoader(dataset = train_dataset, batch_size = 8, shuffle = True)\n",
        "valid_loader = torch.utils.data.DataLoader(dataset = validation_dataset, batch_size = 8)\n",
        "test_loader = torch.utils.data.DataLoader(dataset = test_dataset, batch_size = 8)"
      ],
      "metadata": {
        "id": "MvEugNx2AVk9"
      },
      "execution_count": 49,
      "outputs": []
    },
    {
      "cell_type": "code",
      "source": [
        "# get_mean_and_std(dataset_loader)"
      ],
      "metadata": {
        "id": "G3HMxHyCBh42"
      },
      "execution_count": 50,
      "outputs": []
    },
    {
      "cell_type": "code",
      "source": [
        "def show_transformed_images(dataset):\n",
        "  loader = torch.utils.data.DataLoader(dataset, batch_size = 6, shuffle = True)\n",
        "  batch = next(iter(loader))\n",
        "  images, labels = batch\n",
        "\n",
        "  grid = torchvision.utils.make_grid(images, nrow = 3)\n",
        "  plt.figure(figsize = (11,11))\n",
        "  plt.imshow(np.transpose(grid, (1,2,0)))\n",
        "  print(\"labels: \", labels)"
      ],
      "metadata": {
        "id": "duZNMaxUDhx9"
      },
      "execution_count": 51,
      "outputs": []
    },
    {
      "cell_type": "code",
      "source": [
        "# show_transformed_images(dataset)"
      ],
      "metadata": {
        "id": "ccFBLMh9Ihkj"
      },
      "execution_count": 52,
      "outputs": []
    },
    {
      "cell_type": "code",
      "source": [
        "# show_transformed_images(train_dataset)"
      ],
      "metadata": {
        "id": "1HTcfw3KAlYD"
      },
      "execution_count": 53,
      "outputs": []
    },
    {
      "cell_type": "code",
      "source": [
        "# show_transformed_images(validation_dataset)"
      ],
      "metadata": {
        "id": "A9CuD4yAAzfm"
      },
      "execution_count": 54,
      "outputs": []
    },
    {
      "cell_type": "code",
      "source": [
        "def set_device():\n",
        "  if torch.cuda.is_available():\n",
        "    dev = \"cuda:0\"\n",
        "  else:\n",
        "    dev = \"cpu\"\n",
        "  return torch.device(dev)"
      ],
      "metadata": {
        "id": "JhLfkUROIl61"
      },
      "execution_count": 55,
      "outputs": []
    },
    {
      "cell_type": "code",
      "source": [
        "# DEVICE = set_device()"
      ],
      "metadata": {
        "id": "1CQr6AdVpeqg"
      },
      "execution_count": 56,
      "outputs": []
    },
    {
      "cell_type": "code",
      "source": [
        "# DEVICE"
      ],
      "metadata": {
        "id": "tskrisCGphtm"
      },
      "execution_count": 57,
      "outputs": []
    },
    {
      "cell_type": "code",
      "source": [
        "!nvidia-smi"
      ],
      "metadata": {
        "colab": {
          "base_uri": "https://localhost:8080/"
        },
        "id": "LeSFX8jhF3yp",
        "outputId": "ff75ba0e-0041-414b-f667-ca6126abddbc"
      },
      "execution_count": 58,
      "outputs": [
        {
          "output_type": "stream",
          "name": "stdout",
          "text": [
            "Sat Apr 30 11:29:07 2022       \n",
            "+-----------------------------------------------------------------------------+\n",
            "| NVIDIA-SMI 460.32.03    Driver Version: 460.32.03    CUDA Version: 11.2     |\n",
            "|-------------------------------+----------------------+----------------------+\n",
            "| GPU  Name        Persistence-M| Bus-Id        Disp.A | Volatile Uncorr. ECC |\n",
            "| Fan  Temp  Perf  Pwr:Usage/Cap|         Memory-Usage | GPU-Util  Compute M. |\n",
            "|                               |                      |               MIG M. |\n",
            "|===============================+======================+======================|\n",
            "|   0  Tesla T4            Off  | 00000000:00:04.0 Off |                    0 |\n",
            "| N/A   49C    P8     9W /  70W |      0MiB / 15109MiB |      0%      Default |\n",
            "|                               |                      |                  N/A |\n",
            "+-------------------------------+----------------------+----------------------+\n",
            "                                                                               \n",
            "+-----------------------------------------------------------------------------+\n",
            "| Processes:                                                                  |\n",
            "|  GPU   GI   CI        PID   Type   Process name                  GPU Memory |\n",
            "|        ID   ID                                                   Usage      |\n",
            "|=============================================================================|\n",
            "|  No running processes found                                                 |\n",
            "+-----------------------------------------------------------------------------+\n"
          ]
        }
      ]
    },
    {
      "cell_type": "code",
      "source": [
        "# imports from installed libraries\n",
        "import os\n",
        "import numpy as np\n",
        "import random\n",
        "import torch\n",
        "from distutils.version import LooseVersion as Version\n",
        "from itertools import product\n",
        "\n",
        "def set_all_seeds(seed):\n",
        "    os.environ[\"PL_GLOBAL_SEED\"] = str(seed)\n",
        "    random.seed(seed)\n",
        "    np.random.seed(seed)\n",
        "    torch.manual_seed(seed)\n",
        "    torch.cuda.manual_seed_all(seed)\n",
        "\n",
        "\n",
        "def set_deterministic(use_tensorcores=False):\n",
        "    if torch.cuda.is_available():\n",
        "        torch.backends.cudnn.benchmark = False\n",
        "        torch.backends.cudnn.deterministic = True\n",
        "\n",
        "    if torch.__version__ <= Version(\"1.7\"):\n",
        "        torch.set_deterministic(True)\n",
        "    else:\n",
        "        torch.use_deterministic_algorithms(True)\n",
        "        \n",
        "        # The following are set to True by default and allow cards\n",
        "        # like the Ampere and newer to utilize tensorcores for\n",
        "        # convolutions and matrix multiplications, which can result\n",
        "        # in a significant speed-up. However, results may differ compared\n",
        "        # to card how don't use mixed precision via tensor cores.\n",
        "        torch.backends.cuda.matmul.allow_tf32 = use_tensorcores\n",
        "        torch.backends.cudnn.allow_tf32 = use_tensorcores\n",
        "\n",
        "\n",
        "def compute_accuracy(model, data_loader, device):\n",
        "\n",
        "    with torch.no_grad():\n",
        "\n",
        "        correct_pred, num_examples = 0, 0\n",
        "\n",
        "        for i, (features, targets) in enumerate(data_loader):\n",
        "\n",
        "            features = features.to(device)\n",
        "            targets = targets.float().to(device)\n",
        "\n",
        "            logits = model(features)\n",
        "            _, predicted_labels = torch.max(logits, 1)\n",
        "\n",
        "            num_examples += targets.size(0)\n",
        "            correct_pred += (predicted_labels == targets).sum()\n",
        "    return correct_pred.float()/num_examples * 100\n",
        "\n",
        "\n",
        "def compute_confusion_matrix(model, data_loader, device):\n",
        "\n",
        "    all_targets, all_predictions = [], []\n",
        "    with torch.no_grad():\n",
        "\n",
        "        for i, (features, targets) in enumerate(data_loader):\n",
        "\n",
        "            features = features.to(device)\n",
        "            targets = targets\n",
        "            logits = model(features)\n",
        "            _, predicted_labels = torch.max(logits, 1)\n",
        "            all_targets.extend(targets.to('cpu'))\n",
        "            all_predictions.extend(predicted_labels.to('cpu'))\n",
        "\n",
        "    all_predictions = all_predictions\n",
        "    all_predictions = np.array(all_predictions)\n",
        "    all_targets = np.array(all_targets)\n",
        "        \n",
        "    class_labels = np.unique(np.concatenate((all_targets, all_predictions)))\n",
        "    if class_labels.shape[0] == 1:\n",
        "        if class_labels[0] != 0:\n",
        "            class_labels = np.array([0, class_labels[0]])\n",
        "        else:\n",
        "            class_labels = np.array([class_labels[0], 1])\n",
        "    n_labels = class_labels.shape[0]\n",
        "    lst = []\n",
        "    z = list(zip(all_targets, all_predictions))\n",
        "    for combi in product(class_labels, repeat=2):\n",
        "        lst.append(z.count(combi))\n",
        "    mat = np.asarray(lst)[:, None].reshape(n_labels, n_labels)\n",
        "    return mat"
      ],
      "metadata": {
        "id": "SukYi4CT9EQZ"
      },
      "execution_count": 59,
      "outputs": []
    },
    {
      "cell_type": "code",
      "source": [
        "import time\n",
        "import torch\n",
        "\n",
        "def train_model(model, num_epochs, train_loader,\n",
        "                valid_loader, test_loader, optimizer,\n",
        "                device, logging_interval=50,\n",
        "                scheduler=None,\n",
        "                scheduler_on='valid_acc'):\n",
        "\n",
        "    start_time = time.time()\n",
        "    minibatch_loss_list, train_acc_list, valid_acc_list = [], [], []\n",
        "    \n",
        "    best_acc = 0\n",
        "    for epoch in range(num_epochs):\n",
        "\n",
        "        model.train()\n",
        "        for batch_idx, (features, targets) in enumerate(train_loader):\n",
        "\n",
        "            features = features.to(device)\n",
        "            targets = targets.to(device)\n",
        "\n",
        "            # ## FORWARD AND BACK PROP\n",
        "            logits = model(features)\n",
        "            loss = torch.nn.functional.cross_entropy(logits, targets)\n",
        "            optimizer.zero_grad()\n",
        "\n",
        "            loss.backward()\n",
        "\n",
        "            # ## UPDATE MODEL PARAMETERS\n",
        "            optimizer.step()\n",
        "\n",
        "            # ## LOGGING\n",
        "            minibatch_loss_list.append(loss.item())\n",
        "            if not batch_idx % logging_interval:\n",
        "                print(f'Epoch: {epoch+1:03d}/{num_epochs:03d} '\n",
        "                      f'| Batch {batch_idx:04d}/{len(train_loader):04d} '\n",
        "                      f'| Loss: {loss:.4f}')\n",
        "\n",
        "        model.eval()\n",
        "        with torch.no_grad():  # save memory during inference\n",
        "            train_acc = compute_accuracy(model, train_loader, device=device)\n",
        "            valid_acc = compute_accuracy(model, valid_loader, device=device)\n",
        "            print(f'Epoch: {epoch+1:03d}/{num_epochs:03d} '\n",
        "                  f'| Train: {train_acc :.2f}% '\n",
        "                  f'| Validation: {valid_acc :.2f}%')\n",
        "            train_acc_list.append(train_acc.item())\n",
        "            valid_acc_list.append(valid_acc.item())\n",
        "\n",
        "        if(valid_acc.item() > best_acc):\n",
        "          best_acc = valid_acc.item()\n",
        "          torch.save(model.state_dict(), f'/content/drive/MyDrive/PRML Project/covid 19/Weights_full_training/vgg19_full_30_04_{valid_acc.item()}.pt')\n",
        "\n",
        "        elapsed = (time.time() - start_time)/60\n",
        "        print(f'Time elapsed: {elapsed:.2f} min')\n",
        "        \n",
        "        if scheduler is not None:\n",
        "\n",
        "            if scheduler_on == 'valid_acc':\n",
        "                scheduler.step(valid_acc_list[-1])\n",
        "            elif scheduler_on == 'minibatch_loss':\n",
        "                scheduler.step(minibatch_loss_list[-1])\n",
        "            else:\n",
        "                raise ValueError(f'Invalid `scheduler_on` choice.')\n",
        "        \n",
        "\n",
        "    elapsed = (time.time() - start_time)/60\n",
        "    print(f'Total Training Time: {elapsed:.2f} min')\n",
        "\n",
        "    test_acc = compute_accuracy(model, test_loader, device=device)\n",
        "    print(f'Test accuracy {test_acc :.2f}%')\n",
        "\n",
        "    return minibatch_loss_list, train_acc_list, valid_acc_list"
      ],
      "metadata": {
        "id": "9TP-V4Cgi3g9"
      },
      "execution_count": 60,
      "outputs": []
    },
    {
      "cell_type": "code",
      "source": [
        "# imports from installed libraries\n",
        "import os\n",
        "import matplotlib.pyplot as plt\n",
        "import numpy as np\n",
        "import torch\n",
        "\n",
        "\n",
        "def plot_training_loss(minibatch_loss_list, num_epochs, iter_per_epoch,\n",
        "                       results_dir=None, averaging_iterations=100):\n",
        "\n",
        "    plt.figure()\n",
        "    ax1 = plt.subplot(1, 1, 1)\n",
        "    ax1.plot(range(len(minibatch_loss_list)),\n",
        "             (minibatch_loss_list), label='Minibatch Loss')\n",
        "\n",
        "    if len(minibatch_loss_list) > 1000:\n",
        "        ax1.set_ylim([\n",
        "            0, np.max(minibatch_loss_list[1000:])*1.5\n",
        "            ])\n",
        "    ax1.set_xlabel('Iterations')\n",
        "    ax1.set_ylabel('Loss')\n",
        "\n",
        "    ax1.plot(np.convolve(minibatch_loss_list,\n",
        "                         np.ones(averaging_iterations,)/averaging_iterations,\n",
        "                         mode='valid'),\n",
        "             label='Running Average')\n",
        "    ax1.legend()\n",
        "\n",
        "    ###################\n",
        "    # Set scond x-axis\n",
        "    ax2 = ax1.twiny()\n",
        "    newlabel = list(range(num_epochs+1))\n",
        "\n",
        "    newpos = [e*iter_per_epoch for e in newlabel]\n",
        "\n",
        "    ax2.set_xticks(newpos[::10])\n",
        "    ax2.set_xticklabels(newlabel[::10])\n",
        "\n",
        "    ax2.xaxis.set_ticks_position('bottom')\n",
        "    ax2.xaxis.set_label_position('bottom')\n",
        "    ax2.spines['bottom'].set_position(('outward', 45))\n",
        "    ax2.set_xlabel('Epochs')\n",
        "    ax2.set_xlim(ax1.get_xlim())\n",
        "    ###################\n",
        "\n",
        "    plt.tight_layout()\n",
        "\n",
        "    if results_dir is not None:\n",
        "        image_path = os.path.join(results_dir, 'plot_training_loss.pdf')\n",
        "        plt.savefig(image_path)\n",
        "\n",
        "\n",
        "def plot_accuracy(train_acc_list, valid_acc_list, results_dir):\n",
        "\n",
        "    num_epochs = len(train_acc_list)\n",
        "\n",
        "    plt.plot(np.arange(1, num_epochs+1),\n",
        "             train_acc_list, label='Training')\n",
        "    plt.plot(np.arange(1, num_epochs+1),\n",
        "             valid_acc_list, label='Validation')\n",
        "\n",
        "    plt.xlabel('Epoch')\n",
        "    plt.ylabel('Accuracy')\n",
        "    plt.legend()\n",
        "\n",
        "    plt.tight_layout()\n",
        "\n",
        "    if results_dir is not None:\n",
        "        image_path = os.path.join(\n",
        "            results_dir, 'plot_acc_training_validation.pdf')\n",
        "        plt.savefig(image_path)\n",
        "\n",
        "\n",
        "def show_examples(model, data_loader, unnormalizer=None, class_dict=None):\n",
        "    \n",
        "        \n",
        "    for batch_idx, (features, targets) in enumerate(data_loader):\n",
        "\n",
        "        with torch.no_grad():\n",
        "            features = features\n",
        "            targets = targets\n",
        "            logits = model(features)\n",
        "            predictions = torch.argmax(logits, dim=1)\n",
        "        break\n",
        "\n",
        "    fig, axes = plt.subplots(nrows=1, ncols=5,\n",
        "                             sharex=True, sharey=True)\n",
        "    \n",
        "    if unnormalizer is not None:\n",
        "        for idx in range(features.shape[0]):\n",
        "            features[idx] = unnormalizer(features[idx])\n",
        "    nhwc_img = np.transpose(features, axes=(0, 2, 3, 1))\n",
        "    \n",
        "    if nhwc_img.shape[-1] == 1:\n",
        "        nhw_img = np.squeeze(nhwc_img.numpy(), axis=3)\n",
        "\n",
        "        for idx, ax in enumerate(axes.ravel()):\n",
        "            ax.imshow(nhw_img[idx], cmap='binary')\n",
        "            if class_dict is not None:\n",
        "                ax.title.set_text(f'P: {class_dict[predictions[idx].item()]}'\n",
        "                                  f'\\nT: {class_dict[targets[idx].item()]}')\n",
        "            else:\n",
        "                ax.title.set_text(f'P: {predictions[idx]} | T: {targets[idx]}')\n",
        "            ax.axison = False\n",
        "\n",
        "    else:\n",
        "\n",
        "        for idx, ax in enumerate(axes.ravel()):\n",
        "            ax.imshow(nhwc_img[idx])\n",
        "            if class_dict is not None:\n",
        "                ax.title.set_text(f'P: {class_dict[predictions[idx].item()]}'\n",
        "                                  f'\\nT: {class_dict[targets[idx].item()]}')\n",
        "            else:\n",
        "                ax.title.set_text(f'P: {predictions[idx]} | T: {targets[idx]}')\n",
        "            ax.axison = False\n",
        "    plt.tight_layout()\n",
        "    plt.show()\n",
        "\n",
        "\n",
        "def plot_confusion_matrix(conf_mat,\n",
        "                          hide_spines=False,\n",
        "                          hide_ticks=False,\n",
        "                          figsize=None,\n",
        "                          cmap=None,\n",
        "                          colorbar=False,\n",
        "                          show_absolute=True,\n",
        "                          show_normed=False,\n",
        "                          class_names=None):\n",
        "\n",
        "    if not (show_absolute or show_normed):\n",
        "        raise AssertionError('Both show_absolute and show_normed are False')\n",
        "    if class_names is not None and len(class_names) != len(conf_mat):\n",
        "        raise AssertionError('len(class_names) should be equal to number of'\n",
        "                             'classes in the dataset')\n",
        "\n",
        "    total_samples = conf_mat.sum(axis=1)[:, np.newaxis]\n",
        "    normed_conf_mat = conf_mat.astype('float') / total_samples\n",
        "\n",
        "    fig, ax = plt.subplots(figsize=figsize)\n",
        "    ax.grid(False)\n",
        "    if cmap is None:\n",
        "        cmap = plt.cm.Blues\n",
        "\n",
        "    if figsize is None:\n",
        "        figsize = (len(conf_mat)*1.25, len(conf_mat)*1.25)\n",
        "\n",
        "    if show_normed:\n",
        "        matshow = ax.matshow(normed_conf_mat, cmap=cmap)\n",
        "    else:\n",
        "        matshow = ax.matshow(conf_mat, cmap=cmap)\n",
        "\n",
        "    if colorbar:\n",
        "        fig.colorbar(matshow)\n",
        "\n",
        "    for i in range(conf_mat.shape[0]):\n",
        "        for j in range(conf_mat.shape[1]):\n",
        "            cell_text = \"\"\n",
        "            if show_absolute:\n",
        "                cell_text += format(conf_mat[i, j], 'd')\n",
        "                if show_normed:\n",
        "                    cell_text += \"\\n\" + '('\n",
        "                    cell_text += format(normed_conf_mat[i, j], '.2f') + ')'\n",
        "            else:\n",
        "                cell_text += format(normed_conf_mat[i, j], '.2f')\n",
        "            ax.text(x=j,\n",
        "                    y=i,\n",
        "                    s=cell_text,\n",
        "                    va='center',\n",
        "                    ha='center',\n",
        "                    color=\"white\" if normed_conf_mat[i, j] > 0.5 else \"black\")\n",
        "    \n",
        "    if class_names is not None:\n",
        "        tick_marks = np.arange(len(class_names))\n",
        "        plt.xticks(tick_marks, class_names, rotation=90)\n",
        "        plt.yticks(tick_marks, class_names)\n",
        "        \n",
        "    if hide_spines:\n",
        "        ax.spines['right'].set_visible(False)\n",
        "        ax.spines['top'].set_visible(False)\n",
        "        ax.spines['left'].set_visible(False)\n",
        "        ax.spines['bottom'].set_visible(False)\n",
        "    ax.yaxis.set_ticks_position('left')\n",
        "    ax.xaxis.set_ticks_position('bottom')\n",
        "    if hide_ticks:\n",
        "        ax.axes.get_yaxis().set_ticks([])\n",
        "        ax.axes.get_xaxis().set_ticks([])\n",
        "\n",
        "    plt.xlabel('predicted label')\n",
        "    plt.ylabel('true label')\n",
        "    return fig, ax"
      ],
      "metadata": {
        "id": "Ich8ZSuh9MDe"
      },
      "execution_count": 77,
      "outputs": []
    },
    {
      "cell_type": "code",
      "source": [
        "import torch\n",
        "from torch.utils.data import sampler\n",
        "from torchvision import datasets\n",
        "from torch.utils.data import DataLoader\n",
        "from torch.utils.data import SubsetRandomSampler\n",
        "from torchvision import transforms\n",
        "\n",
        "\n",
        "class UnNormalize(object):\n",
        "    def __init__(self, mean, std):\n",
        "        self.mean = mean\n",
        "        self.std = std\n",
        "\n",
        "    def __call__(self, tensor):\n",
        "        \"\"\"\n",
        "        Parameters:\n",
        "        ------------\n",
        "        tensor (Tensor): Tensor image of size (C, H, W) to be normalized.\n",
        "        \n",
        "        Returns:\n",
        "        ------------\n",
        "        Tensor: Normalized image.\n",
        "        \"\"\"\n",
        "        for t, m, s in zip(tensor, self.mean, self.std):\n",
        "            t.mul_(s).add_(m)\n",
        "        return tensor\n",
        "\n",
        "\n",
        "# # def get_dataloaders_mnist(batch_size, num_workers=0,\n",
        "# #                           validation_fraction=None,\n",
        "# #                           train_transforms=None,\n",
        "# #                           test_transforms=None):\n",
        "\n",
        "# #     if train_transforms is None:\n",
        "# #         train_transforms = transforms.ToTensor()\n",
        "\n",
        "# #     if test_transforms is None:\n",
        "# #         test_transforms = transforms.ToTensor()\n",
        "\n",
        "# #     train_dataset = datasets.MNIST(root='data',\n",
        "# #                                    train=True,\n",
        "# #                                    transform=train_transforms,\n",
        "# #                                    download=True)\n",
        "\n",
        "# #     valid_dataset = datasets.MNIST(root='data',\n",
        "# #                                    train=True,\n",
        "# #                                    transform=test_transforms)\n",
        "\n",
        "# #     test_dataset = datasets.MNIST(root='data',\n",
        "# #                                   train=False,\n",
        "# #                                   transform=test_transforms)\n",
        "\n",
        "# #     if validation_fraction is not None:\n",
        "# #         num = int(validation_fraction * 60000)\n",
        "# #         train_indices = torch.arange(0, 60000 - num)\n",
        "# #         valid_indices = torch.arange(60000 - num, 60000)\n",
        "\n",
        "# #         train_sampler = SubsetRandomSampler(train_indices)\n",
        "# #         valid_sampler = SubsetRandomSampler(valid_indices)\n",
        "\n",
        "# #         valid_loader = DataLoader(dataset=valid_dataset,\n",
        "# #                                   batch_size=batch_size,\n",
        "# #                                   num_workers=num_workers,\n",
        "# #                                   sampler=valid_sampler)\n",
        "\n",
        "# #         train_loader = DataLoader(dataset=train_dataset,\n",
        "# #                                   batch_size=batch_size,\n",
        "#                                   num_workers=num_workers,\n",
        "#                                   drop_last=True,\n",
        "#                                   sampler=train_sampler)\n",
        "\n",
        "#     else:\n",
        "#         train_loader = DataLoader(dataset=train_dataset,\n",
        "#                                   batch_size=batch_size,\n",
        "#                                   num_workers=num_workers,\n",
        "#                                   drop_last=True,\n",
        "#                                   shuffle=True)\n",
        "\n",
        "#     test_loader = DataLoader(dataset=test_dataset,\n",
        "#                              batch_size=batch_size,\n",
        "#                              num_workers=num_workers,\n",
        "#                              shuffle=False)\n",
        "\n",
        "#     if validation_fraction is None:\n",
        "#         return train_loader, test_loader\n",
        "#     else:\n",
        "#         return train_loader, valid_loader, test_loader\n",
        "\n",
        "\n",
        "# def get_dataloaders_cifar10(batch_size, num_workers=0,\n",
        "#                             validation_fraction=None,\n",
        "#                             train_transforms=None,\n",
        "#                             test_transforms=None):\n",
        "\n",
        "#     if train_transforms is None:\n",
        "#         train_transforms = transforms.ToTensor()\n",
        "\n",
        "#     if test_transforms is None:\n",
        "#         test_transforms = transforms.ToTensor()\n",
        "\n",
        "#     train_dataset = datasets.CIFAR10(root='data',\n",
        "#                                      train=True,\n",
        "#                                      transform=train_transforms,\n",
        "#                                      download=True)\n",
        "\n",
        "#     valid_dataset = datasets.CIFAR10(root='data',\n",
        "#                                      train=True,\n",
        "#                                      transform=test_transforms)\n",
        "\n",
        "#     test_dataset = datasets.CIFAR10(root='data',\n",
        "#                                     train=False,\n",
        "#                                     transform=test_transforms)\n",
        "\n",
        "#     if validation_fraction is not None:\n",
        "#         num = int(validation_fraction * 50000)\n",
        "#         train_indices = torch.arange(0, 50000 - num)\n",
        "#         valid_indices = torch.arange(50000 - num, 50000)\n",
        "\n",
        "#         train_sampler = SubsetRandomSampler(train_indices)\n",
        "#         valid_sampler = SubsetRandomSampler(valid_indices)\n",
        "\n",
        "#         valid_loader = DataLoader(dataset=valid_dataset,\n",
        "#                                   batch_size=batch_size,\n",
        "#                                   num_workers=num_workers,\n",
        "#                                   sampler=valid_sampler)\n",
        "\n",
        "#         train_loader = DataLoader(dataset=train_dataset,\n",
        "#                                   batch_size=batch_size,\n",
        "#                                   num_workers=num_workers,\n",
        "#                                   drop_last=True,\n",
        "#                                   sampler=train_sampler)\n",
        "\n",
        "#     else:\n",
        "#         train_loader = DataLoader(dataset=train_dataset,\n",
        "#                                   batch_size=batch_size,\n",
        "#                                   num_workers=num_workers,\n",
        "#                                   drop_last=True,\n",
        "#                                   shuffle=True)\n",
        "\n",
        "#     test_loader = DataLoader(dataset=test_dataset,\n",
        "#                              batch_size=batch_size,\n",
        "#                              num_workers=num_workers,\n",
        "#                              shuffle=False)\n",
        "\n",
        "#     if validation_fraction is None:\n",
        "#         return train_loader, test_loader\n",
        "#     else:\n",
        "#         return train_loader, valid_loader, test_loader"
      ],
      "metadata": {
        "id": "AeRlHi3Y9lD0"
      },
      "execution_count": 62,
      "outputs": []
    },
    {
      "cell_type": "code",
      "source": [
        "import torch\n",
        "import torchvision\n",
        "import numpy as np\n",
        "import matplotlib.pyplot as plt"
      ],
      "metadata": {
        "id": "QMAn7rEf9vrs"
      },
      "execution_count": 63,
      "outputs": []
    },
    {
      "cell_type": "code",
      "source": [
        "RANDOM_SEED = 123\n",
        "BATCH_SIZE = 128\n",
        "NUM_EPOCHS = 40\n",
        "DEVICE = torch.device('cuda:0' if torch.cuda.is_available() else 'cpu')"
      ],
      "metadata": {
        "id": "lPicr7Bj99J3"
      },
      "execution_count": 64,
      "outputs": []
    },
    {
      "cell_type": "code",
      "source": [
        "set_all_seeds(RANDOM_SEED)\n",
        "#set_deterministic()"
      ],
      "metadata": {
        "id": "zZru4BqL-Civ"
      },
      "execution_count": 65,
      "outputs": []
    },
    {
      "cell_type": "code",
      "source": [
        "# Checking the dataset\n",
        "for images, labels in train_loader:  \n",
        "    print('Image batch dimensions:', images.shape)\n",
        "    print('Image label dimensions:', labels.shape)\n",
        "    print('Class labels of 10 examples:', labels[:10])\n",
        "    break"
      ],
      "metadata": {
        "colab": {
          "base_uri": "https://localhost:8080/"
        },
        "id": "fH5fr69u-FpJ",
        "outputId": "9413a78e-aba0-4ae7-e2c9-c5991e1777e5"
      },
      "execution_count": 66,
      "outputs": [
        {
          "output_type": "stream",
          "name": "stdout",
          "text": [
            "Image batch dimensions: torch.Size([8, 3, 224, 224])\n",
            "Image label dimensions: torch.Size([8])\n",
            "Class labels of 10 examples: tensor([1, 0, 0, 0, 0, 0, 1, 0])\n"
          ]
        }
      ]
    },
    {
      "cell_type": "code",
      "source": [
        "from torch import nn"
      ],
      "metadata": {
        "id": "4GvDmH7FKHhF"
      },
      "execution_count": 67,
      "outputs": []
    },
    {
      "cell_type": "code",
      "source": [
        "class scratch_vgg19(nn.Module):\n",
        "\t#  Determine what layers and their order in CNN object \n",
        "    def __init__(self):\n",
        "        super(scratch_vgg19, self).__init__()\n",
        "        self.conv_layer1 = nn.Conv2d(3, 64, kernel_size=(3, 3), stride=(1, 1), padding=(1, 1))\n",
        "        self.relu1 = nn.ReLU()\n",
        "        self.max_pool1 = nn.MaxPool2d(kernel_size = 2, stride = 2)\n",
        "\n",
        "        self.conv_layer2 = nn.Conv2d(64, 128, kernel_size=(3, 3), stride=(1, 1), padding=(1, 1))\n",
        "        self.relu2 = nn.ReLU()\n",
        "        self.max_pool2 = nn.MaxPool2d(kernel_size = 2, stride = 2)\n",
        "\n",
        "        self.conv_layer3 = nn.Conv2d(128, 256, kernel_size=(3, 3), stride=(1, 1), padding=(1, 1))\n",
        "        self.relu3 = nn.ReLU()\n",
        "        self.max_pool3 = nn.MaxPool2d(kernel_size = 2, stride = 2)\n",
        "\n",
        "        self.conv_layer4 = nn.Conv2d(256, 512, kernel_size=(3, 3), stride=(1, 1), padding=(1, 1))\n",
        "        self.relu4 = nn.ReLU()\n",
        "        self.max_pool4 = nn.MaxPool2d(kernel_size = 2, stride = 2)\n",
        "\n",
        "        self.flat = nn.Flatten()\n",
        "        self.fc1 = nn.Linear(100352, 4096)\n",
        "        self.fc2 = nn.Linear(4096, 4096)\n",
        "        self.fc3 = nn.Linear(4096, 2)\n",
        "    \n",
        "    def forward(self, x):\n",
        "\n",
        "        out = self.conv_layer1(x)\n",
        "        out = self.relu1(out)\n",
        "        out = self.max_pool1(out)\n",
        "\n",
        "        out = self.conv_layer2(out)\n",
        "        out = self.relu2(out)\n",
        "        out = self.max_pool2(out)\n",
        "                \n",
        "        out = self.conv_layer3(out)\n",
        "        out = self.relu3(out)\n",
        "        out = self.max_pool3(out)\n",
        "        \n",
        "        out = self.conv_layer4(out)\n",
        "        out = self.relu4(out)\n",
        "        out = self.max_pool4(out)\n",
        "        \n",
        "        out = self.flat(out)\n",
        "        out = self.fc1(out)\n",
        "        out = self.fc2(out)\n",
        "        out = self.fc3(out)\n",
        "\n",
        "        return out"
      ],
      "metadata": {
        "id": "hhq54wnoH_TI"
      },
      "execution_count": 68,
      "outputs": []
    },
    {
      "cell_type": "code",
      "source": [
        "model = scratch_vgg19()\n",
        "model"
      ],
      "metadata": {
        "colab": {
          "base_uri": "https://localhost:8080/"
        },
        "id": "ETgsJUyzJpC0",
        "outputId": "85b0382b-8485-4dfc-a2c4-3932eefee9d0"
      },
      "execution_count": 69,
      "outputs": [
        {
          "output_type": "execute_result",
          "data": {
            "text/plain": [
              "scratch_vgg19(\n",
              "  (conv_layer1): Conv2d(3, 64, kernel_size=(3, 3), stride=(1, 1), padding=(1, 1))\n",
              "  (relu1): ReLU()\n",
              "  (max_pool1): MaxPool2d(kernel_size=2, stride=2, padding=0, dilation=1, ceil_mode=False)\n",
              "  (conv_layer2): Conv2d(64, 128, kernel_size=(3, 3), stride=(1, 1), padding=(1, 1))\n",
              "  (relu2): ReLU()\n",
              "  (max_pool2): MaxPool2d(kernel_size=2, stride=2, padding=0, dilation=1, ceil_mode=False)\n",
              "  (conv_layer3): Conv2d(128, 256, kernel_size=(3, 3), stride=(1, 1), padding=(1, 1))\n",
              "  (relu3): ReLU()\n",
              "  (max_pool3): MaxPool2d(kernel_size=2, stride=2, padding=0, dilation=1, ceil_mode=False)\n",
              "  (conv_layer4): Conv2d(256, 512, kernel_size=(3, 3), stride=(1, 1), padding=(1, 1))\n",
              "  (relu4): ReLU()\n",
              "  (max_pool4): MaxPool2d(kernel_size=2, stride=2, padding=0, dilation=1, ceil_mode=False)\n",
              "  (flat): Flatten(start_dim=1, end_dim=-1)\n",
              "  (fc1): Linear(in_features=100352, out_features=4096, bias=True)\n",
              "  (fc2): Linear(in_features=4096, out_features=4096, bias=True)\n",
              "  (fc3): Linear(in_features=4096, out_features=2, bias=True)\n",
              ")"
            ]
          },
          "metadata": {},
          "execution_count": 69
        }
      ]
    },
    {
      "cell_type": "code",
      "source": [
        "# model = torchvision.models.vgg16(pretrained=True)\n",
        "# model"
      ],
      "metadata": {
        "id": "VUFMODyQ-c_l"
      },
      "execution_count": 70,
      "outputs": []
    },
    {
      "cell_type": "code",
      "source": [
        "# for param in model.parameters():\n",
        "#     param.requires_grad = False"
      ],
      "metadata": {
        "id": "tJ-m88Ui-2Zo"
      },
      "execution_count": 71,
      "outputs": []
    },
    {
      "cell_type": "code",
      "source": [
        "# model.classifier[0].requires_grad = True\n",
        "# model.classifier[3].requires_grad = True"
      ],
      "metadata": {
        "id": "UR_wcRiU-7ev"
      },
      "execution_count": 72,
      "outputs": []
    },
    {
      "cell_type": "code",
      "source": [
        "# model.classifier[6] = torch.nn.Linear(4096, 2)"
      ],
      "metadata": {
        "id": "azDk-jkg-_yW"
      },
      "execution_count": 73,
      "outputs": []
    },
    {
      "cell_type": "code",
      "source": [
        "model = model.to(DEVICE)\n",
        "\n",
        "optimizer = torch.optim.SGD(model.parameters(), momentum=0.9, lr=0.01)\n",
        "scheduler = torch.optim.lr_scheduler.ReduceLROnPlateau(optimizer,\n",
        "                                                       factor=0.1,\n",
        "                                                       mode='max',\n",
        "                                                       verbose=True)\n",
        "\n",
        "minibatch_loss_list, train_acc_list, valid_acc_list = train_model(\n",
        "    model=model,\n",
        "    num_epochs=NUM_EPOCHS,\n",
        "    train_loader=train_loader,\n",
        "    valid_loader=valid_loader,\n",
        "    test_loader=test_loader,\n",
        "    optimizer=optimizer,\n",
        "    device=DEVICE,\n",
        "    scheduler=scheduler,\n",
        "    scheduler_on='valid_acc',\n",
        "    logging_interval=100)\n",
        "\n",
        "plot_training_loss(minibatch_loss_list=minibatch_loss_list,\n",
        "                   num_epochs=NUM_EPOCHS,\n",
        "                   iter_per_epoch=len(train_loader),\n",
        "                   results_dir=None,\n",
        "                   averaging_iterations=200)\n",
        "plt.show()\n",
        "\n",
        "plot_accuracy(train_acc_list=train_acc_list,\n",
        "              valid_acc_list=valid_acc_list,\n",
        "              results_dir=None)\n",
        "plt.ylim([60, 100])\n",
        "plt.show()"
      ],
      "metadata": {
        "colab": {
          "base_uri": "https://localhost:8080/",
          "height": 1000
        },
        "id": "GYXj30qs_B3f",
        "outputId": "5d40b859-4673-41e1-fdcb-06400141ef6f"
      },
      "execution_count": 74,
      "outputs": [
        {
          "output_type": "stream",
          "name": "stdout",
          "text": [
            "Epoch: 001/040 | Batch 0000/0835 | Loss: 0.6929\n",
            "Epoch: 001/040 | Batch 0100/0835 | Loss: 0.6625\n",
            "Epoch: 001/040 | Batch 0200/0835 | Loss: 0.5856\n",
            "Epoch: 001/040 | Batch 0300/0835 | Loss: 0.2909\n",
            "Epoch: 001/040 | Batch 0400/0835 | Loss: 0.4469\n",
            "Epoch: 001/040 | Batch 0500/0835 | Loss: 0.5004\n",
            "Epoch: 001/040 | Batch 0600/0835 | Loss: 0.4532\n",
            "Epoch: 001/040 | Batch 0700/0835 | Loss: 0.5385\n",
            "Epoch: 001/040 | Batch 0800/0835 | Loss: 0.3586\n",
            "Epoch: 001/040 | Train: 77.24% | Validation: 77.45%\n",
            "Time elapsed: 26.97 min\n",
            "Epoch: 002/040 | Batch 0000/0835 | Loss: 0.4302\n",
            "Epoch: 002/040 | Batch 0100/0835 | Loss: 0.3939\n",
            "Epoch: 002/040 | Batch 0200/0835 | Loss: 0.2912\n",
            "Epoch: 002/040 | Batch 0300/0835 | Loss: 0.3888\n",
            "Epoch: 002/040 | Batch 0400/0835 | Loss: 0.2631\n",
            "Epoch: 002/040 | Batch 0500/0835 | Loss: 0.3026\n",
            "Epoch: 002/040 | Batch 0600/0835 | Loss: 0.2750\n",
            "Epoch: 002/040 | Batch 0700/0835 | Loss: 0.4944\n",
            "Epoch: 002/040 | Batch 0800/0835 | Loss: 0.6866\n",
            "Epoch: 002/040 | Train: 80.87% | Validation: 82.17%\n",
            "Time elapsed: 36.22 min\n",
            "Epoch: 003/040 | Batch 0000/0835 | Loss: 0.3998\n",
            "Epoch: 003/040 | Batch 0100/0835 | Loss: 0.5770\n",
            "Epoch: 003/040 | Batch 0200/0835 | Loss: 0.1588\n",
            "Epoch: 003/040 | Batch 0300/0835 | Loss: 0.1570\n",
            "Epoch: 003/040 | Batch 0400/0835 | Loss: 0.5188\n",
            "Epoch: 003/040 | Batch 0500/0835 | Loss: 0.3960\n",
            "Epoch: 003/040 | Batch 0600/0835 | Loss: 0.4602\n",
            "Epoch: 003/040 | Batch 0700/0835 | Loss: 0.5637\n",
            "Epoch: 003/040 | Batch 0800/0835 | Loss: 0.1508\n",
            "Epoch: 003/040 | Train: 82.94% | Validation: 83.06%\n",
            "Time elapsed: 46.11 min\n",
            "Epoch: 004/040 | Batch 0000/0835 | Loss: 0.2629\n",
            "Epoch: 004/040 | Batch 0100/0835 | Loss: 0.1417\n",
            "Epoch: 004/040 | Batch 0200/0835 | Loss: 0.4396\n",
            "Epoch: 004/040 | Batch 0300/0835 | Loss: 0.4425\n",
            "Epoch: 004/040 | Batch 0400/0835 | Loss: 0.8894\n",
            "Epoch: 004/040 | Batch 0500/0835 | Loss: 0.1147\n",
            "Epoch: 004/040 | Batch 0600/0835 | Loss: 0.3509\n",
            "Epoch: 004/040 | Batch 0700/0835 | Loss: 0.3324\n",
            "Epoch: 004/040 | Batch 0800/0835 | Loss: 0.1627\n",
            "Epoch: 004/040 | Train: 84.84% | Validation: 86.31%\n",
            "Time elapsed: 56.12 min\n",
            "Epoch: 005/040 | Batch 0000/0835 | Loss: 0.4089\n",
            "Epoch: 005/040 | Batch 0100/0835 | Loss: 0.7214\n",
            "Epoch: 005/040 | Batch 0200/0835 | Loss: 0.1396\n",
            "Epoch: 005/040 | Batch 0300/0835 | Loss: 0.8986\n",
            "Epoch: 005/040 | Batch 0400/0835 | Loss: 0.1862\n",
            "Epoch: 005/040 | Batch 0500/0835 | Loss: 0.6987\n",
            "Epoch: 005/040 | Batch 0600/0835 | Loss: 0.6089\n",
            "Epoch: 005/040 | Batch 0700/0835 | Loss: 0.2865\n",
            "Epoch: 005/040 | Batch 0800/0835 | Loss: 0.2163\n",
            "Epoch: 005/040 | Train: 82.68% | Validation: 81.96%\n",
            "Time elapsed: 65.99 min\n",
            "Epoch: 006/040 | Batch 0000/0835 | Loss: 0.1470\n",
            "Epoch: 006/040 | Batch 0100/0835 | Loss: 0.1221\n",
            "Epoch: 006/040 | Batch 0200/0835 | Loss: 0.1821\n",
            "Epoch: 006/040 | Batch 0300/0835 | Loss: 0.2633\n",
            "Epoch: 006/040 | Batch 0400/0835 | Loss: 0.2566\n",
            "Epoch: 006/040 | Batch 0500/0835 | Loss: 0.6279\n",
            "Epoch: 006/040 | Batch 0600/0835 | Loss: 0.2428\n",
            "Epoch: 006/040 | Batch 0700/0835 | Loss: 0.2868\n",
            "Epoch: 006/040 | Batch 0800/0835 | Loss: 0.0874\n",
            "Epoch: 006/040 | Train: 83.55% | Validation: 84.64%\n",
            "Time elapsed: 74.46 min\n",
            "Epoch: 007/040 | Batch 0000/0835 | Loss: 0.4375\n",
            "Epoch: 007/040 | Batch 0100/0835 | Loss: 0.6034\n",
            "Epoch: 007/040 | Batch 0200/0835 | Loss: 0.4011\n",
            "Epoch: 007/040 | Batch 0300/0835 | Loss: 0.3349\n",
            "Epoch: 007/040 | Batch 0400/0835 | Loss: 0.2450\n",
            "Epoch: 007/040 | Batch 0500/0835 | Loss: 0.3703\n",
            "Epoch: 007/040 | Batch 0600/0835 | Loss: 0.2643\n",
            "Epoch: 007/040 | Batch 0700/0835 | Loss: 0.2598\n",
            "Epoch: 007/040 | Batch 0800/0835 | Loss: 0.3401\n",
            "Epoch: 007/040 | Train: 88.12% | Validation: 87.62%\n",
            "Time elapsed: 83.06 min\n",
            "Epoch: 008/040 | Batch 0000/0835 | Loss: 0.4312\n",
            "Epoch: 008/040 | Batch 0100/0835 | Loss: 0.4988\n",
            "Epoch: 008/040 | Batch 0200/0835 | Loss: 0.3274\n",
            "Epoch: 008/040 | Batch 0300/0835 | Loss: 0.5357\n",
            "Epoch: 008/040 | Batch 0400/0835 | Loss: 0.3222\n",
            "Epoch: 008/040 | Batch 0500/0835 | Loss: 0.3042\n",
            "Epoch: 008/040 | Batch 0600/0835 | Loss: 0.1647\n",
            "Epoch: 008/040 | Batch 0700/0835 | Loss: 0.0635\n",
            "Epoch: 008/040 | Batch 0800/0835 | Loss: 0.3904\n",
            "Epoch: 008/040 | Train: 87.30% | Validation: 86.16%\n",
            "Time elapsed: 92.99 min\n",
            "Epoch: 009/040 | Batch 0000/0835 | Loss: 0.1238\n",
            "Epoch: 009/040 | Batch 0100/0835 | Loss: 0.3267\n",
            "Epoch: 009/040 | Batch 0200/0835 | Loss: 0.2394\n",
            "Epoch: 009/040 | Batch 0300/0835 | Loss: 0.1230\n",
            "Epoch: 009/040 | Batch 0400/0835 | Loss: 0.2453\n",
            "Epoch: 009/040 | Batch 0500/0835 | Loss: 0.0478\n",
            "Epoch: 009/040 | Batch 0600/0835 | Loss: 0.1393\n",
            "Epoch: 009/040 | Batch 0700/0835 | Loss: 0.0338\n",
            "Epoch: 009/040 | Batch 0800/0835 | Loss: 0.2537\n",
            "Epoch: 009/040 | Train: 88.24% | Validation: 87.52%\n",
            "Time elapsed: 101.52 min\n",
            "Epoch: 010/040 | Batch 0000/0835 | Loss: 0.0723\n",
            "Epoch: 010/040 | Batch 0100/0835 | Loss: 0.1022\n",
            "Epoch: 010/040 | Batch 0200/0835 | Loss: 0.2920\n",
            "Epoch: 010/040 | Batch 0300/0835 | Loss: 0.4690\n",
            "Epoch: 010/040 | Batch 0400/0835 | Loss: 0.2894\n",
            "Epoch: 010/040 | Batch 0500/0835 | Loss: 0.3283\n",
            "Epoch: 010/040 | Batch 0600/0835 | Loss: 0.4541\n",
            "Epoch: 010/040 | Batch 0700/0835 | Loss: 0.3772\n",
            "Epoch: 010/040 | Batch 0800/0835 | Loss: 0.4532\n",
            "Epoch: 010/040 | Train: 88.90% | Validation: 86.84%\n",
            "Time elapsed: 109.99 min\n",
            "Epoch: 011/040 | Batch 0000/0835 | Loss: 0.2554\n",
            "Epoch: 011/040 | Batch 0100/0835 | Loss: 0.1347\n",
            "Epoch: 011/040 | Batch 0200/0835 | Loss: 0.3580\n",
            "Epoch: 011/040 | Batch 0300/0835 | Loss: 0.2866\n",
            "Epoch: 011/040 | Batch 0400/0835 | Loss: 0.2624\n",
            "Epoch: 011/040 | Batch 0500/0835 | Loss: 0.4003\n",
            "Epoch: 011/040 | Batch 0600/0835 | Loss: 0.1966\n",
            "Epoch: 011/040 | Batch 0700/0835 | Loss: 0.6004\n",
            "Epoch: 011/040 | Batch 0800/0835 | Loss: 0.2470\n",
            "Epoch: 011/040 | Train: 86.41% | Validation: 85.06%\n",
            "Time elapsed: 118.43 min\n",
            "Epoch: 012/040 | Batch 0000/0835 | Loss: 1.1465\n",
            "Epoch: 012/040 | Batch 0100/0835 | Loss: 0.1982\n",
            "Epoch: 012/040 | Batch 0200/0835 | Loss: 0.6204\n",
            "Epoch: 012/040 | Batch 0300/0835 | Loss: 0.1641\n",
            "Epoch: 012/040 | Batch 0400/0835 | Loss: 0.1053\n",
            "Epoch: 012/040 | Batch 0500/0835 | Loss: 0.2159\n",
            "Epoch: 012/040 | Batch 0600/0835 | Loss: 0.2386\n",
            "Epoch: 012/040 | Batch 0700/0835 | Loss: 0.2526\n",
            "Epoch: 012/040 | Batch 0800/0835 | Loss: 0.4000\n",
            "Epoch: 012/040 | Train: 90.59% | Validation: 88.88%\n",
            "Time elapsed: 126.87 min\n",
            "Epoch: 013/040 | Batch 0000/0835 | Loss: 0.2748\n",
            "Epoch: 013/040 | Batch 0100/0835 | Loss: 0.2868\n",
            "Epoch: 013/040 | Batch 0200/0835 | Loss: 0.1342\n",
            "Epoch: 013/040 | Batch 0300/0835 | Loss: 0.0330\n",
            "Epoch: 013/040 | Batch 0400/0835 | Loss: 0.1632\n",
            "Epoch: 013/040 | Batch 0500/0835 | Loss: 0.6845\n",
            "Epoch: 013/040 | Batch 0600/0835 | Loss: 0.2828\n",
            "Epoch: 013/040 | Batch 0700/0835 | Loss: 0.3165\n",
            "Epoch: 013/040 | Batch 0800/0835 | Loss: 0.4747\n",
            "Epoch: 013/040 | Train: 89.32% | Validation: 88.67%\n",
            "Time elapsed: 136.21 min\n",
            "Epoch: 014/040 | Batch 0000/0835 | Loss: 0.3686\n",
            "Epoch: 014/040 | Batch 0100/0835 | Loss: 0.1370\n",
            "Epoch: 014/040 | Batch 0200/0835 | Loss: 0.1275\n",
            "Epoch: 014/040 | Batch 0300/0835 | Loss: 0.1927\n",
            "Epoch: 014/040 | Batch 0400/0835 | Loss: 0.0203\n",
            "Epoch: 014/040 | Batch 0500/0835 | Loss: 0.2180\n",
            "Epoch: 014/040 | Batch 0600/0835 | Loss: 0.3388\n",
            "Epoch: 014/040 | Batch 0700/0835 | Loss: 0.3138\n",
            "Epoch: 014/040 | Batch 0800/0835 | Loss: 0.2518\n",
            "Epoch: 014/040 | Train: 90.55% | Validation: 88.67%\n",
            "Time elapsed: 144.42 min\n",
            "Epoch: 015/040 | Batch 0000/0835 | Loss: 0.7517\n",
            "Epoch: 015/040 | Batch 0100/0835 | Loss: 0.0455\n",
            "Epoch: 015/040 | Batch 0200/0835 | Loss: 0.0019\n",
            "Epoch: 015/040 | Batch 0300/0835 | Loss: 0.1876\n",
            "Epoch: 015/040 | Batch 0400/0835 | Loss: 0.2427\n",
            "Epoch: 015/040 | Batch 0500/0835 | Loss: 0.2216\n",
            "Epoch: 015/040 | Batch 0600/0835 | Loss: 0.1227\n",
            "Epoch: 015/040 | Batch 0700/0835 | Loss: 0.0219\n",
            "Epoch: 015/040 | Batch 0800/0835 | Loss: 0.1107\n",
            "Epoch: 015/040 | Train: 86.86% | Validation: 85.58%\n",
            "Time elapsed: 152.65 min\n",
            "Epoch: 016/040 | Batch 0000/0835 | Loss: 0.3545\n",
            "Epoch: 016/040 | Batch 0100/0835 | Loss: 0.0222\n",
            "Epoch: 016/040 | Batch 0200/0835 | Loss: 0.2948\n",
            "Epoch: 016/040 | Batch 0300/0835 | Loss: 0.1945\n",
            "Epoch: 016/040 | Batch 0400/0835 | Loss: 0.1119\n",
            "Epoch: 016/040 | Batch 0500/0835 | Loss: 0.1150\n",
            "Epoch: 016/040 | Batch 0600/0835 | Loss: 0.2285\n",
            "Epoch: 016/040 | Batch 0700/0835 | Loss: 0.1697\n",
            "Epoch: 016/040 | Batch 0800/0835 | Loss: 0.1131\n",
            "Epoch: 016/040 | Train: 91.12% | Validation: 88.62%\n",
            "Time elapsed: 160.89 min\n",
            "Epoch: 017/040 | Batch 0000/0835 | Loss: 0.4386\n",
            "Epoch: 017/040 | Batch 0100/0835 | Loss: 0.2344\n",
            "Epoch: 017/040 | Batch 0200/0835 | Loss: 0.3500\n",
            "Epoch: 017/040 | Batch 0300/0835 | Loss: 0.5646\n",
            "Epoch: 017/040 | Batch 0400/0835 | Loss: 0.1912\n",
            "Epoch: 017/040 | Batch 0500/0835 | Loss: 0.1109\n",
            "Epoch: 017/040 | Batch 0600/0835 | Loss: 0.1160\n",
            "Epoch: 017/040 | Batch 0700/0835 | Loss: 0.4654\n",
            "Epoch: 017/040 | Batch 0800/0835 | Loss: 0.2331\n",
            "Epoch: 017/040 | Train: 92.04% | Validation: 90.51%\n",
            "Time elapsed: 169.32 min\n",
            "Epoch: 018/040 | Batch 0000/0835 | Loss: 0.1352\n",
            "Epoch: 018/040 | Batch 0100/0835 | Loss: 0.0917\n",
            "Epoch: 018/040 | Batch 0200/0835 | Loss: 0.4322\n",
            "Epoch: 018/040 | Batch 0300/0835 | Loss: 0.1368\n",
            "Epoch: 018/040 | Batch 0400/0835 | Loss: 0.4527\n",
            "Epoch: 018/040 | Batch 0500/0835 | Loss: 0.0301\n",
            "Epoch: 018/040 | Batch 0600/0835 | Loss: 0.0406\n",
            "Epoch: 018/040 | Batch 0700/0835 | Loss: 0.5244\n",
            "Epoch: 018/040 | Batch 0800/0835 | Loss: 0.3454\n",
            "Epoch: 018/040 | Train: 91.45% | Validation: 90.46%\n",
            "Time elapsed: 178.53 min\n",
            "Epoch: 019/040 | Batch 0000/0835 | Loss: 0.1736\n",
            "Epoch: 019/040 | Batch 0100/0835 | Loss: 0.0473\n",
            "Epoch: 019/040 | Batch 0200/0835 | Loss: 0.4038\n",
            "Epoch: 019/040 | Batch 0300/0835 | Loss: 0.0464\n",
            "Epoch: 019/040 | Batch 0400/0835 | Loss: 0.0440\n",
            "Epoch: 019/040 | Batch 0500/0835 | Loss: 0.3226\n",
            "Epoch: 019/040 | Batch 0600/0835 | Loss: 0.2086\n",
            "Epoch: 019/040 | Batch 0700/0835 | Loss: 0.5877\n",
            "Epoch: 019/040 | Batch 0800/0835 | Loss: 0.3697\n",
            "Epoch: 019/040 | Train: 92.21% | Validation: 90.09%\n",
            "Time elapsed: 186.75 min\n",
            "Epoch: 020/040 | Batch 0000/0835 | Loss: 0.1219\n",
            "Epoch: 020/040 | Batch 0100/0835 | Loss: 0.6922\n",
            "Epoch: 020/040 | Batch 0200/0835 | Loss: 0.1113\n",
            "Epoch: 020/040 | Batch 0300/0835 | Loss: 0.5131\n",
            "Epoch: 020/040 | Batch 0400/0835 | Loss: 0.0218\n",
            "Epoch: 020/040 | Batch 0500/0835 | Loss: 0.0228\n",
            "Epoch: 020/040 | Batch 0600/0835 | Loss: 0.0807\n",
            "Epoch: 020/040 | Batch 0700/0835 | Loss: 0.0777\n",
            "Epoch: 020/040 | Batch 0800/0835 | Loss: 0.1802\n",
            "Epoch: 020/040 | Train: 87.51% | Validation: 86.73%\n",
            "Time elapsed: 195.00 min\n",
            "Epoch: 021/040 | Batch 0000/0835 | Loss: 0.3829\n",
            "Epoch: 021/040 | Batch 0100/0835 | Loss: 0.0410\n",
            "Epoch: 021/040 | Batch 0200/0835 | Loss: 0.1661\n",
            "Epoch: 021/040 | Batch 0300/0835 | Loss: 0.1695\n",
            "Epoch: 021/040 | Batch 0400/0835 | Loss: 0.5868\n",
            "Epoch: 021/040 | Batch 0500/0835 | Loss: 0.0608\n",
            "Epoch: 021/040 | Batch 0600/0835 | Loss: 0.0415\n",
            "Epoch: 021/040 | Batch 0700/0835 | Loss: 0.3891\n",
            "Epoch: 021/040 | Batch 0800/0835 | Loss: 0.0365\n",
            "Epoch: 021/040 | Train: 93.59% | Validation: 91.24%\n",
            "Time elapsed: 203.43 min\n",
            "Epoch: 022/040 | Batch 0000/0835 | Loss: 0.0291\n",
            "Epoch: 022/040 | Batch 0100/0835 | Loss: 0.4258\n",
            "Epoch: 022/040 | Batch 0200/0835 | Loss: 0.3950\n",
            "Epoch: 022/040 | Batch 0300/0835 | Loss: 0.1729\n",
            "Epoch: 022/040 | Batch 0400/0835 | Loss: 0.0382\n",
            "Epoch: 022/040 | Batch 0500/0835 | Loss: 0.0603\n",
            "Epoch: 022/040 | Batch 0600/0835 | Loss: 0.5701\n",
            "Epoch: 022/040 | Batch 0700/0835 | Loss: 0.4535\n",
            "Epoch: 022/040 | Batch 0800/0835 | Loss: 0.1108\n",
            "Epoch: 022/040 | Train: 84.94% | Validation: 84.27%\n",
            "Time elapsed: 212.57 min\n",
            "Epoch: 023/040 | Batch 0000/0835 | Loss: 0.1764\n",
            "Epoch: 023/040 | Batch 0100/0835 | Loss: 0.0221\n",
            "Epoch: 023/040 | Batch 0200/0835 | Loss: 0.0322\n",
            "Epoch: 023/040 | Batch 0300/0835 | Loss: 0.2895\n",
            "Epoch: 023/040 | Batch 0400/0835 | Loss: 0.4690\n",
            "Epoch: 023/040 | Batch 0500/0835 | Loss: 0.0287\n",
            "Epoch: 023/040 | Batch 0600/0835 | Loss: 0.0281\n",
            "Epoch: 023/040 | Batch 0700/0835 | Loss: 0.1182\n",
            "Epoch: 023/040 | Batch 0800/0835 | Loss: 0.0917\n",
            "Epoch: 023/040 | Train: 92.69% | Validation: 90.35%\n",
            "Time elapsed: 220.83 min\n",
            "Epoch: 024/040 | Batch 0000/0835 | Loss: 0.1921\n",
            "Epoch: 024/040 | Batch 0100/0835 | Loss: 0.0862\n",
            "Epoch: 024/040 | Batch 0200/0835 | Loss: 0.0125\n",
            "Epoch: 024/040 | Batch 0300/0835 | Loss: 0.0487\n",
            "Epoch: 024/040 | Batch 0400/0835 | Loss: 0.2667\n",
            "Epoch: 024/040 | Batch 0500/0835 | Loss: 0.3309\n",
            "Epoch: 024/040 | Batch 0600/0835 | Loss: 0.0598\n",
            "Epoch: 024/040 | Batch 0700/0835 | Loss: 0.0082\n",
            "Epoch: 024/040 | Batch 0800/0835 | Loss: 0.2151\n",
            "Epoch: 024/040 | Train: 91.63% | Validation: 89.88%\n",
            "Time elapsed: 229.09 min\n",
            "Epoch: 025/040 | Batch 0000/0835 | Loss: 0.1940\n",
            "Epoch: 025/040 | Batch 0100/0835 | Loss: 0.0332\n",
            "Epoch: 025/040 | Batch 0200/0835 | Loss: 0.0225\n",
            "Epoch: 025/040 | Batch 0300/0835 | Loss: 0.0272\n",
            "Epoch: 025/040 | Batch 0400/0835 | Loss: 0.2708\n",
            "Epoch: 025/040 | Batch 0500/0835 | Loss: 0.1670\n",
            "Epoch: 025/040 | Batch 0600/0835 | Loss: 0.1824\n",
            "Epoch: 025/040 | Batch 0700/0835 | Loss: 0.0283\n",
            "Epoch: 025/040 | Batch 0800/0835 | Loss: 0.1211\n",
            "Epoch: 025/040 | Train: 91.84% | Validation: 88.78%\n",
            "Time elapsed: 237.35 min\n",
            "Epoch: 026/040 | Batch 0000/0835 | Loss: 0.1964\n",
            "Epoch: 026/040 | Batch 0100/0835 | Loss: 0.1064\n",
            "Epoch: 026/040 | Batch 0200/0835 | Loss: 1.0005\n",
            "Epoch: 026/040 | Batch 0300/0835 | Loss: 0.1885\n",
            "Epoch: 026/040 | Batch 0400/0835 | Loss: 0.1784\n",
            "Epoch: 026/040 | Batch 0500/0835 | Loss: 0.0229\n",
            "Epoch: 026/040 | Batch 0600/0835 | Loss: 0.0225\n",
            "Epoch: 026/040 | Batch 0700/0835 | Loss: 0.0798\n",
            "Epoch: 026/040 | Batch 0800/0835 | Loss: 0.2715\n",
            "Epoch: 026/040 | Train: 91.04% | Validation: 88.78%\n",
            "Time elapsed: 245.60 min\n",
            "Epoch: 027/040 | Batch 0000/0835 | Loss: 0.0769\n",
            "Epoch: 027/040 | Batch 0100/0835 | Loss: 0.2773\n",
            "Epoch: 027/040 | Batch 0200/0835 | Loss: 0.2084\n",
            "Epoch: 027/040 | Batch 0300/0835 | Loss: 0.1019\n",
            "Epoch: 027/040 | Batch 0400/0835 | Loss: 0.3234\n",
            "Epoch: 027/040 | Batch 0500/0835 | Loss: 0.3566\n",
            "Epoch: 027/040 | Batch 0600/0835 | Loss: 0.0263\n",
            "Epoch: 027/040 | Batch 0700/0835 | Loss: 0.1739\n",
            "Epoch: 027/040 | Batch 0800/0835 | Loss: 0.1079\n",
            "Epoch: 027/040 | Train: 93.38% | Validation: 89.72%\n",
            "Time elapsed: 253.84 min\n",
            "Epoch: 028/040 | Batch 0000/0835 | Loss: 0.3947\n",
            "Epoch: 028/040 | Batch 0100/0835 | Loss: 0.2053\n",
            "Epoch: 028/040 | Batch 0200/0835 | Loss: 0.0003\n",
            "Epoch: 028/040 | Batch 0300/0835 | Loss: 0.4635\n",
            "Epoch: 028/040 | Batch 0400/0835 | Loss: 0.1823\n",
            "Epoch: 028/040 | Batch 0500/0835 | Loss: 0.5672\n",
            "Epoch: 028/040 | Batch 0600/0835 | Loss: 0.1749\n",
            "Epoch: 028/040 | Batch 0700/0835 | Loss: 0.0021\n",
            "Epoch: 028/040 | Batch 0800/0835 | Loss: 0.4976\n",
            "Epoch: 028/040 | Train: 92.87% | Validation: 91.03%\n",
            "Time elapsed: 262.09 min\n",
            "Epoch: 029/040 | Batch 0000/0835 | Loss: 0.1144\n",
            "Epoch: 029/040 | Batch 0100/0835 | Loss: 0.0877\n",
            "Epoch: 029/040 | Batch 0200/0835 | Loss: 0.1847\n",
            "Epoch: 029/040 | Batch 0300/0835 | Loss: 0.0319\n",
            "Epoch: 029/040 | Batch 0400/0835 | Loss: 0.1802\n",
            "Epoch: 029/040 | Batch 0500/0835 | Loss: 0.0645\n",
            "Epoch: 029/040 | Batch 0600/0835 | Loss: 0.0206\n",
            "Epoch: 029/040 | Batch 0700/0835 | Loss: 0.2206\n",
            "Epoch: 029/040 | Batch 0800/0835 | Loss: 0.0940\n",
            "Epoch: 029/040 | Train: 95.37% | Validation: 92.61%\n",
            "Time elapsed: 270.51 min\n",
            "Epoch: 030/040 | Batch 0000/0835 | Loss: 0.1574\n",
            "Epoch: 030/040 | Batch 0100/0835 | Loss: 0.0050\n",
            "Epoch: 030/040 | Batch 0200/0835 | Loss: 0.0034\n",
            "Epoch: 030/040 | Batch 0300/0835 | Loss: 0.1548\n",
            "Epoch: 030/040 | Batch 0400/0835 | Loss: 0.2397\n",
            "Epoch: 030/040 | Batch 0500/0835 | Loss: 0.0229\n",
            "Epoch: 030/040 | Batch 0600/0835 | Loss: 0.0095\n",
            "Epoch: 030/040 | Batch 0700/0835 | Loss: 0.0778\n",
            "Epoch: 030/040 | Batch 0800/0835 | Loss: 0.0567\n",
            "Epoch: 030/040 | Train: 95.34% | Validation: 92.97%\n",
            "Time elapsed: 279.76 min\n",
            "Epoch: 031/040 | Batch 0000/0835 | Loss: 0.0489\n",
            "Epoch: 031/040 | Batch 0100/0835 | Loss: 0.0520\n",
            "Epoch: 031/040 | Batch 0200/0835 | Loss: 0.4205\n",
            "Epoch: 031/040 | Batch 0300/0835 | Loss: 0.2907\n",
            "Epoch: 031/040 | Batch 0400/0835 | Loss: 0.0884\n",
            "Epoch: 031/040 | Batch 0500/0835 | Loss: 0.0101\n",
            "Epoch: 031/040 | Batch 0600/0835 | Loss: 0.0314\n",
            "Epoch: 031/040 | Batch 0700/0835 | Loss: 0.0228\n",
            "Epoch: 031/040 | Batch 0800/0835 | Loss: 0.1505\n",
            "Epoch: 031/040 | Train: 92.52% | Validation: 89.46%\n",
            "Time elapsed: 288.95 min\n",
            "Epoch: 032/040 | Batch 0000/0835 | Loss: 0.5366\n",
            "Epoch: 032/040 | Batch 0100/0835 | Loss: 0.4430\n",
            "Epoch: 032/040 | Batch 0200/0835 | Loss: 0.1231\n",
            "Epoch: 032/040 | Batch 0300/0835 | Loss: 0.1126\n",
            "Epoch: 032/040 | Batch 0400/0835 | Loss: 0.0026\n",
            "Epoch: 032/040 | Batch 0500/0835 | Loss: 0.0698\n",
            "Epoch: 032/040 | Batch 0600/0835 | Loss: 0.2414\n",
            "Epoch: 032/040 | Batch 0700/0835 | Loss: 0.5554\n",
            "Epoch: 032/040 | Batch 0800/0835 | Loss: 0.2842\n",
            "Epoch: 032/040 | Train: 95.45% | Validation: 93.34%\n",
            "Time elapsed: 297.37 min\n",
            "Epoch: 033/040 | Batch 0000/0835 | Loss: 0.8230\n",
            "Epoch: 033/040 | Batch 0100/0835 | Loss: 0.0554\n",
            "Epoch: 033/040 | Batch 0200/0835 | Loss: 0.0167\n",
            "Epoch: 033/040 | Batch 0300/0835 | Loss: 1.6871\n",
            "Epoch: 033/040 | Batch 0400/0835 | Loss: 0.0676\n",
            "Epoch: 033/040 | Batch 0500/0835 | Loss: 0.3037\n",
            "Epoch: 033/040 | Batch 0600/0835 | Loss: 0.0055\n",
            "Epoch: 033/040 | Batch 0700/0835 | Loss: 1.0549\n",
            "Epoch: 033/040 | Batch 0800/0835 | Loss: 0.0824\n",
            "Epoch: 033/040 | Train: 95.31% | Validation: 91.92%\n",
            "Time elapsed: 306.38 min\n",
            "Epoch: 034/040 | Batch 0000/0835 | Loss: 0.0982\n",
            "Epoch: 034/040 | Batch 0100/0835 | Loss: 0.0452\n",
            "Epoch: 034/040 | Batch 0200/0835 | Loss: 0.0117\n",
            "Epoch: 034/040 | Batch 0300/0835 | Loss: 0.1825\n",
            "Epoch: 034/040 | Batch 0400/0835 | Loss: 0.0712\n",
            "Epoch: 034/040 | Batch 0500/0835 | Loss: 0.3010\n",
            "Epoch: 034/040 | Batch 0600/0835 | Loss: 0.0032\n",
            "Epoch: 034/040 | Batch 0700/0835 | Loss: 0.0973\n",
            "Epoch: 034/040 | Batch 0800/0835 | Loss: 0.1032\n",
            "Epoch: 034/040 | Train: 94.91% | Validation: 92.34%\n",
            "Time elapsed: 314.60 min\n",
            "Epoch: 035/040 | Batch 0000/0835 | Loss: 0.4161\n",
            "Epoch: 035/040 | Batch 0100/0835 | Loss: 0.2024\n",
            "Epoch: 035/040 | Batch 0200/0835 | Loss: 0.0443\n",
            "Epoch: 035/040 | Batch 0300/0835 | Loss: 0.3024\n",
            "Epoch: 035/040 | Batch 0400/0835 | Loss: 0.0430\n",
            "Epoch: 035/040 | Batch 0500/0835 | Loss: 0.0358\n",
            "Epoch: 035/040 | Batch 0600/0835 | Loss: 0.6297\n",
            "Epoch: 035/040 | Batch 0700/0835 | Loss: 0.2232\n",
            "Epoch: 035/040 | Batch 0800/0835 | Loss: 0.0371\n",
            "Epoch: 035/040 | Train: 95.90% | Validation: 91.87%\n",
            "Time elapsed: 322.86 min\n",
            "Epoch: 036/040 | Batch 0000/0835 | Loss: 0.4610\n",
            "Epoch: 036/040 | Batch 0100/0835 | Loss: 0.0097\n",
            "Epoch: 036/040 | Batch 0200/0835 | Loss: 0.0148\n",
            "Epoch: 036/040 | Batch 0300/0835 | Loss: 0.0102\n",
            "Epoch: 036/040 | Batch 0400/0835 | Loss: 0.0231\n",
            "Epoch: 036/040 | Batch 0500/0835 | Loss: 0.0351\n",
            "Epoch: 036/040 | Batch 0600/0835 | Loss: 0.0192\n",
            "Epoch: 036/040 | Batch 0700/0835 | Loss: 0.0151\n",
            "Epoch: 036/040 | Batch 0800/0835 | Loss: 0.1580\n",
            "Epoch: 036/040 | Train: 91.70% | Validation: 88.94%\n",
            "Time elapsed: 331.14 min\n",
            "Epoch: 037/040 | Batch 0000/0835 | Loss: 0.6138\n",
            "Epoch: 037/040 | Batch 0100/0835 | Loss: 0.0147\n",
            "Epoch: 037/040 | Batch 0200/0835 | Loss: 0.0205\n",
            "Epoch: 037/040 | Batch 0300/0835 | Loss: 0.0007\n",
            "Epoch: 037/040 | Batch 0400/0835 | Loss: 0.2534\n",
            "Epoch: 037/040 | Batch 0500/0835 | Loss: 0.7280\n",
            "Epoch: 037/040 | Batch 0600/0835 | Loss: 0.0822\n",
            "Epoch: 037/040 | Batch 0700/0835 | Loss: 0.0724\n",
            "Epoch: 037/040 | Batch 0800/0835 | Loss: 0.0259\n",
            "Epoch: 037/040 | Train: 95.06% | Validation: 91.66%\n",
            "Time elapsed: 339.93 min\n",
            "Epoch: 038/040 | Batch 0000/0835 | Loss: 0.0537\n",
            "Epoch: 038/040 | Batch 0100/0835 | Loss: 0.1069\n",
            "Epoch: 038/040 | Batch 0200/0835 | Loss: 0.0493\n",
            "Epoch: 038/040 | Batch 0300/0835 | Loss: 0.0212\n",
            "Epoch: 038/040 | Batch 0400/0835 | Loss: 0.0520\n",
            "Epoch: 038/040 | Batch 0500/0835 | Loss: 0.0002\n",
            "Epoch: 038/040 | Batch 0600/0835 | Loss: 1.3040\n",
            "Epoch: 038/040 | Batch 0700/0835 | Loss: 0.0151\n",
            "Epoch: 038/040 | Batch 0800/0835 | Loss: 0.0123\n",
            "Epoch: 038/040 | Train: 93.26% | Validation: 90.98%\n",
            "Time elapsed: 348.27 min\n",
            "Epoch: 039/040 | Batch 0000/0835 | Loss: 0.8005\n",
            "Epoch: 039/040 | Batch 0100/0835 | Loss: 0.0036\n",
            "Epoch: 039/040 | Batch 0200/0835 | Loss: 0.1374\n",
            "Epoch: 039/040 | Batch 0300/0835 | Loss: 0.0456\n",
            "Epoch: 039/040 | Batch 0400/0835 | Loss: 0.0042\n",
            "Epoch: 039/040 | Batch 0500/0835 | Loss: 0.0234\n",
            "Epoch: 039/040 | Batch 0600/0835 | Loss: 0.2348\n",
            "Epoch: 039/040 | Batch 0700/0835 | Loss: 0.2494\n",
            "Epoch: 039/040 | Batch 0800/0835 | Loss: 0.6555\n",
            "Epoch: 039/040 | Train: 94.59% | Validation: 92.24%\n",
            "Time elapsed: 356.51 min\n",
            "Epoch: 040/040 | Batch 0000/0835 | Loss: 0.1966\n",
            "Epoch: 040/040 | Batch 0100/0835 | Loss: 0.0083\n",
            "Epoch: 040/040 | Batch 0200/0835 | Loss: 1.1216\n",
            "Epoch: 040/040 | Batch 0300/0835 | Loss: 0.0919\n",
            "Epoch: 040/040 | Batch 0400/0835 | Loss: 0.1273\n",
            "Epoch: 040/040 | Batch 0500/0835 | Loss: 0.1502\n",
            "Epoch: 040/040 | Batch 0600/0835 | Loss: 0.0055\n",
            "Epoch: 040/040 | Batch 0700/0835 | Loss: 0.0124\n",
            "Epoch: 040/040 | Batch 0800/0835 | Loss: 0.3542\n",
            "Epoch: 040/040 | Train: 92.64% | Validation: 89.51%\n",
            "Time elapsed: 364.79 min\n",
            "Total Training Time: 364.79 min\n",
            "Test accuracy 89.11%\n"
          ]
        },
        {
          "output_type": "display_data",
          "data": {
            "text/plain": [
              "<Figure size 432x288 with 2 Axes>"
            ],
            "image/png": "[encoded data removed]"
          },
          "metadata": {
            "needs_background": "light"
          }
        },
        {
          "output_type": "display_data",
          "data": {
            "text/plain": [
              "<Figure size 432x288 with 1 Axes>"
            ],
            "image/png": "[encoded data removed]"
          },
          "metadata": {
            "needs_background": "light"
          }
        }
      ]
    },
    {
      "cell_type": "code",
      "source": [
        "torch.save(model.state_dict(), '/content/drive/MyDrive/PRML Project/covid 19/weights/m1/vgg16_13_04_only_linear_layers.pth')"
      ],
      "metadata": {
        "id": "Dx3CyfxIOUB8"
      },
      "execution_count": null,
      "outputs": []
    },
    {
      "cell_type": "code",
      "source": [
        "model.cpu()\n",
        "unnormalizer = UnNormalize(mean, std)\n",
        "class_dict = {0: 'Covid',\n",
        "              1: 'Non-Covid'}\n",
        "show_examples(model=model, data_loader=test_loader, unnormalizer=unnormalizer, class_dict=class_dict)"
      ],
      "metadata": {
        "id": "BCO2UrOtN4jl",
        "colab": {
          "base_uri": "https://localhost:8080/",
          "height": 116
        },
        "outputId": "d1635502-f339-4159-ce3f-50c32c7eb3a3"
      },
      "execution_count": 78,
      "outputs": [
        {
          "output_type": "display_data",
          "data": {
            "text/plain": [
              "<Figure size 432x288 with 5 Axes>"
            ],
            "image/png": "[encoded data removed]"
          },
          "metadata": {
            "needs_background": "light"
          }
        }
      ]
    },
    {
      "cell_type": "code",
      "source": [
        "mat = compute_confusion_matrix(model=model, data_loader=test_loader, device=torch.device('cpu'))\n",
        "plot_confusion_matrix(mat, class_names=class_dict.values())\n",
        "plt.show()"
      ],
      "metadata": {
        "id": "qOK3Vrz0N5UJ",
        "colab": {
          "base_uri": "https://localhost:8080/",
          "height": 321
        },
        "outputId": "63ccae5a-4270-4655-ed00-b21bb7883662"
      },
      "execution_count": 76,
      "outputs": [
        {
          "output_type": "display_data",
          "data": {
            "text/plain": [
              "<Figure size 432x288 with 1 Axes>"
            ],
            "image/png": "[encoded data removed]"
          },
          "metadata": {
            "needs_background": "light"
          }
        }
      ]
    },
    {
      "cell_type": "markdown",
      "source": [
        "Evaluation Metrics:"
      ],
      "metadata": {
        "id": "C3lxdaygD3LM"
      }
    },
    {
      "cell_type": "markdown",
      "source": [
        "![image.png](data:image/png;base64,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)"
      ],
      "metadata": {
        "id": "dCZIrf1HD6Lb"
      }
    }
  ]
}
