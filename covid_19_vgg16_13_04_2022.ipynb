{
  "nbformat": 4,
  "nbformat_minor": 0,
  "metadata": {
    "colab": {
      "name": "covid_19_vgg16_13_04_2022.ipynb",
      "provenance": [],
      "collapsed_sections": []
    },
    "kernelspec": {
      "name": "python3",
      "display_name": "Python 3"
    },
    "language_info": {
      "name": "python"
    },
    "accelerator": "GPU"
  },
  "cells": [
    {
      "cell_type": "code",
      "source": [
        "from google.colab import drive\n",
        "drive.mount('/content/drive')"
      ],
      "metadata": {
        "colab": {
          "base_uri": "https://localhost:8080/"
        },
        "id": "Dzs52y-986Gi",
        "outputId": "7ce232d3-c0e9-47cb-819f-9b7ade37e7fa"
      },
      "execution_count": 1,
      "outputs": [
        {
          "output_type": "stream",
          "name": "stdout",
          "text": [
            "Mounted at /content/drive\n"
          ]
        }
      ]
    },
    {
      "cell_type": "code",
      "source": [
        "import numpy as np\n",
        "import pandas as pd\n",
        "import matplotlib.pyplot as plt\n",
        "import seaborn as sns"
      ],
      "metadata": {
        "id": "R00QK97LIK6i"
      },
      "execution_count": 2,
      "outputs": []
    },
    {
      "cell_type": "code",
      "source": [
        "import os\n",
        "import torch\n",
        "import torchvision\n",
        "import torchvision.transforms as transforms"
      ],
      "metadata": {
        "id": "Mg_cysYrt-82"
      },
      "execution_count": 3,
      "outputs": []
    },
    {
      "cell_type": "code",
      "source": [
        "os.listdir('/content/drive/MyDrive/PRML Project/covid 19/Extensive COVID-19 X-Ray and CT Chest Images Dataset.zip (Unzipped Files)/COVID-19 Dataset.zip (Unzipped Files)/COVID-19 Dataset/X-ray')"
      ],
      "metadata": {
        "colab": {
          "base_uri": "https://localhost:8080/"
        },
        "id": "0KHHlo6V9Fuk",
        "outputId": "b04ff4fd-6b0a-4052-da34-2910949fb1d2"
      },
      "execution_count": 4,
      "outputs": [
        {
          "output_type": "execute_result",
          "data": {
            "text/plain": [
              "['Non-COVID', 'COVID']"
            ]
          },
          "metadata": {},
          "execution_count": 4
        }
      ]
    },
    {
      "cell_type": "code",
      "source": [
        "len(os.listdir('/content/drive/MyDrive/PRML Project/covid 19/Extensive COVID-19 X-Ray and CT Chest Images Dataset.zip (Unzipped Files)/COVID-19 Dataset.zip (Unzipped Files)/COVID-19 Dataset/X-ray/COVID'))"
      ],
      "metadata": {
        "colab": {
          "base_uri": "https://localhost:8080/"
        },
        "id": "cX2TXRrZ9TOe",
        "outputId": "7da2d127-3ac1-4dd4-f3fb-d3e2ecfe509a"
      },
      "execution_count": 5,
      "outputs": [
        {
          "output_type": "execute_result",
          "data": {
            "text/plain": [
              "4044"
            ]
          },
          "metadata": {},
          "execution_count": 5
        }
      ]
    },
    {
      "cell_type": "code",
      "source": [
        "len(os.listdir('/content/drive/MyDrive/PRML Project/covid 19/Extensive COVID-19 X-Ray and CT Chest Images Dataset.zip (Unzipped Files)/COVID-19 Dataset.zip (Unzipped Files)/COVID-19 Dataset/X-ray/Non-COVID'))"
      ],
      "metadata": {
        "colab": {
          "base_uri": "https://localhost:8080/"
        },
        "id": "f7mmRihG9Xiz",
        "outputId": "580075b6-f418-4136-9e9e-73f0d6dc29b7"
      },
      "execution_count": 6,
      "outputs": [
        {
          "output_type": "execute_result",
          "data": {
            "text/plain": [
              "5500"
            ]
          },
          "metadata": {},
          "execution_count": 6
        }
      ]
    },
    {
      "cell_type": "code",
      "source": [
        "dataset_path = '/content/drive/MyDrive/PRML Project/covid 19/Extensive COVID-19 X-Ray and CT Chest Images Dataset.zip (Unzipped Files)/COVID-19 Dataset.zip (Unzipped Files)/COVID-19 Dataset/X-ray'"
      ],
      "metadata": {
        "id": "x1TncA6B9x5X"
      },
      "execution_count": 7,
      "outputs": []
    },
    {
      "cell_type": "code",
      "source": [
        "dataset_transforms = transforms.Compose([transforms.Resize((224, 224)), transforms.ToTensor()])"
      ],
      "metadata": {
        "id": "ZKFsRoDF-Kr2"
      },
      "execution_count": 8,
      "outputs": []
    },
    {
      "cell_type": "code",
      "source": [
        "def get_mean_and_std(loader):\n",
        "  mean = 0.\n",
        "  std = 0.\n",
        "  total_images_count = 0\n",
        "  for images, _ in loader:\n",
        "    image_count_in_a_batch = images.size(0)\n",
        "    images = images.view(image_count_in_a_batch, images.size(1), -1)\n",
        "    mean += images.mean(2).sum(0)\n",
        "    std += images.std(2).sum(0)\n",
        "    total_images_count += image_count_in_a_batch\n",
        "  mean /= total_images_count\n",
        "  std /= total_images_count\n",
        "\n",
        "  return mean, std "
      ],
      "metadata": {
        "id": "YumVD5UK_0Ex"
      },
      "execution_count": 9,
      "outputs": []
    },
    {
      "cell_type": "code",
      "source": [
        "# mean = [0.4363, 0.4328, 0.3291]\n",
        "# std = [0.2129, 0.3075, 0.2038]\n",
        "# from torchvision.transforms.transforms import RandomHorizontalFlip\n",
        "# dataset_transforms2 = transforms.Compose([\n",
        "#                                           transforms.Resize((1024,1024), ), \n",
        "#                                           transforms.RandomHorizontalFlip(),\n",
        "#                                           transforms.RandomRotation(10),\n",
        "#                                           transforms.ToTensor(),\n",
        "#                                           transforms.Normalize(torch.Tensor(mean), torch.Tensor(std))\n",
        "#                                         ])"
      ],
      "metadata": {
        "id": "yAJW978AI0JV"
      },
      "execution_count": 10,
      "outputs": []
    },
    {
      "cell_type": "code",
      "source": [
        "mean = [0.4867, 0.4870, 0.4872]\n",
        "std = [0.2273, 0.2273, 0.2274]\n",
        "from torchvision.transforms.transforms import RandomHorizontalFlip\n",
        "dataset_transforms2 = transforms.Compose([\n",
        "                                          transforms.Resize((224,224)), \n",
        "                                          transforms.RandomHorizontalFlip(),\n",
        "                                          transforms.RandomRotation(10),\n",
        "                                          transforms.ToTensor(),\n",
        "                                          transforms.Normalize(torch.Tensor(mean), torch.Tensor(std))\n",
        "                                        ])"
      ],
      "metadata": {
        "id": "bNMTaLx0YfBF"
      },
      "execution_count": 11,
      "outputs": []
    },
    {
      "cell_type": "code",
      "source": [
        "dataset = torchvision.datasets.ImageFolder(root = dataset_path, transform = dataset_transforms2)"
      ],
      "metadata": {
        "id": "Nq6mAiN9_JdB"
      },
      "execution_count": 12,
      "outputs": []
    },
    {
      "cell_type": "code",
      "source": [
        "len(dataset)"
      ],
      "metadata": {
        "colab": {
          "base_uri": "https://localhost:8080/"
        },
        "id": "UAhSm7M1AOnm",
        "outputId": "cbea77be-6165-46d7-f824-cbd8c24a1abc"
      },
      "execution_count": 13,
      "outputs": [
        {
          "output_type": "execute_result",
          "data": {
            "text/plain": [
              "9537"
            ]
          },
          "metadata": {},
          "execution_count": 13
        }
      ]
    },
    {
      "cell_type": "code",
      "source": [
        "train_size = int(0.7 * len(dataset))\n",
        "validation_size = int(0.2 * len(dataset))\n",
        "test_size = len(dataset) - train_size - validation_size\n",
        "train_dataset, validation_dataset, test_dataset = torch.utils.data.random_split(dataset, [train_size,validation_size,test_size])"
      ],
      "metadata": {
        "id": "Jcfg2B7XAHSN"
      },
      "execution_count": 109,
      "outputs": []
    },
    {
      "cell_type": "code",
      "source": [
        "dataset_loader = torch.utils.data.DataLoader(dataset = dataset, batch_size = 4, shuffle = True)"
      ],
      "metadata": {
        "id": "He7-jHhK_bTE"
      },
      "execution_count": 110,
      "outputs": []
    },
    {
      "cell_type": "code",
      "source": [
        "train_loader = torch.utils.data.DataLoader(dataset = train_dataset, batch_size = 4, shuffle = True)\n",
        "valid_loader = torch.utils.data.DataLoader(dataset = validation_dataset, batch_size = 4)\n",
        "test_loader = torch.utils.data.DataLoader(dataset = test_dataset, batch_size = 4)"
      ],
      "metadata": {
        "id": "MvEugNx2AVk9"
      },
      "execution_count": 111,
      "outputs": []
    },
    {
      "cell_type": "code",
      "source": [
        "# get_mean_and_std(dataset_loader)"
      ],
      "metadata": {
        "id": "G3HMxHyCBh42"
      },
      "execution_count": 112,
      "outputs": []
    },
    {
      "cell_type": "code",
      "source": [
        "def show_transformed_images(dataset):\n",
        "  loader = torch.utils.data.DataLoader(dataset, batch_size = 6, shuffle = True)\n",
        "  batch = next(iter(loader))\n",
        "  images, labels = batch\n",
        "\n",
        "  grid = torchvision.utils.make_grid(images, nrow = 3)\n",
        "  plt.figure(figsize = (11,11))\n",
        "  plt.imshow(np.transpose(grid, (1,2,0)))\n",
        "  print(\"labels: \", labels)"
      ],
      "metadata": {
        "id": "duZNMaxUDhx9"
      },
      "execution_count": 113,
      "outputs": []
    },
    {
      "cell_type": "code",
      "source": [
        "# show_transformed_images(dataset)"
      ],
      "metadata": {
        "id": "ccFBLMh9Ihkj"
      },
      "execution_count": 114,
      "outputs": []
    },
    {
      "cell_type": "code",
      "source": [
        "# show_transformed_images(train_dataset)"
      ],
      "metadata": {
        "id": "1HTcfw3KAlYD"
      },
      "execution_count": 115,
      "outputs": []
    },
    {
      "cell_type": "code",
      "source": [
        "# show_transformed_images(validation_dataset)"
      ],
      "metadata": {
        "id": "A9CuD4yAAzfm"
      },
      "execution_count": 116,
      "outputs": []
    },
    {
      "cell_type": "code",
      "source": [
        "def set_device():\n",
        "  if torch.cuda.is_available():\n",
        "    dev = \"cuda:0\"\n",
        "  else:\n",
        "    dev = \"cpu\"\n",
        "  return torch.device(dev)"
      ],
      "metadata": {
        "id": "JhLfkUROIl61"
      },
      "execution_count": 117,
      "outputs": []
    },
    {
      "cell_type": "code",
      "source": [
        "# DEVICE = set_device()"
      ],
      "metadata": {
        "id": "1CQr6AdVpeqg"
      },
      "execution_count": 118,
      "outputs": []
    },
    {
      "cell_type": "code",
      "source": [
        "# DEVICE"
      ],
      "metadata": {
        "id": "tskrisCGphtm"
      },
      "execution_count": 119,
      "outputs": []
    },
    {
      "cell_type": "code",
      "source": [
        "!nvidia-smi"
      ],
      "metadata": {
        "colab": {
          "base_uri": "https://localhost:8080/"
        },
        "id": "LeSFX8jhF3yp",
        "outputId": "9ef65a17-4f13-4cf2-bf60-91f355a41259"
      },
      "execution_count": 120,
      "outputs": [
        {
          "output_type": "stream",
          "name": "stdout",
          "text": [
            "Wed Apr 13 13:07:58 2022       \n",
            "+-----------------------------------------------------------------------------+\n",
            "| NVIDIA-SMI 460.32.03    Driver Version: 460.32.03    CUDA Version: 11.2     |\n",
            "|-------------------------------+----------------------+----------------------+\n",
            "| GPU  Name        Persistence-M| Bus-Id        Disp.A | Volatile Uncorr. ECC |\n",
            "| Fan  Temp  Perf  Pwr:Usage/Cap|         Memory-Usage | GPU-Util  Compute M. |\n",
            "|                               |                      |               MIG M. |\n",
            "|===============================+======================+======================|\n",
            "|   0  Tesla K80           Off  | 00000000:00:04.0 Off |                    0 |\n",
            "| N/A   54C    P0    59W / 149W |   1033MiB / 11441MiB |      0%      Default |\n",
            "|                               |                      |                  N/A |\n",
            "+-------------------------------+----------------------+----------------------+\n",
            "                                                                               \n",
            "+-----------------------------------------------------------------------------+\n",
            "| Processes:                                                                  |\n",
            "|  GPU   GI   CI        PID   Type   Process name                  GPU Memory |\n",
            "|        ID   ID                                                   Usage      |\n",
            "|=============================================================================|\n",
            "+-----------------------------------------------------------------------------+\n"
          ]
        }
      ]
    },
    {
      "cell_type": "code",
      "source": [
        "# imports from installed libraries\n",
        "import os\n",
        "import numpy as np\n",
        "import random\n",
        "import torch\n",
        "from distutils.version import LooseVersion as Version\n",
        "from itertools import product\n",
        "\n",
        "def set_all_seeds(seed):\n",
        "    os.environ[\"PL_GLOBAL_SEED\"] = str(seed)\n",
        "    random.seed(seed)\n",
        "    np.random.seed(seed)\n",
        "    torch.manual_seed(seed)\n",
        "    torch.cuda.manual_seed_all(seed)\n",
        "\n",
        "\n",
        "def set_deterministic(use_tensorcores=False):\n",
        "    if torch.cuda.is_available():\n",
        "        torch.backends.cudnn.benchmark = False\n",
        "        torch.backends.cudnn.deterministic = True\n",
        "\n",
        "    if torch.__version__ <= Version(\"1.7\"):\n",
        "        torch.set_deterministic(True)\n",
        "    else:\n",
        "        torch.use_deterministic_algorithms(True)\n",
        "        \n",
        "        # The following are set to True by default and allow cards\n",
        "        # like the Ampere and newer to utilize tensorcores for\n",
        "        # convolutions and matrix multiplications, which can result\n",
        "        # in a significant speed-up. However, results may differ compared\n",
        "        # to card how don't use mixed precision via tensor cores.\n",
        "        torch.backends.cuda.matmul.allow_tf32 = use_tensorcores\n",
        "        torch.backends.cudnn.allow_tf32 = use_tensorcores\n",
        "\n",
        "\n",
        "def compute_accuracy(model, data_loader, device):\n",
        "\n",
        "    with torch.no_grad():\n",
        "\n",
        "        correct_pred, num_examples = 0, 0\n",
        "\n",
        "        for i, (features, targets) in enumerate(data_loader):\n",
        "\n",
        "            features = features.to(device)\n",
        "            targets = targets.float().to(device)\n",
        "\n",
        "            logits = model(features)\n",
        "            _, predicted_labels = torch.max(logits, 1)\n",
        "\n",
        "            num_examples += targets.size(0)\n",
        "            correct_pred += (predicted_labels == targets).sum()\n",
        "    return correct_pred.float()/num_examples * 100\n",
        "\n",
        "\n",
        "def compute_confusion_matrix(model, data_loader, device):\n",
        "\n",
        "    all_targets, all_predictions = [], []\n",
        "    with torch.no_grad():\n",
        "\n",
        "        for i, (features, targets) in enumerate(data_loader):\n",
        "\n",
        "            features = features.to(device)\n",
        "            targets = targets\n",
        "            logits = model(features)\n",
        "            _, predicted_labels = torch.max(logits, 1)\n",
        "            all_targets.extend(targets.to('cpu'))\n",
        "            all_predictions.extend(predicted_labels.to('cpu'))\n",
        "\n",
        "    all_predictions = all_predictions\n",
        "    all_predictions = np.array(all_predictions)\n",
        "    all_targets = np.array(all_targets)\n",
        "        \n",
        "    class_labels = np.unique(np.concatenate((all_targets, all_predictions)))\n",
        "    if class_labels.shape[0] == 1:\n",
        "        if class_labels[0] != 0:\n",
        "            class_labels = np.array([0, class_labels[0]])\n",
        "        else:\n",
        "            class_labels = np.array([class_labels[0], 1])\n",
        "    n_labels = class_labels.shape[0]\n",
        "    lst = []\n",
        "    z = list(zip(all_targets, all_predictions))\n",
        "    for combi in product(class_labels, repeat=2):\n",
        "        lst.append(z.count(combi))\n",
        "    mat = np.asarray(lst)[:, None].reshape(n_labels, n_labels)\n",
        "    return mat"
      ],
      "metadata": {
        "id": "SukYi4CT9EQZ"
      },
      "execution_count": 121,
      "outputs": []
    },
    {
      "cell_type": "code",
      "source": [
        "import time\n",
        "import torch\n",
        "\n",
        "def train_model(model, num_epochs, train_loader,\n",
        "                valid_loader, test_loader, optimizer,\n",
        "                device, logging_interval=50,\n",
        "                scheduler=None,\n",
        "                scheduler_on='valid_acc'):\n",
        "\n",
        "    start_time = time.time()\n",
        "    minibatch_loss_list, train_acc_list, valid_acc_list = [], [], []\n",
        "    \n",
        "    for epoch in range(num_epochs):\n",
        "\n",
        "        model.train()\n",
        "        for batch_idx, (features, targets) in enumerate(train_loader):\n",
        "\n",
        "            features = features.to(device)\n",
        "            targets = targets.to(device)\n",
        "\n",
        "            # ## FORWARD AND BACK PROP\n",
        "            logits = model(features)\n",
        "            loss = torch.nn.functional.cross_entropy(logits, targets)\n",
        "            optimizer.zero_grad()\n",
        "\n",
        "            loss.backward()\n",
        "\n",
        "            # ## UPDATE MODEL PARAMETERS\n",
        "            optimizer.step()\n",
        "\n",
        "            # ## LOGGING\n",
        "            minibatch_loss_list.append(loss.item())\n",
        "            if not batch_idx % logging_interval:\n",
        "                print(f'Epoch: {epoch+1:03d}/{num_epochs:03d} '\n",
        "                      f'| Batch {batch_idx:04d}/{len(train_loader):04d} '\n",
        "                      f'| Loss: {loss:.4f}')\n",
        "\n",
        "        model.eval()\n",
        "        with torch.no_grad():  # save memory during inference\n",
        "            train_acc = compute_accuracy(model, train_loader, device=device)\n",
        "            valid_acc = compute_accuracy(model, valid_loader, device=device)\n",
        "            print(f'Epoch: {epoch+1:03d}/{num_epochs:03d} '\n",
        "                  f'| Train: {train_acc :.2f}% '\n",
        "                  f'| Validation: {valid_acc :.2f}%')\n",
        "            train_acc_list.append(train_acc.item())\n",
        "            valid_acc_list.append(valid_acc.item())\n",
        "\n",
        "        elapsed = (time.time() - start_time)/60\n",
        "        print(f'Time elapsed: {elapsed:.2f} min')\n",
        "        \n",
        "        if scheduler is not None:\n",
        "\n",
        "            if scheduler_on == 'valid_acc':\n",
        "                scheduler.step(valid_acc_list[-1])\n",
        "            elif scheduler_on == 'minibatch_loss':\n",
        "                scheduler.step(minibatch_loss_list[-1])\n",
        "            else:\n",
        "                raise ValueError(f'Invalid `scheduler_on` choice.')\n",
        "        \n",
        "\n",
        "    elapsed = (time.time() - start_time)/60\n",
        "    print(f'Total Training Time: {elapsed:.2f} min')\n",
        "\n",
        "    test_acc = compute_accuracy(model, test_loader, device=device)\n",
        "    print(f'Test accuracy {test_acc :.2f}%')\n",
        "\n",
        "    return minibatch_loss_list, train_acc_list, valid_acc_list"
      ],
      "metadata": {
        "id": "9TP-V4Cgi3g9"
      },
      "execution_count": 122,
      "outputs": []
    },
    {
      "cell_type": "code",
      "source": [
        "# imports from installed libraries\n",
        "import os\n",
        "import matplotlib.pyplot as plt\n",
        "import numpy as np\n",
        "import torch\n",
        "\n",
        "\n",
        "def plot_training_loss(minibatch_loss_list, num_epochs, iter_per_epoch,\n",
        "                       results_dir=None, averaging_iterations=100):\n",
        "\n",
        "    plt.figure()\n",
        "    ax1 = plt.subplot(1, 1, 1)\n",
        "    ax1.plot(range(len(minibatch_loss_list)),\n",
        "             (minibatch_loss_list), label='Minibatch Loss')\n",
        "\n",
        "    if len(minibatch_loss_list) > 1000:\n",
        "        ax1.set_ylim([\n",
        "            0, np.max(minibatch_loss_list[1000:])*1.5\n",
        "            ])\n",
        "    ax1.set_xlabel('Iterations')\n",
        "    ax1.set_ylabel('Loss')\n",
        "\n",
        "    ax1.plot(np.convolve(minibatch_loss_list,\n",
        "                         np.ones(averaging_iterations,)/averaging_iterations,\n",
        "                         mode='valid'),\n",
        "             label='Running Average')\n",
        "    ax1.legend()\n",
        "\n",
        "    ###################\n",
        "    # Set scond x-axis\n",
        "    ax2 = ax1.twiny()\n",
        "    newlabel = list(range(num_epochs+1))\n",
        "\n",
        "    newpos = [e*iter_per_epoch for e in newlabel]\n",
        "\n",
        "    ax2.set_xticks(newpos[::10])\n",
        "    ax2.set_xticklabels(newlabel[::10])\n",
        "\n",
        "    ax2.xaxis.set_ticks_position('bottom')\n",
        "    ax2.xaxis.set_label_position('bottom')\n",
        "    ax2.spines['bottom'].set_position(('outward', 45))\n",
        "    ax2.set_xlabel('Epochs')\n",
        "    ax2.set_xlim(ax1.get_xlim())\n",
        "    ###################\n",
        "\n",
        "    plt.tight_layout()\n",
        "\n",
        "    if results_dir is not None:\n",
        "        image_path = os.path.join(results_dir, 'plot_training_loss.pdf')\n",
        "        plt.savefig(image_path)\n",
        "\n",
        "\n",
        "def plot_accuracy(train_acc_list, valid_acc_list, results_dir):\n",
        "\n",
        "    num_epochs = len(train_acc_list)\n",
        "\n",
        "    plt.plot(np.arange(1, num_epochs+1),\n",
        "             train_acc_list, label='Training')\n",
        "    plt.plot(np.arange(1, num_epochs+1),\n",
        "             valid_acc_list, label='Validation')\n",
        "\n",
        "    plt.xlabel('Epoch')\n",
        "    plt.ylabel('Accuracy')\n",
        "    plt.legend()\n",
        "\n",
        "    plt.tight_layout()\n",
        "\n",
        "    if results_dir is not None:\n",
        "        image_path = os.path.join(\n",
        "            results_dir, 'plot_acc_training_validation.pdf')\n",
        "        plt.savefig(image_path)\n",
        "\n",
        "\n",
        "def show_examples(model, data_loader, unnormalizer=None, class_dict=None):\n",
        "    \n",
        "        \n",
        "    for batch_idx, (features, targets) in enumerate(data_loader):\n",
        "\n",
        "        with torch.no_grad():\n",
        "            features = features\n",
        "            targets = targets\n",
        "            logits = model(features)\n",
        "            predictions = torch.argmax(logits, dim=1)\n",
        "        break\n",
        "\n",
        "    fig, axes = plt.subplots(nrows=3, ncols=5,\n",
        "                             sharex=True, sharey=True)\n",
        "    \n",
        "    if unnormalizer is not None:\n",
        "        for idx in range(features.shape[0]):\n",
        "            features[idx] = unnormalizer(features[idx])\n",
        "    nhwc_img = np.transpose(features, axes=(0, 2, 3, 1))\n",
        "    \n",
        "    if nhwc_img.shape[-1] == 1:\n",
        "        nhw_img = np.squeeze(nhwc_img.numpy(), axis=3)\n",
        "\n",
        "        for idx, ax in enumerate(axes.ravel()):\n",
        "            ax.imshow(nhw_img[idx], cmap='binary')\n",
        "            if class_dict is not None:\n",
        "                ax.title.set_text(f'P: {class_dict[predictions[idx].item()]}'\n",
        "                                  f'\\nT: {class_dict[targets[idx].item()]}')\n",
        "            else:\n",
        "                ax.title.set_text(f'P: {predictions[idx]} | T: {targets[idx]}')\n",
        "            ax.axison = False\n",
        "\n",
        "    else:\n",
        "\n",
        "        for idx, ax in enumerate(axes.ravel()):\n",
        "            ax.imshow(nhwc_img[idx])\n",
        "            if class_dict is not None:\n",
        "                ax.title.set_text(f'P: {class_dict[predictions[idx].item()]}'\n",
        "                                  f'\\nT: {class_dict[targets[idx].item()]}')\n",
        "            else:\n",
        "                ax.title.set_text(f'P: {predictions[idx]} | T: {targets[idx]}')\n",
        "            ax.axison = False\n",
        "    plt.tight_layout()\n",
        "    plt.show()\n",
        "\n",
        "\n",
        "def plot_confusion_matrix(conf_mat,\n",
        "                          hide_spines=False,\n",
        "                          hide_ticks=False,\n",
        "                          figsize=None,\n",
        "                          cmap=None,\n",
        "                          colorbar=False,\n",
        "                          show_absolute=True,\n",
        "                          show_normed=False,\n",
        "                          class_names=None):\n",
        "\n",
        "    if not (show_absolute or show_normed):\n",
        "        raise AssertionError('Both show_absolute and show_normed are False')\n",
        "    if class_names is not None and len(class_names) != len(conf_mat):\n",
        "        raise AssertionError('len(class_names) should be equal to number of'\n",
        "                             'classes in the dataset')\n",
        "\n",
        "    total_samples = conf_mat.sum(axis=1)[:, np.newaxis]\n",
        "    normed_conf_mat = conf_mat.astype('float') / total_samples\n",
        "\n",
        "    fig, ax = plt.subplots(figsize=figsize)\n",
        "    ax.grid(False)\n",
        "    if cmap is None:\n",
        "        cmap = plt.cm.Blues\n",
        "\n",
        "    if figsize is None:\n",
        "        figsize = (len(conf_mat)*1.25, len(conf_mat)*1.25)\n",
        "\n",
        "    if show_normed:\n",
        "        matshow = ax.matshow(normed_conf_mat, cmap=cmap)\n",
        "    else:\n",
        "        matshow = ax.matshow(conf_mat, cmap=cmap)\n",
        "\n",
        "    if colorbar:\n",
        "        fig.colorbar(matshow)\n",
        "\n",
        "    for i in range(conf_mat.shape[0]):\n",
        "        for j in range(conf_mat.shape[1]):\n",
        "            cell_text = \"\"\n",
        "            if show_absolute:\n",
        "                cell_text += format(conf_mat[i, j], 'd')\n",
        "                if show_normed:\n",
        "                    cell_text += \"\\n\" + '('\n",
        "                    cell_text += format(normed_conf_mat[i, j], '.2f') + ')'\n",
        "            else:\n",
        "                cell_text += format(normed_conf_mat[i, j], '.2f')\n",
        "            ax.text(x=j,\n",
        "                    y=i,\n",
        "                    s=cell_text,\n",
        "                    va='center',\n",
        "                    ha='center',\n",
        "                    color=\"white\" if normed_conf_mat[i, j] > 0.5 else \"black\")\n",
        "    \n",
        "    if class_names is not None:\n",
        "        tick_marks = np.arange(len(class_names))\n",
        "        plt.xticks(tick_marks, class_names, rotation=90)\n",
        "        plt.yticks(tick_marks, class_names)\n",
        "        \n",
        "    if hide_spines:\n",
        "        ax.spines['right'].set_visible(False)\n",
        "        ax.spines['top'].set_visible(False)\n",
        "        ax.spines['left'].set_visible(False)\n",
        "        ax.spines['bottom'].set_visible(False)\n",
        "    ax.yaxis.set_ticks_position('left')\n",
        "    ax.xaxis.set_ticks_position('bottom')\n",
        "    if hide_ticks:\n",
        "        ax.axes.get_yaxis().set_ticks([])\n",
        "        ax.axes.get_xaxis().set_ticks([])\n",
        "\n",
        "    plt.xlabel('predicted label')\n",
        "    plt.ylabel('true label')\n",
        "    return fig, ax"
      ],
      "metadata": {
        "id": "Ich8ZSuh9MDe"
      },
      "execution_count": 123,
      "outputs": []
    },
    {
      "cell_type": "code",
      "source": [
        "import torch\n",
        "from torch.utils.data import sampler\n",
        "from torchvision import datasets\n",
        "from torch.utils.data import DataLoader\n",
        "from torch.utils.data import SubsetRandomSampler\n",
        "from torchvision import transforms\n",
        "\n",
        "\n",
        "class UnNormalize(object):\n",
        "    def __init__(self, mean, std):\n",
        "        self.mean = mean\n",
        "        self.std = std\n",
        "\n",
        "    def __call__(self, tensor):\n",
        "        \"\"\"\n",
        "        Parameters:\n",
        "        ------------\n",
        "        tensor (Tensor): Tensor image of size (C, H, W) to be normalized.\n",
        "        \n",
        "        Returns:\n",
        "        ------------\n",
        "        Tensor: Normalized image.\n",
        "        \"\"\"\n",
        "        for t, m, s in zip(tensor, self.mean, self.std):\n",
        "            t.mul_(s).add_(m)\n",
        "        return tensor\n",
        "\n",
        "\n",
        "# # def get_dataloaders_mnist(batch_size, num_workers=0,\n",
        "# #                           validation_fraction=None,\n",
        "# #                           train_transforms=None,\n",
        "# #                           test_transforms=None):\n",
        "\n",
        "# #     if train_transforms is None:\n",
        "# #         train_transforms = transforms.ToTensor()\n",
        "\n",
        "# #     if test_transforms is None:\n",
        "# #         test_transforms = transforms.ToTensor()\n",
        "\n",
        "# #     train_dataset = datasets.MNIST(root='data',\n",
        "# #                                    train=True,\n",
        "# #                                    transform=train_transforms,\n",
        "# #                                    download=True)\n",
        "\n",
        "# #     valid_dataset = datasets.MNIST(root='data',\n",
        "# #                                    train=True,\n",
        "# #                                    transform=test_transforms)\n",
        "\n",
        "# #     test_dataset = datasets.MNIST(root='data',\n",
        "# #                                   train=False,\n",
        "# #                                   transform=test_transforms)\n",
        "\n",
        "# #     if validation_fraction is not None:\n",
        "# #         num = int(validation_fraction * 60000)\n",
        "# #         train_indices = torch.arange(0, 60000 - num)\n",
        "# #         valid_indices = torch.arange(60000 - num, 60000)\n",
        "\n",
        "# #         train_sampler = SubsetRandomSampler(train_indices)\n",
        "# #         valid_sampler = SubsetRandomSampler(valid_indices)\n",
        "\n",
        "# #         valid_loader = DataLoader(dataset=valid_dataset,\n",
        "# #                                   batch_size=batch_size,\n",
        "# #                                   num_workers=num_workers,\n",
        "# #                                   sampler=valid_sampler)\n",
        "\n",
        "# #         train_loader = DataLoader(dataset=train_dataset,\n",
        "# #                                   batch_size=batch_size,\n",
        "#                                   num_workers=num_workers,\n",
        "#                                   drop_last=True,\n",
        "#                                   sampler=train_sampler)\n",
        "\n",
        "#     else:\n",
        "#         train_loader = DataLoader(dataset=train_dataset,\n",
        "#                                   batch_size=batch_size,\n",
        "#                                   num_workers=num_workers,\n",
        "#                                   drop_last=True,\n",
        "#                                   shuffle=True)\n",
        "\n",
        "#     test_loader = DataLoader(dataset=test_dataset,\n",
        "#                              batch_size=batch_size,\n",
        "#                              num_workers=num_workers,\n",
        "#                              shuffle=False)\n",
        "\n",
        "#     if validation_fraction is None:\n",
        "#         return train_loader, test_loader\n",
        "#     else:\n",
        "#         return train_loader, valid_loader, test_loader\n",
        "\n",
        "\n",
        "# def get_dataloaders_cifar10(batch_size, num_workers=0,\n",
        "#                             validation_fraction=None,\n",
        "#                             train_transforms=None,\n",
        "#                             test_transforms=None):\n",
        "\n",
        "#     if train_transforms is None:\n",
        "#         train_transforms = transforms.ToTensor()\n",
        "\n",
        "#     if test_transforms is None:\n",
        "#         test_transforms = transforms.ToTensor()\n",
        "\n",
        "#     train_dataset = datasets.CIFAR10(root='data',\n",
        "#                                      train=True,\n",
        "#                                      transform=train_transforms,\n",
        "#                                      download=True)\n",
        "\n",
        "#     valid_dataset = datasets.CIFAR10(root='data',\n",
        "#                                      train=True,\n",
        "#                                      transform=test_transforms)\n",
        "\n",
        "#     test_dataset = datasets.CIFAR10(root='data',\n",
        "#                                     train=False,\n",
        "#                                     transform=test_transforms)\n",
        "\n",
        "#     if validation_fraction is not None:\n",
        "#         num = int(validation_fraction * 50000)\n",
        "#         train_indices = torch.arange(0, 50000 - num)\n",
        "#         valid_indices = torch.arange(50000 - num, 50000)\n",
        "\n",
        "#         train_sampler = SubsetRandomSampler(train_indices)\n",
        "#         valid_sampler = SubsetRandomSampler(valid_indices)\n",
        "\n",
        "#         valid_loader = DataLoader(dataset=valid_dataset,\n",
        "#                                   batch_size=batch_size,\n",
        "#                                   num_workers=num_workers,\n",
        "#                                   sampler=valid_sampler)\n",
        "\n",
        "#         train_loader = DataLoader(dataset=train_dataset,\n",
        "#                                   batch_size=batch_size,\n",
        "#                                   num_workers=num_workers,\n",
        "#                                   drop_last=True,\n",
        "#                                   sampler=train_sampler)\n",
        "\n",
        "#     else:\n",
        "#         train_loader = DataLoader(dataset=train_dataset,\n",
        "#                                   batch_size=batch_size,\n",
        "#                                   num_workers=num_workers,\n",
        "#                                   drop_last=True,\n",
        "#                                   shuffle=True)\n",
        "\n",
        "#     test_loader = DataLoader(dataset=test_dataset,\n",
        "#                              batch_size=batch_size,\n",
        "#                              num_workers=num_workers,\n",
        "#                              shuffle=False)\n",
        "\n",
        "#     if validation_fraction is None:\n",
        "#         return train_loader, test_loader\n",
        "#     else:\n",
        "#         return train_loader, valid_loader, test_loader"
      ],
      "metadata": {
        "id": "AeRlHi3Y9lD0"
      },
      "execution_count": 124,
      "outputs": []
    },
    {
      "cell_type": "code",
      "source": [
        "import torch\n",
        "import torchvision\n",
        "import numpy as np\n",
        "import matplotlib.pyplot as plt"
      ],
      "metadata": {
        "id": "QMAn7rEf9vrs"
      },
      "execution_count": 125,
      "outputs": []
    },
    {
      "cell_type": "code",
      "source": [
        "RANDOM_SEED = 123\n",
        "BATCH_SIZE = 4\n",
        "NUM_EPOCHS = 3\n",
        "DEVICE = torch.device('cuda:0' if torch.cuda.is_available() else 'cpu')"
      ],
      "metadata": {
        "id": "lPicr7Bj99J3"
      },
      "execution_count": 135,
      "outputs": []
    },
    {
      "cell_type": "code",
      "source": [
        "set_all_seeds(RANDOM_SEED)\n",
        "#set_deterministic()"
      ],
      "metadata": {
        "id": "zZru4BqL-Civ"
      },
      "execution_count": 136,
      "outputs": []
    },
    {
      "cell_type": "code",
      "source": [
        "# Checking the dataset\n",
        "for images, labels in train_loader:  \n",
        "    print('Image batch dimensions:', images.shape)\n",
        "    print('Image label dimensions:', labels.shape)\n",
        "    print('Class labels of 10 examples:', labels[:10])\n",
        "    break"
      ],
      "metadata": {
        "colab": {
          "base_uri": "https://localhost:8080/"
        },
        "id": "fH5fr69u-FpJ",
        "outputId": "6a43c9be-a423-4b58-baac-ec286bdf8367"
      },
      "execution_count": 137,
      "outputs": [
        {
          "output_type": "stream",
          "name": "stdout",
          "text": [
            "Image batch dimensions: torch.Size([4, 3, 224, 224])\n",
            "Image label dimensions: torch.Size([4])\n",
            "Class labels of 10 examples: tensor([1, 1, 0, 0])\n"
          ]
        }
      ]
    },
    {
      "cell_type": "code",
      "source": [
        "model = torchvision.models.vgg16(pretrained=True)\n",
        "model"
      ],
      "metadata": {
        "colab": {
          "base_uri": "https://localhost:8080/"
        },
        "id": "VUFMODyQ-c_l",
        "outputId": "b2aad917-cd0e-4d5c-f1ec-b31f0243cfff"
      },
      "execution_count": 138,
      "outputs": [
        {
          "output_type": "execute_result",
          "data": {
            "text/plain": [
              "VGG(\n",
              "  (features): Sequential(\n",
              "    (0): Conv2d(3, 64, kernel_size=(3, 3), stride=(1, 1), padding=(1, 1))\n",
              "    (1): ReLU(inplace=True)\n",
              "    (2): Conv2d(64, 64, kernel_size=(3, 3), stride=(1, 1), padding=(1, 1))\n",
              "    (3): ReLU(inplace=True)\n",
              "    (4): MaxPool2d(kernel_size=2, stride=2, padding=0, dilation=1, ceil_mode=False)\n",
              "    (5): Conv2d(64, 128, kernel_size=(3, 3), stride=(1, 1), padding=(1, 1))\n",
              "    (6): ReLU(inplace=True)\n",
              "    (7): Conv2d(128, 128, kernel_size=(3, 3), stride=(1, 1), padding=(1, 1))\n",
              "    (8): ReLU(inplace=True)\n",
              "    (9): MaxPool2d(kernel_size=2, stride=2, padding=0, dilation=1, ceil_mode=False)\n",
              "    (10): Conv2d(128, 256, kernel_size=(3, 3), stride=(1, 1), padding=(1, 1))\n",
              "    (11): ReLU(inplace=True)\n",
              "    (12): Conv2d(256, 256, kernel_size=(3, 3), stride=(1, 1), padding=(1, 1))\n",
              "    (13): ReLU(inplace=True)\n",
              "    (14): Conv2d(256, 256, kernel_size=(3, 3), stride=(1, 1), padding=(1, 1))\n",
              "    (15): ReLU(inplace=True)\n",
              "    (16): MaxPool2d(kernel_size=2, stride=2, padding=0, dilation=1, ceil_mode=False)\n",
              "    (17): Conv2d(256, 512, kernel_size=(3, 3), stride=(1, 1), padding=(1, 1))\n",
              "    (18): ReLU(inplace=True)\n",
              "    (19): Conv2d(512, 512, kernel_size=(3, 3), stride=(1, 1), padding=(1, 1))\n",
              "    (20): ReLU(inplace=True)\n",
              "    (21): Conv2d(512, 512, kernel_size=(3, 3), stride=(1, 1), padding=(1, 1))\n",
              "    (22): ReLU(inplace=True)\n",
              "    (23): MaxPool2d(kernel_size=2, stride=2, padding=0, dilation=1, ceil_mode=False)\n",
              "    (24): Conv2d(512, 512, kernel_size=(3, 3), stride=(1, 1), padding=(1, 1))\n",
              "    (25): ReLU(inplace=True)\n",
              "    (26): Conv2d(512, 512, kernel_size=(3, 3), stride=(1, 1), padding=(1, 1))\n",
              "    (27): ReLU(inplace=True)\n",
              "    (28): Conv2d(512, 512, kernel_size=(3, 3), stride=(1, 1), padding=(1, 1))\n",
              "    (29): ReLU(inplace=True)\n",
              "    (30): MaxPool2d(kernel_size=2, stride=2, padding=0, dilation=1, ceil_mode=False)\n",
              "  )\n",
              "  (avgpool): AdaptiveAvgPool2d(output_size=(7, 7))\n",
              "  (classifier): Sequential(\n",
              "    (0): Linear(in_features=25088, out_features=4096, bias=True)\n",
              "    (1): ReLU(inplace=True)\n",
              "    (2): Dropout(p=0.5, inplace=False)\n",
              "    (3): Linear(in_features=4096, out_features=4096, bias=True)\n",
              "    (4): ReLU(inplace=True)\n",
              "    (5): Dropout(p=0.5, inplace=False)\n",
              "    (6): Linear(in_features=4096, out_features=1000, bias=True)\n",
              "  )\n",
              ")"
            ]
          },
          "metadata": {},
          "execution_count": 138
        }
      ]
    },
    {
      "cell_type": "code",
      "source": [
        "for param in model.parameters():\n",
        "    param.requires_grad = False"
      ],
      "metadata": {
        "id": "tJ-m88Ui-2Zo"
      },
      "execution_count": 139,
      "outputs": []
    },
    {
      "cell_type": "code",
      "source": [
        "model.classifier[0].requires_grad = True\n",
        "model.classifier[3].requires_grad = True"
      ],
      "metadata": {
        "id": "UR_wcRiU-7ev"
      },
      "execution_count": 140,
      "outputs": []
    },
    {
      "cell_type": "code",
      "source": [
        "model.classifier[6] = torch.nn.Linear(4096, 2)"
      ],
      "metadata": {
        "id": "azDk-jkg-_yW"
      },
      "execution_count": 141,
      "outputs": []
    },
    {
      "cell_type": "code",
      "source": [
        "model = model.to(DEVICE)\n",
        "\n",
        "optimizer = torch.optim.SGD(model.parameters(), momentum=0.9, lr=0.01)\n",
        "scheduler = torch.optim.lr_scheduler.ReduceLROnPlateau(optimizer,\n",
        "                                                       factor=0.1,\n",
        "                                                       mode='max',\n",
        "                                                       verbose=True)\n",
        "\n",
        "minibatch_loss_list, train_acc_list, valid_acc_list = train_model(\n",
        "    model=model,\n",
        "    num_epochs=NUM_EPOCHS,\n",
        "    train_loader=train_loader,\n",
        "    valid_loader=valid_loader,\n",
        "    test_loader=test_loader,\n",
        "    optimizer=optimizer,\n",
        "    device=DEVICE,\n",
        "    scheduler=scheduler,\n",
        "    scheduler_on='valid_acc',\n",
        "    logging_interval=100)\n",
        "\n",
        "plot_training_loss(minibatch_loss_list=minibatch_loss_list,\n",
        "                   num_epochs=NUM_EPOCHS,\n",
        "                   iter_per_epoch=len(train_loader),\n",
        "                   results_dir=None,\n",
        "                   averaging_iterations=200)\n",
        "plt.show()\n",
        "\n",
        "plot_accuracy(train_acc_list=train_acc_list,\n",
        "              valid_acc_list=valid_acc_list,\n",
        "              results_dir=None)\n",
        "plt.ylim([60, 100])\n",
        "plt.show()"
      ],
      "metadata": {
        "colab": {
          "base_uri": "https://localhost:8080/",
          "height": 1000
        },
        "id": "GYXj30qs_B3f",
        "outputId": "1dc66938-7d63-43b2-a186-2b9114c3a535"
      },
      "execution_count": 142,
      "outputs": [
        {
          "output_type": "stream",
          "name": "stdout",
          "text": [
            "Epoch: 001/003 | Batch 0000/1669 | Loss: 0.8054\n",
            "Epoch: 001/003 | Batch 0100/1669 | Loss: 0.0042\n",
            "Epoch: 001/003 | Batch 0200/1669 | Loss: 0.0000\n",
            "Epoch: 001/003 | Batch 0300/1669 | Loss: 9.2322\n",
            "Epoch: 001/003 | Batch 0400/1669 | Loss: 0.0000\n",
            "Epoch: 001/003 | Batch 0500/1669 | Loss: 10.6495\n",
            "Epoch: 001/003 | Batch 0600/1669 | Loss: 0.0000\n",
            "Epoch: 001/003 | Batch 0700/1669 | Loss: 21.7751\n",
            "Epoch: 001/003 | Batch 0800/1669 | Loss: 15.4940\n",
            "Epoch: 001/003 | Batch 0900/1669 | Loss: 28.0586\n",
            "Epoch: 001/003 | Batch 1000/1669 | Loss: 0.0003\n",
            "Epoch: 001/003 | Batch 1100/1669 | Loss: 0.0000\n",
            "Epoch: 001/003 | Batch 1200/1669 | Loss: 42.9704\n",
            "Epoch: 001/003 | Batch 1300/1669 | Loss: 0.2778\n",
            "Epoch: 001/003 | Batch 1400/1669 | Loss: 50.5112\n",
            "Epoch: 001/003 | Batch 1500/1669 | Loss: 0.7317\n",
            "Epoch: 001/003 | Batch 1600/1669 | Loss: 30.3315\n",
            "Epoch: 001/003 | Train: 73.33% | Validation: 73.68%\n",
            "Time elapsed: 45.50 min\n",
            "Epoch: 002/003 | Batch 0000/1669 | Loss: 76.2419\n",
            "Epoch: 002/003 | Batch 0100/1669 | Loss: 29.6079\n",
            "Epoch: 002/003 | Batch 0200/1669 | Loss: 0.0000\n",
            "Epoch: 002/003 | Batch 0300/1669 | Loss: 20.7242\n",
            "Epoch: 002/003 | Batch 0400/1669 | Loss: 0.0000\n",
            "Epoch: 002/003 | Batch 0500/1669 | Loss: 5.1360\n",
            "Epoch: 002/003 | Batch 0600/1669 | Loss: 20.1875\n",
            "Epoch: 002/003 | Batch 0700/1669 | Loss: 22.2839\n",
            "Epoch: 002/003 | Batch 0800/1669 | Loss: 0.0000\n",
            "Epoch: 002/003 | Batch 0900/1669 | Loss: 0.0000\n",
            "Epoch: 002/003 | Batch 1000/1669 | Loss: 0.0000\n",
            "Epoch: 002/003 | Batch 1100/1669 | Loss: 1.5536\n",
            "Epoch: 002/003 | Batch 1200/1669 | Loss: 13.4580\n",
            "Epoch: 002/003 | Batch 1300/1669 | Loss: 0.0892\n",
            "Epoch: 002/003 | Batch 1400/1669 | Loss: 0.0000\n",
            "Epoch: 002/003 | Batch 1500/1669 | Loss: 0.0000\n",
            "Epoch: 002/003 | Batch 1600/1669 | Loss: 12.1047\n",
            "Epoch: 002/003 | Train: 81.98% | Validation: 81.65%\n",
            "Time elapsed: 55.87 min\n",
            "Epoch: 003/003 | Batch 0000/1669 | Loss: 0.0000\n",
            "Epoch: 003/003 | Batch 0100/1669 | Loss: 20.4888\n",
            "Epoch: 003/003 | Batch 0200/1669 | Loss: 15.5403\n",
            "Epoch: 003/003 | Batch 0300/1669 | Loss: 3.2731\n",
            "Epoch: 003/003 | Batch 0400/1669 | Loss: 19.2342\n",
            "Epoch: 003/003 | Batch 0500/1669 | Loss: 0.8727\n",
            "Epoch: 003/003 | Batch 0600/1669 | Loss: 7.2233\n",
            "Epoch: 003/003 | Batch 0700/1669 | Loss: 0.0000\n",
            "Epoch: 003/003 | Batch 0800/1669 | Loss: 22.3350\n",
            "Epoch: 003/003 | Batch 0900/1669 | Loss: 4.7655\n",
            "Epoch: 003/003 | Batch 1000/1669 | Loss: 0.0000\n",
            "Epoch: 003/003 | Batch 1100/1669 | Loss: 3.0136\n",
            "Epoch: 003/003 | Batch 1200/1669 | Loss: 0.0000\n",
            "Epoch: 003/003 | Batch 1300/1669 | Loss: 0.0000\n",
            "Epoch: 003/003 | Batch 1400/1669 | Loss: 0.6555\n",
            "Epoch: 003/003 | Batch 1500/1669 | Loss: 21.2391\n",
            "Epoch: 003/003 | Batch 1600/1669 | Loss: 0.1645\n",
            "Epoch: 003/003 | Train: 79.57% | Validation: 78.71%\n",
            "Time elapsed: 66.36 min\n",
            "Total Training Time: 66.36 min\n",
            "Test accuracy 79.58%\n"
          ]
        },
        {
          "output_type": "display_data",
          "data": {
            "text/plain": [
              "<Figure size 432x288 with 2 Axes>"
            ],
            "image/png": "[encoded data removed]"
          },
          "metadata": {
            "needs_background": "light"
          }
        },
        {
          "output_type": "display_data",
          "data": {
            "text/plain": [
              "<Figure size 432x288 with 1 Axes>"
            ],
            "image/png": "[encoded data removed]"
          },
          "metadata": {
            "needs_background": "light"
          }
        }
      ]
    },
    {
      "cell_type": "code",
      "source": [
        ""
      ],
      "metadata": {
        "id": "abcgrzUt_ZuI"
      },
      "execution_count": 142,
      "outputs": []
    },
    {
      "cell_type": "code",
      "source": [
        "torch.save(model.state_dict(), '/content/drive/MyDrive/PRML Project/covid 19/weights/m1/vgg16_13_04_only_linear_layers.pth')"
      ],
      "metadata": {
        "id": "Dx3CyfxIOUB8"
      },
      "execution_count": 143,
      "outputs": []
    },
    {
      "cell_type": "code",
      "source": [
        "model.cpu()\n",
        "unnormalizer = UnNormalize(mean, std)\n",
        "class_dict = {0: 'Covid',\n",
        "              1: 'Non-Covid'}\n",
        "show_examples(model=model, data_loader=test_loader, unnormalizer=unnormalizer, class_dict=class_dict)"
      ],
      "metadata": {
        "colab": {
          "base_uri": "https://localhost:8080/",
          "height": 599
        },
        "id": "BCO2UrOtN4jl",
        "outputId": "95fd3707-03ee-4b05-c53c-6e57dff63cfa"
      },
      "execution_count": 144,
      "outputs": [
        {
          "output_type": "error",
          "ename": "IndexError",
          "evalue": "ignored",
          "traceback": [
            "\u001b[0;31m---------------------------------------------------------------------------\u001b[0m",
            "\u001b[0;31mIndexError\u001b[0m                                Traceback (most recent call last)",
            "\u001b[0;32m<ipython-input-144-7f12ff6e1da7>\u001b[0m in \u001b[0;36m<module>\u001b[0;34m()\u001b[0m\n\u001b[1;32m      3\u001b[0m class_dict = {0: 'Covid',\n\u001b[1;32m      4\u001b[0m               1: 'Non-Covid'}\n\u001b[0;32m----> 5\u001b[0;31m \u001b[0mshow_examples\u001b[0m\u001b[0;34m(\u001b[0m\u001b[0mmodel\u001b[0m\u001b[0;34m=\u001b[0m\u001b[0mmodel\u001b[0m\u001b[0;34m,\u001b[0m \u001b[0mdata_loader\u001b[0m\u001b[0;34m=\u001b[0m\u001b[0mtest_loader\u001b[0m\u001b[0;34m,\u001b[0m \u001b[0munnormalizer\u001b[0m\u001b[0;34m=\u001b[0m\u001b[0munnormalizer\u001b[0m\u001b[0;34m,\u001b[0m \u001b[0mclass_dict\u001b[0m\u001b[0;34m=\u001b[0m\u001b[0mclass_dict\u001b[0m\u001b[0;34m)\u001b[0m\u001b[0;34m\u001b[0m\u001b[0;34m\u001b[0m\u001b[0m\n\u001b[0m",
            "\u001b[0;32m<ipython-input-123-c48e17f75b50>\u001b[0m in \u001b[0;36mshow_examples\u001b[0;34m(model, data_loader, unnormalizer, class_dict)\u001b[0m\n\u001b[1;32m    107\u001b[0m \u001b[0;34m\u001b[0m\u001b[0m\n\u001b[1;32m    108\u001b[0m         \u001b[0;32mfor\u001b[0m \u001b[0midx\u001b[0m\u001b[0;34m,\u001b[0m \u001b[0max\u001b[0m \u001b[0;32min\u001b[0m \u001b[0menumerate\u001b[0m\u001b[0;34m(\u001b[0m\u001b[0maxes\u001b[0m\u001b[0;34m.\u001b[0m\u001b[0mravel\u001b[0m\u001b[0;34m(\u001b[0m\u001b[0;34m)\u001b[0m\u001b[0;34m)\u001b[0m\u001b[0;34m:\u001b[0m\u001b[0;34m\u001b[0m\u001b[0;34m\u001b[0m\u001b[0m\n\u001b[0;32m--> 109\u001b[0;31m             \u001b[0max\u001b[0m\u001b[0;34m.\u001b[0m\u001b[0mimshow\u001b[0m\u001b[0;34m(\u001b[0m\u001b[0mnhwc_img\u001b[0m\u001b[0;34m[\u001b[0m\u001b[0midx\u001b[0m\u001b[0;34m]\u001b[0m\u001b[0;34m)\u001b[0m\u001b[0;34m\u001b[0m\u001b[0;34m\u001b[0m\u001b[0m\n\u001b[0m\u001b[1;32m    110\u001b[0m             \u001b[0;32mif\u001b[0m \u001b[0mclass_dict\u001b[0m \u001b[0;32mis\u001b[0m \u001b[0;32mnot\u001b[0m \u001b[0;32mNone\u001b[0m\u001b[0;34m:\u001b[0m\u001b[0;34m\u001b[0m\u001b[0;34m\u001b[0m\u001b[0m\n\u001b[1;32m    111\u001b[0m                 ax.title.set_text(f'P: {class_dict[predictions[idx].item()]}'\n",
            "\u001b[0;31mIndexError\u001b[0m: index 4 is out of bounds for dimension 0 with size 4"
          ]
        },
        {
          "output_type": "display_data",
          "data": {
            "text/plain": [
              "<Figure size 432x288 with 15 Axes>"
            ],
            "image/png": "[encoded data removed]"
          },
          "metadata": {
            "needs_background": "light"
          }
        }
      ]
    },
    {
      "cell_type": "code",
      "source": [
        "mat = compute_confusion_matrix(model=model, data_loader=test_loader, device=torch.device('cpu'))\n",
        "plot_confusion_matrix(mat, class_names=class_dict.values())\n",
        "plt.show()"
      ],
      "metadata": {
        "colab": {
          "base_uri": "https://localhost:8080/",
          "height": 321
        },
        "id": "qOK3Vrz0N5UJ",
        "outputId": "89c1e755-79fd-4b32-ce4f-f760b7891949"
      },
      "execution_count": 145,
      "outputs": [
        {
          "output_type": "display_data",
          "data": {
            "text/plain": [
              "<Figure size 432x288 with 1 Axes>"
            ],
            "image/png": "[encoded data removed]"
          },
          "metadata": {
            "needs_background": "light"
          }
        }
      ]
    },
    {
      "cell_type": "code",
      "source": [
        ""
      ],
      "metadata": {
        "id": "O35N2xTZOs5R"
      },
      "execution_count": null,
      "outputs": []
    }
  ]
}