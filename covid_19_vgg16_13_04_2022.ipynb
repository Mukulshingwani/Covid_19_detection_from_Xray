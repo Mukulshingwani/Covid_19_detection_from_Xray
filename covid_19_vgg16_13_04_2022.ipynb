{
  "nbformat": 4,
  "nbformat_minor": 0,
  "metadata": {
    "colab": {
      "name": "covid_19_vgg16_13_04_2022.ipynb",
      "provenance": [],
      "collapsed_sections": []
    },
    "kernelspec": {
      "name": "python3",
      "display_name": "Python 3"
    },
    "language_info": {
      "name": "python"
    },
    "accelerator": "GPU"
  },
  "cells": [
    {
      "cell_type": "code",
      "source": [
        "from google.colab import drive\n",
        "drive.mount('/content/drive')"
      ],
      "metadata": {
        "colab": {
          "base_uri": "https://localhost:8080/"
        },
        "id": "Dzs52y-986Gi",
        "outputId": "7ce232d3-c0e9-47cb-819f-9b7ade37e7fa"
      },
      "execution_count": null,
      "outputs": [
        {
          "output_type": "stream",
          "name": "stdout",
          "text": [
            "Mounted at /content/drive\n"
          ]
        }
      ]
    },
    {
      "cell_type": "code",
      "source": [
        "import numpy as np\n",
        "import pandas as pd\n",
        "import matplotlib.pyplot as plt\n",
        "import seaborn as sns"
      ],
      "metadata": {
        "id": "R00QK97LIK6i"
      },
      "execution_count": null,
      "outputs": []
    },
    {
      "cell_type": "code",
      "source": [
        "import os\n",
        "import torch\n",
        "import torchvision\n",
        "import torchvision.transforms as transforms"
      ],
      "metadata": {
        "id": "Mg_cysYrt-82"
      },
      "execution_count": null,
      "outputs": []
    },
    {
      "cell_type": "code",
      "source": [
        "os.listdir('/content/drive/MyDrive/PRML Project/covid 19/Extensive COVID-19 X-Ray and CT Chest Images Dataset.zip (Unzipped Files)/COVID-19 Dataset.zip (Unzipped Files)/COVID-19 Dataset/X-ray')"
      ],
      "metadata": {
        "colab": {
          "base_uri": "https://localhost:8080/"
        },
        "id": "0KHHlo6V9Fuk",
        "outputId": "b04ff4fd-6b0a-4052-da34-2910949fb1d2"
      },
      "execution_count": null,
      "outputs": [
        {
          "output_type": "execute_result",
          "data": {
            "text/plain": [
              "['Non-COVID', 'COVID']"
            ]
          },
          "metadata": {},
          "execution_count": 4
        }
      ]
    },
    {
      "cell_type": "code",
      "source": [
        "len(os.listdir('/content/drive/MyDrive/PRML Project/covid 19/Extensive COVID-19 X-Ray and CT Chest Images Dataset.zip (Unzipped Files)/COVID-19 Dataset.zip (Unzipped Files)/COVID-19 Dataset/X-ray/COVID'))"
      ],
      "metadata": {
        "colab": {
          "base_uri": "https://localhost:8080/"
        },
        "id": "cX2TXRrZ9TOe",
        "outputId": "7da2d127-3ac1-4dd4-f3fb-d3e2ecfe509a"
      },
      "execution_count": null,
      "outputs": [
        {
          "output_type": "execute_result",
          "data": {
            "text/plain": [
              "4044"
            ]
          },
          "metadata": {},
          "execution_count": 5
        }
      ]
    },
    {
      "cell_type": "code",
      "source": [
        "len(os.listdir('/content/drive/MyDrive/PRML Project/covid 19/Extensive COVID-19 X-Ray and CT Chest Images Dataset.zip (Unzipped Files)/COVID-19 Dataset.zip (Unzipped Files)/COVID-19 Dataset/X-ray/Non-COVID'))"
      ],
      "metadata": {
        "colab": {
          "base_uri": "https://localhost:8080/"
        },
        "id": "f7mmRihG9Xiz",
        "outputId": "580075b6-f418-4136-9e9e-73f0d6dc29b7"
      },
      "execution_count": null,
      "outputs": [
        {
          "output_type": "execute_result",
          "data": {
            "text/plain": [
              "5500"
            ]
          },
          "metadata": {},
          "execution_count": 6
        }
      ]
    },
    {
      "cell_type": "code",
      "source": [
        "dataset_path = '/content/drive/MyDrive/PRML Project/covid 19/Extensive COVID-19 X-Ray and CT Chest Images Dataset.zip (Unzipped Files)/COVID-19 Dataset.zip (Unzipped Files)/COVID-19 Dataset/X-ray'"
      ],
      "metadata": {
        "id": "x1TncA6B9x5X"
      },
      "execution_count": null,
      "outputs": []
    },
    {
      "cell_type": "code",
      "source": [
        "dataset_transforms = transforms.Compose([transforms.Resize((224, 224)), transforms.ToTensor()])"
      ],
      "metadata": {
        "id": "ZKFsRoDF-Kr2"
      },
      "execution_count": null,
      "outputs": []
    },
    {
      "cell_type": "code",
      "source": [
        "def get_mean_and_std(loader):\n",
        "  mean = 0.\n",
        "  std = 0.\n",
        "  total_images_count = 0\n",
        "  for images, _ in loader:\n",
        "    image_count_in_a_batch = images.size(0)\n",
        "    images = images.view(image_count_in_a_batch, images.size(1), -1)\n",
        "    mean += images.mean(2).sum(0)\n",
        "    std += images.std(2).sum(0)\n",
        "    total_images_count += image_count_in_a_batch\n",
        "  mean /= total_images_count\n",
        "  std /= total_images_count\n",
        "\n",
        "  return mean, std "
      ],
      "metadata": {
        "id": "YumVD5UK_0Ex"
      },
      "execution_count": null,
      "outputs": []
    },
    {
      "cell_type": "code",
      "source": [
        "# mean = [0.4363, 0.4328, 0.3291]\n",
        "# std = [0.2129, 0.3075, 0.2038]\n",
        "# from torchvision.transforms.transforms import RandomHorizontalFlip\n",
        "# dataset_transforms2 = transforms.Compose([\n",
        "#                                           transforms.Resize((1024,1024), ), \n",
        "#                                           transforms.RandomHorizontalFlip(),\n",
        "#                                           transforms.RandomRotation(10),\n",
        "#                                           transforms.ToTensor(),\n",
        "#                                           transforms.Normalize(torch.Tensor(mean), torch.Tensor(std))\n",
        "#                                         ])"
      ],
      "metadata": {
        "id": "yAJW978AI0JV"
      },
      "execution_count": null,
      "outputs": []
    },
    {
      "cell_type": "code",
      "source": [
        "mean = [0.4867, 0.4870, 0.4872]\n",
        "std = [0.2273, 0.2273, 0.2274]\n",
        "from torchvision.transforms.transforms import RandomHorizontalFlip\n",
        "dataset_transforms2 = transforms.Compose([\n",
        "                                          transforms.Resize((224,224)), \n",
        "                                          transforms.RandomHorizontalFlip(),\n",
        "                                          transforms.RandomRotation(10),\n",
        "                                          transforms.ToTensor(),\n",
        "                                          transforms.Normalize(torch.Tensor(mean), torch.Tensor(std))\n",
        "                                        ])"
      ],
      "metadata": {
        "id": "bNMTaLx0YfBF"
      },
      "execution_count": null,
      "outputs": []
    },
    {
      "cell_type": "code",
      "source": [
        "dataset = torchvision.datasets.ImageFolder(root = dataset_path, transform = dataset_transforms2)"
      ],
      "metadata": {
        "id": "Nq6mAiN9_JdB"
      },
      "execution_count": null,
      "outputs": []
    },
    {
      "cell_type": "code",
      "source": [
        "len(dataset)"
      ],
      "metadata": {
        "colab": {
          "base_uri": "https://localhost:8080/"
        },
        "id": "UAhSm7M1AOnm",
        "outputId": "cbea77be-6165-46d7-f824-cbd8c24a1abc"
      },
      "execution_count": null,
      "outputs": [
        {
          "output_type": "execute_result",
          "data": {
            "text/plain": [
              "9537"
            ]
          },
          "metadata": {},
          "execution_count": 13
        }
      ]
    },
    {
      "cell_type": "code",
      "source": [
        "train_size = int(0.7 * len(dataset))\n",
        "validation_size = int(0.2 * len(dataset))\n",
        "test_size = len(dataset) - train_size - validation_size\n",
        "train_dataset, validation_dataset, test_dataset = torch.utils.data.random_split(dataset, [train_size,validation_size,test_size])"
      ],
      "metadata": {
        "id": "Jcfg2B7XAHSN"
      },
      "execution_count": null,
      "outputs": []
    },
    {
      "cell_type": "code",
      "source": [
        "dataset_loader = torch.utils.data.DataLoader(dataset = dataset, batch_size = 4, shuffle = True)"
      ],
      "metadata": {
        "id": "He7-jHhK_bTE"
      },
      "execution_count": null,
      "outputs": []
    },
    {
      "cell_type": "code",
      "source": [
        "train_loader = torch.utils.data.DataLoader(dataset = train_dataset, batch_size = 4, shuffle = True)\n",
        "valid_loader = torch.utils.data.DataLoader(dataset = validation_dataset, batch_size = 4)\n",
        "test_loader = torch.utils.data.DataLoader(dataset = test_dataset, batch_size = 4)"
      ],
      "metadata": {
        "id": "MvEugNx2AVk9"
      },
      "execution_count": null,
      "outputs": []
    },
    {
      "cell_type": "code",
      "source": [
        "# get_mean_and_std(dataset_loader)"
      ],
      "metadata": {
        "id": "G3HMxHyCBh42"
      },
      "execution_count": null,
      "outputs": []
    },
    {
      "cell_type": "code",
      "source": [
        "def show_transformed_images(dataset):\n",
        "  loader = torch.utils.data.DataLoader(dataset, batch_size = 6, shuffle = True)\n",
        "  batch = next(iter(loader))\n",
        "  images, labels = batch\n",
        "\n",
        "  grid = torchvision.utils.make_grid(images, nrow = 3)\n",
        "  plt.figure(figsize = (11,11))\n",
        "  plt.imshow(np.transpose(grid, (1,2,0)))\n",
        "  print(\"labels: \", labels)"
      ],
      "metadata": {
        "id": "duZNMaxUDhx9"
      },
      "execution_count": null,
      "outputs": []
    },
    {
      "cell_type": "code",
      "source": [
        "# show_transformed_images(dataset)"
      ],
      "metadata": {
        "id": "ccFBLMh9Ihkj"
      },
      "execution_count": null,
      "outputs": []
    },
    {
      "cell_type": "code",
      "source": [
        "# show_transformed_images(train_dataset)"
      ],
      "metadata": {
        "id": "1HTcfw3KAlYD"
      },
      "execution_count": null,
      "outputs": []
    },
    {
      "cell_type": "code",
      "source": [
        "# show_transformed_images(validation_dataset)"
      ],
      "metadata": {
        "id": "A9CuD4yAAzfm"
      },
      "execution_count": null,
      "outputs": []
    },
    {
      "cell_type": "code",
      "source": [
        "def set_device():\n",
        "  if torch.cuda.is_available():\n",
        "    dev = \"cuda:0\"\n",
        "  else:\n",
        "    dev = \"cpu\"\n",
        "  return torch.device(dev)"
      ],
      "metadata": {
        "id": "JhLfkUROIl61"
      },
      "execution_count": null,
      "outputs": []
    },
    {
      "cell_type": "code",
      "source": [
        "# DEVICE = set_device()"
      ],
      "metadata": {
        "id": "1CQr6AdVpeqg"
      },
      "execution_count": null,
      "outputs": []
    },
    {
      "cell_type": "code",
      "source": [
        "# DEVICE"
      ],
      "metadata": {
        "id": "tskrisCGphtm"
      },
      "execution_count": null,
      "outputs": []
    },
    {
      "cell_type": "code",
      "source": [
        "!nvidia-smi"
      ],
      "metadata": {
        "colab": {
          "base_uri": "https://localhost:8080/"
        },
        "id": "LeSFX8jhF3yp",
        "outputId": "9ef65a17-4f13-4cf2-bf60-91f355a41259"
      },
      "execution_count": null,
      "outputs": [
        {
          "output_type": "stream",
          "name": "stdout",
          "text": [
            "Wed Apr 13 13:07:58 2022       \n",
            "+-----------------------------------------------------------------------------+\n",
            "| NVIDIA-SMI 460.32.03    Driver Version: 460.32.03    CUDA Version: 11.2     |\n",
            "|-------------------------------+----------------------+----------------------+\n",
            "| GPU  Name        Persistence-M| Bus-Id        Disp.A | Volatile Uncorr. ECC |\n",
            "| Fan  Temp  Perf  Pwr:Usage/Cap|         Memory-Usage | GPU-Util  Compute M. |\n",
            "|                               |                      |               MIG M. |\n",
            "|===============================+======================+======================|\n",
            "|   0  Tesla K80           Off  | 00000000:00:04.0 Off |                    0 |\n",
            "| N/A   54C    P0    59W / 149W |   1033MiB / 11441MiB |      0%      Default |\n",
            "|                               |                      |                  N/A |\n",
            "+-------------------------------+----------------------+----------------------+\n",
            "                                                                               \n",
            "+-----------------------------------------------------------------------------+\n",
            "| Processes:                                                                  |\n",
            "|  GPU   GI   CI        PID   Type   Process name                  GPU Memory |\n",
            "|        ID   ID                                                   Usage      |\n",
            "|=============================================================================|\n",
            "+-----------------------------------------------------------------------------+\n"
          ]
        }
      ]
    },
    {
      "cell_type": "code",
      "source": [
        "# imports from installed libraries\n",
        "import os\n",
        "import numpy as np\n",
        "import random\n",
        "import torch\n",
        "from distutils.version import LooseVersion as Version\n",
        "from itertools import product\n",
        "\n",
        "def set_all_seeds(seed):\n",
        "    os.environ[\"PL_GLOBAL_SEED\"] = str(seed)\n",
        "    random.seed(seed)\n",
        "    np.random.seed(seed)\n",
        "    torch.manual_seed(seed)\n",
        "    torch.cuda.manual_seed_all(seed)\n",
        "\n",
        "\n",
        "def set_deterministic(use_tensorcores=False):\n",
        "    if torch.cuda.is_available():\n",
        "        torch.backends.cudnn.benchmark = False\n",
        "        torch.backends.cudnn.deterministic = True\n",
        "\n",
        "    if torch.__version__ <= Version(\"1.7\"):\n",
        "        torch.set_deterministic(True)\n",
        "    else:\n",
        "        torch.use_deterministic_algorithms(True)\n",
        "        \n",
        "        # The following are set to True by default and allow cards\n",
        "        # like the Ampere and newer to utilize tensorcores for\n",
        "        # convolutions and matrix multiplications, which can result\n",
        "        # in a significant speed-up. However, results may differ compared\n",
        "        # to card how don't use mixed precision via tensor cores.\n",
        "        torch.backends.cuda.matmul.allow_tf32 = use_tensorcores\n",
        "        torch.backends.cudnn.allow_tf32 = use_tensorcores\n",
        "\n",
        "\n",
        "def compute_accuracy(model, data_loader, device):\n",
        "\n",
        "    with torch.no_grad():\n",
        "\n",
        "        correct_pred, num_examples = 0, 0\n",
        "\n",
        "        for i, (features, targets) in enumerate(data_loader):\n",
        "\n",
        "            features = features.to(device)\n",
        "            targets = targets.float().to(device)\n",
        "\n",
        "            logits = model(features)\n",
        "            _, predicted_labels = torch.max(logits, 1)\n",
        "\n",
        "            num_examples += targets.size(0)\n",
        "            correct_pred += (predicted_labels == targets).sum()\n",
        "    return correct_pred.float()/num_examples * 100\n",
        "\n",
        "\n",
        "def compute_confusion_matrix(model, data_loader, device):\n",
        "\n",
        "    all_targets, all_predictions = [], []\n",
        "    with torch.no_grad():\n",
        "\n",
        "        for i, (features, targets) in enumerate(data_loader):\n",
        "\n",
        "            features = features.to(device)\n",
        "            targets = targets\n",
        "            logits = model(features)\n",
        "            _, predicted_labels = torch.max(logits, 1)\n",
        "            all_targets.extend(targets.to('cpu'))\n",
        "            all_predictions.extend(predicted_labels.to('cpu'))\n",
        "\n",
        "    all_predictions = all_predictions\n",
        "    all_predictions = np.array(all_predictions)\n",
        "    all_targets = np.array(all_targets)\n",
        "        \n",
        "    class_labels = np.unique(np.concatenate((all_targets, all_predictions)))\n",
        "    if class_labels.shape[0] == 1:\n",
        "        if class_labels[0] != 0:\n",
        "            class_labels = np.array([0, class_labels[0]])\n",
        "        else:\n",
        "            class_labels = np.array([class_labels[0], 1])\n",
        "    n_labels = class_labels.shape[0]\n",
        "    lst = []\n",
        "    z = list(zip(all_targets, all_predictions))\n",
        "    for combi in product(class_labels, repeat=2):\n",
        "        lst.append(z.count(combi))\n",
        "    mat = np.asarray(lst)[:, None].reshape(n_labels, n_labels)\n",
        "    return mat"
      ],
      "metadata": {
        "id": "SukYi4CT9EQZ"
      },
      "execution_count": null,
      "outputs": []
    },
    {
      "cell_type": "code",
      "source": [
        "import time\n",
        "import torch\n",
        "\n",
        "def train_model(model, num_epochs, train_loader,\n",
        "                valid_loader, test_loader, optimizer,\n",
        "                device, logging_interval=50,\n",
        "                scheduler=None,\n",
        "                scheduler_on='valid_acc'):\n",
        "\n",
        "    start_time = time.time()\n",
        "    minibatch_loss_list, train_acc_list, valid_acc_list = [], [], []\n",
        "    \n",
        "    for epoch in range(num_epochs):\n",
        "\n",
        "        model.train()\n",
        "        for batch_idx, (features, targets) in enumerate(train_loader):\n",
        "\n",
        "            features = features.to(device)\n",
        "            targets = targets.to(device)\n",
        "\n",
        "            # ## FORWARD AND BACK PROP\n",
        "            logits = model(features)\n",
        "            loss = torch.nn.functional.cross_entropy(logits, targets)\n",
        "            optimizer.zero_grad()\n",
        "\n",
        "            loss.backward()\n",
        "\n",
        "            # ## UPDATE MODEL PARAMETERS\n",
        "            optimizer.step()\n",
        "\n",
        "            # ## LOGGING\n",
        "            minibatch_loss_list.append(loss.item())\n",
        "            if not batch_idx % logging_interval:\n",
        "                print(f'Epoch: {epoch+1:03d}/{num_epochs:03d} '\n",
        "                      f'| Batch {batch_idx:04d}/{len(train_loader):04d} '\n",
        "                      f'| Loss: {loss:.4f}')\n",
        "\n",
        "        model.eval()\n",
        "        with torch.no_grad():  # save memory during inference\n",
        "            train_acc = compute_accuracy(model, train_loader, device=device)\n",
        "            valid_acc = compute_accuracy(model, valid_loader, device=device)\n",
        "            print(f'Epoch: {epoch+1:03d}/{num_epochs:03d} '\n",
        "                  f'| Train: {train_acc :.2f}% '\n",
        "                  f'| Validation: {valid_acc :.2f}%')\n",
        "            train_acc_list.append(train_acc.item())\n",
        "            valid_acc_list.append(valid_acc.item())\n",
        "\n",
        "        elapsed = (time.time() - start_time)/60\n",
        "        print(f'Time elapsed: {elapsed:.2f} min')\n",
        "        \n",
        "        if scheduler is not None:\n",
        "\n",
        "            if scheduler_on == 'valid_acc':\n",
        "                scheduler.step(valid_acc_list[-1])\n",
        "            elif scheduler_on == 'minibatch_loss':\n",
        "                scheduler.step(minibatch_loss_list[-1])\n",
        "            else:\n",
        "                raise ValueError(f'Invalid `scheduler_on` choice.')\n",
        "        \n",
        "\n",
        "    elapsed = (time.time() - start_time)/60\n",
        "    print(f'Total Training Time: {elapsed:.2f} min')\n",
        "\n",
        "    test_acc = compute_accuracy(model, test_loader, device=device)\n",
        "    print(f'Test accuracy {test_acc :.2f}%')\n",
        "\n",
        "    return minibatch_loss_list, train_acc_list, valid_acc_list"
      ],
      "metadata": {
        "id": "9TP-V4Cgi3g9"
      },
      "execution_count": null,
      "outputs": []
    },
    {
      "cell_type": "code",
      "source": [
        "# imports from installed libraries\n",
        "import os\n",
        "import matplotlib.pyplot as plt\n",
        "import numpy as np\n",
        "import torch\n",
        "\n",
        "\n",
        "def plot_training_loss(minibatch_loss_list, num_epochs, iter_per_epoch,\n",
        "                       results_dir=None, averaging_iterations=100):\n",
        "\n",
        "    plt.figure()\n",
        "    ax1 = plt.subplot(1, 1, 1)\n",
        "    ax1.plot(range(len(minibatch_loss_list)),\n",
        "             (minibatch_loss_list), label='Minibatch Loss')\n",
        "\n",
        "    if len(minibatch_loss_list) > 1000:\n",
        "        ax1.set_ylim([\n",
        "            0, np.max(minibatch_loss_list[1000:])*1.5\n",
        "            ])\n",
        "    ax1.set_xlabel('Iterations')\n",
        "    ax1.set_ylabel('Loss')\n",
        "\n",
        "    ax1.plot(np.convolve(minibatch_loss_list,\n",
        "                         np.ones(averaging_iterations,)/averaging_iterations,\n",
        "                         mode='valid'),\n",
        "             label='Running Average')\n",
        "    ax1.legend()\n",
        "\n",
        "    ###################\n",
        "    # Set scond x-axis\n",
        "    ax2 = ax1.twiny()\n",
        "    newlabel = list(range(num_epochs+1))\n",
        "\n",
        "    newpos = [e*iter_per_epoch for e in newlabel]\n",
        "\n",
        "    ax2.set_xticks(newpos[::10])\n",
        "    ax2.set_xticklabels(newlabel[::10])\n",
        "\n",
        "    ax2.xaxis.set_ticks_position('bottom')\n",
        "    ax2.xaxis.set_label_position('bottom')\n",
        "    ax2.spines['bottom'].set_position(('outward', 45))\n",
        "    ax2.set_xlabel('Epochs')\n",
        "    ax2.set_xlim(ax1.get_xlim())\n",
        "    ###################\n",
        "\n",
        "    plt.tight_layout()\n",
        "\n",
        "    if results_dir is not None:\n",
        "        image_path = os.path.join(results_dir, 'plot_training_loss.pdf')\n",
        "        plt.savefig(image_path)\n",
        "\n",
        "\n",
        "def plot_accuracy(train_acc_list, valid_acc_list, results_dir):\n",
        "\n",
        "    num_epochs = len(train_acc_list)\n",
        "\n",
        "    plt.plot(np.arange(1, num_epochs+1),\n",
        "             train_acc_list, label='Training')\n",
        "    plt.plot(np.arange(1, num_epochs+1),\n",
        "             valid_acc_list, label='Validation')\n",
        "\n",
        "    plt.xlabel('Epoch')\n",
        "    plt.ylabel('Accuracy')\n",
        "    plt.legend()\n",
        "\n",
        "    plt.tight_layout()\n",
        "\n",
        "    if results_dir is not None:\n",
        "        image_path = os.path.join(\n",
        "            results_dir, 'plot_acc_training_validation.pdf')\n",
        "        plt.savefig(image_path)\n",
        "\n",
        "\n",
        "def show_examples(model, data_loader, unnormalizer=None, class_dict=None):\n",
        "    \n",
        "        \n",
        "    for batch_idx, (features, targets) in enumerate(data_loader):\n",
        "\n",
        "        with torch.no_grad():\n",
        "            features = features\n",
        "            targets = targets\n",
        "            logits = model(features)\n",
        "            predictions = torch.argmax(logits, dim=1)\n",
        "        break\n",
        "\n",
        "    fig, axes = plt.subplots(nrows=3, ncols=5,\n",
        "                             sharex=True, sharey=True)\n",
        "    \n",
        "    if unnormalizer is not None:\n",
        "        for idx in range(features.shape[0]):\n",
        "            features[idx] = unnormalizer(features[idx])\n",
        "    nhwc_img = np.transpose(features, axes=(0, 2, 3, 1))\n",
        "    \n",
        "    if nhwc_img.shape[-1] == 1:\n",
        "        nhw_img = np.squeeze(nhwc_img.numpy(), axis=3)\n",
        "\n",
        "        for idx, ax in enumerate(axes.ravel()):\n",
        "            ax.imshow(nhw_img[idx], cmap='binary')\n",
        "            if class_dict is not None:\n",
        "                ax.title.set_text(f'P: {class_dict[predictions[idx].item()]}'\n",
        "                                  f'\\nT: {class_dict[targets[idx].item()]}')\n",
        "            else:\n",
        "                ax.title.set_text(f'P: {predictions[idx]} | T: {targets[idx]}')\n",
        "            ax.axison = False\n",
        "\n",
        "    else:\n",
        "\n",
        "        for idx, ax in enumerate(axes.ravel()):\n",
        "            ax.imshow(nhwc_img[idx])\n",
        "            if class_dict is not None:\n",
        "                ax.title.set_text(f'P: {class_dict[predictions[idx].item()]}'\n",
        "                                  f'\\nT: {class_dict[targets[idx].item()]}')\n",
        "            else:\n",
        "                ax.title.set_text(f'P: {predictions[idx]} | T: {targets[idx]}')\n",
        "            ax.axison = False\n",
        "    plt.tight_layout()\n",
        "    plt.show()\n",
        "\n",
        "\n",
        "def plot_confusion_matrix(conf_mat,\n",
        "                          hide_spines=False,\n",
        "                          hide_ticks=False,\n",
        "                          figsize=None,\n",
        "                          cmap=None,\n",
        "                          colorbar=False,\n",
        "                          show_absolute=True,\n",
        "                          show_normed=False,\n",
        "                          class_names=None):\n",
        "\n",
        "    if not (show_absolute or show_normed):\n",
        "        raise AssertionError('Both show_absolute and show_normed are False')\n",
        "    if class_names is not None and len(class_names) != len(conf_mat):\n",
        "        raise AssertionError('len(class_names) should be equal to number of'\n",
        "                             'classes in the dataset')\n",
        "\n",
        "    total_samples = conf_mat.sum(axis=1)[:, np.newaxis]\n",
        "    normed_conf_mat = conf_mat.astype('float') / total_samples\n",
        "\n",
        "    fig, ax = plt.subplots(figsize=figsize)\n",
        "    ax.grid(False)\n",
        "    if cmap is None:\n",
        "        cmap = plt.cm.Blues\n",
        "\n",
        "    if figsize is None:\n",
        "        figsize = (len(conf_mat)*1.25, len(conf_mat)*1.25)\n",
        "\n",
        "    if show_normed:\n",
        "        matshow = ax.matshow(normed_conf_mat, cmap=cmap)\n",
        "    else:\n",
        "        matshow = ax.matshow(conf_mat, cmap=cmap)\n",
        "\n",
        "    if colorbar:\n",
        "        fig.colorbar(matshow)\n",
        "\n",
        "    for i in range(conf_mat.shape[0]):\n",
        "        for j in range(conf_mat.shape[1]):\n",
        "            cell_text = \"\"\n",
        "            if show_absolute:\n",
        "                cell_text += format(conf_mat[i, j], 'd')\n",
        "                if show_normed:\n",
        "                    cell_text += \"\\n\" + '('\n",
        "                    cell_text += format(normed_conf_mat[i, j], '.2f') + ')'\n",
        "            else:\n",
        "                cell_text += format(normed_conf_mat[i, j], '.2f')\n",
        "            ax.text(x=j,\n",
        "                    y=i,\n",
        "                    s=cell_text,\n",
        "                    va='center',\n",
        "                    ha='center',\n",
        "                    color=\"white\" if normed_conf_mat[i, j] > 0.5 else \"black\")\n",
        "    \n",
        "    if class_names is not None:\n",
        "        tick_marks = np.arange(len(class_names))\n",
        "        plt.xticks(tick_marks, class_names, rotation=90)\n",
        "        plt.yticks(tick_marks, class_names)\n",
        "        \n",
        "    if hide_spines:\n",
        "        ax.spines['right'].set_visible(False)\n",
        "        ax.spines['top'].set_visible(False)\n",
        "        ax.spines['left'].set_visible(False)\n",
        "        ax.spines['bottom'].set_visible(False)\n",
        "    ax.yaxis.set_ticks_position('left')\n",
        "    ax.xaxis.set_ticks_position('bottom')\n",
        "    if hide_ticks:\n",
        "        ax.axes.get_yaxis().set_ticks([])\n",
        "        ax.axes.get_xaxis().set_ticks([])\n",
        "\n",
        "    plt.xlabel('predicted label')\n",
        "    plt.ylabel('true label')\n",
        "    return fig, ax"
      ],
      "metadata": {
        "id": "Ich8ZSuh9MDe"
      },
      "execution_count": null,
      "outputs": []
    },
    {
      "cell_type": "code",
      "source": [
        "import torch\n",
        "from torch.utils.data import sampler\n",
        "from torchvision import datasets\n",
        "from torch.utils.data import DataLoader\n",
        "from torch.utils.data import SubsetRandomSampler\n",
        "from torchvision import transforms\n",
        "\n",
        "\n",
        "class UnNormalize(object):\n",
        "    def __init__(self, mean, std):\n",
        "        self.mean = mean\n",
        "        self.std = std\n",
        "\n",
        "    def __call__(self, tensor):\n",
        "        \"\"\"\n",
        "        Parameters:\n",
        "        ------------\n",
        "        tensor (Tensor): Tensor image of size (C, H, W) to be normalized.\n",
        "        \n",
        "        Returns:\n",
        "        ------------\n",
        "        Tensor: Normalized image.\n",
        "        \"\"\"\n",
        "        for t, m, s in zip(tensor, self.mean, self.std):\n",
        "            t.mul_(s).add_(m)\n",
        "        return tensor\n",
        "\n",
        "\n",
        "# # def get_dataloaders_mnist(batch_size, num_workers=0,\n",
        "# #                           validation_fraction=None,\n",
        "# #                           train_transforms=None,\n",
        "# #                           test_transforms=None):\n",
        "\n",
        "# #     if train_transforms is None:\n",
        "# #         train_transforms = transforms.ToTensor()\n",
        "\n",
        "# #     if test_transforms is None:\n",
        "# #         test_transforms = transforms.ToTensor()\n",
        "\n",
        "# #     train_dataset = datasets.MNIST(root='data',\n",
        "# #                                    train=True,\n",
        "# #                                    transform=train_transforms,\n",
        "# #                                    download=True)\n",
        "\n",
        "# #     valid_dataset = datasets.MNIST(root='data',\n",
        "# #                                    train=True,\n",
        "# #                                    transform=test_transforms)\n",
        "\n",
        "# #     test_dataset = datasets.MNIST(root='data',\n",
        "# #                                   train=False,\n",
        "# #                                   transform=test_transforms)\n",
        "\n",
        "# #     if validation_fraction is not None:\n",
        "# #         num = int(validation_fraction * 60000)\n",
        "# #         train_indices = torch.arange(0, 60000 - num)\n",
        "# #         valid_indices = torch.arange(60000 - num, 60000)\n",
        "\n",
        "# #         train_sampler = SubsetRandomSampler(train_indices)\n",
        "# #         valid_sampler = SubsetRandomSampler(valid_indices)\n",
        "\n",
        "# #         valid_loader = DataLoader(dataset=valid_dataset,\n",
        "# #                                   batch_size=batch_size,\n",
        "# #                                   num_workers=num_workers,\n",
        "# #                                   sampler=valid_sampler)\n",
        "\n",
        "# #         train_loader = DataLoader(dataset=train_dataset,\n",
        "# #                                   batch_size=batch_size,\n",
        "#                                   num_workers=num_workers,\n",
        "#                                   drop_last=True,\n",
        "#                                   sampler=train_sampler)\n",
        "\n",
        "#     else:\n",
        "#         train_loader = DataLoader(dataset=train_dataset,\n",
        "#                                   batch_size=batch_size,\n",
        "#                                   num_workers=num_workers,\n",
        "#                                   drop_last=True,\n",
        "#                                   shuffle=True)\n",
        "\n",
        "#     test_loader = DataLoader(dataset=test_dataset,\n",
        "#                              batch_size=batch_size,\n",
        "#                              num_workers=num_workers,\n",
        "#                              shuffle=False)\n",
        "\n",
        "#     if validation_fraction is None:\n",
        "#         return train_loader, test_loader\n",
        "#     else:\n",
        "#         return train_loader, valid_loader, test_loader\n",
        "\n",
        "\n",
        "# def get_dataloaders_cifar10(batch_size, num_workers=0,\n",
        "#                             validation_fraction=None,\n",
        "#                             train_transforms=None,\n",
        "#                             test_transforms=None):\n",
        "\n",
        "#     if train_transforms is None:\n",
        "#         train_transforms = transforms.ToTensor()\n",
        "\n",
        "#     if test_transforms is None:\n",
        "#         test_transforms = transforms.ToTensor()\n",
        "\n",
        "#     train_dataset = datasets.CIFAR10(root='data',\n",
        "#                                      train=True,\n",
        "#                                      transform=train_transforms,\n",
        "#                                      download=True)\n",
        "\n",
        "#     valid_dataset = datasets.CIFAR10(root='data',\n",
        "#                                      train=True,\n",
        "#                                      transform=test_transforms)\n",
        "\n",
        "#     test_dataset = datasets.CIFAR10(root='data',\n",
        "#                                     train=False,\n",
        "#                                     transform=test_transforms)\n",
        "\n",
        "#     if validation_fraction is not None:\n",
        "#         num = int(validation_fraction * 50000)\n",
        "#         train_indices = torch.arange(0, 50000 - num)\n",
        "#         valid_indices = torch.arange(50000 - num, 50000)\n",
        "\n",
        "#         train_sampler = SubsetRandomSampler(train_indices)\n",
        "#         valid_sampler = SubsetRandomSampler(valid_indices)\n",
        "\n",
        "#         valid_loader = DataLoader(dataset=valid_dataset,\n",
        "#                                   batch_size=batch_size,\n",
        "#                                   num_workers=num_workers,\n",
        "#                                   sampler=valid_sampler)\n",
        "\n",
        "#         train_loader = DataLoader(dataset=train_dataset,\n",
        "#                                   batch_size=batch_size,\n",
        "#                                   num_workers=num_workers,\n",
        "#                                   drop_last=True,\n",
        "#                                   sampler=train_sampler)\n",
        "\n",
        "#     else:\n",
        "#         train_loader = DataLoader(dataset=train_dataset,\n",
        "#                                   batch_size=batch_size,\n",
        "#                                   num_workers=num_workers,\n",
        "#                                   drop_last=True,\n",
        "#                                   shuffle=True)\n",
        "\n",
        "#     test_loader = DataLoader(dataset=test_dataset,\n",
        "#                              batch_size=batch_size,\n",
        "#                              num_workers=num_workers,\n",
        "#                              shuffle=False)\n",
        "\n",
        "#     if validation_fraction is None:\n",
        "#         return train_loader, test_loader\n",
        "#     else:\n",
        "#         return train_loader, valid_loader, test_loader"
      ],
      "metadata": {
        "id": "AeRlHi3Y9lD0"
      },
      "execution_count": null,
      "outputs": []
    },
    {
      "cell_type": "code",
      "source": [
        "import torch\n",
        "import torchvision\n",
        "import numpy as np\n",
        "import matplotlib.pyplot as plt"
      ],
      "metadata": {
        "id": "QMAn7rEf9vrs"
      },
      "execution_count": null,
      "outputs": []
    },
    {
      "cell_type": "code",
      "source": [
        "RANDOM_SEED = 123\n",
        "BATCH_SIZE = 4\n",
        "NUM_EPOCHS = 3\n",
        "DEVICE = torch.device('cuda:0' if torch.cuda.is_available() else 'cpu')"
      ],
      "metadata": {
        "id": "lPicr7Bj99J3"
      },
      "execution_count": null,
      "outputs": []
    },
    {
      "cell_type": "code",
      "source": [
        "set_all_seeds(RANDOM_SEED)\n",
        "#set_deterministic()"
      ],
      "metadata": {
        "id": "zZru4BqL-Civ"
      },
      "execution_count": null,
      "outputs": []
    },
    {
      "cell_type": "code",
      "source": [
        "# Checking the dataset\n",
        "for images, labels in train_loader:  \n",
        "    print('Image batch dimensions:', images.shape)\n",
        "    print('Image label dimensions:', labels.shape)\n",
        "    print('Class labels of 10 examples:', labels[:10])\n",
        "    break"
      ],
      "metadata": {
        "colab": {
          "base_uri": "https://localhost:8080/"
        },
        "id": "fH5fr69u-FpJ",
        "outputId": "6a43c9be-a423-4b58-baac-ec286bdf8367"
      },
      "execution_count": null,
      "outputs": [
        {
          "output_type": "stream",
          "name": "stdout",
          "text": [
            "Image batch dimensions: torch.Size([4, 3, 224, 224])\n",
            "Image label dimensions: torch.Size([4])\n",
            "Class labels of 10 examples: tensor([1, 1, 0, 0])\n"
          ]
        }
      ]
    },
    {
      "cell_type": "code",
      "source": [
        "model = torchvision.models.vgg16(pretrained=True)\n",
        "model"
      ],
      "metadata": {
        "colab": {
          "base_uri": "https://localhost:8080/"
        },
        "id": "VUFMODyQ-c_l",
        "outputId": "b2aad917-cd0e-4d5c-f1ec-b31f0243cfff"
      },
      "execution_count": null,
      "outputs": [
        {
          "output_type": "execute_result",
          "data": {
            "text/plain": [
              "VGG(\n",
              "  (features): Sequential(\n",
              "    (0): Conv2d(3, 64, kernel_size=(3, 3), stride=(1, 1), padding=(1, 1))\n",
              "    (1): ReLU(inplace=True)\n",
              "    (2): Conv2d(64, 64, kernel_size=(3, 3), stride=(1, 1), padding=(1, 1))\n",
              "    (3): ReLU(inplace=True)\n",
              "    (4): MaxPool2d(kernel_size=2, stride=2, padding=0, dilation=1, ceil_mode=False)\n",
              "    (5): Conv2d(64, 128, kernel_size=(3, 3), stride=(1, 1), padding=(1, 1))\n",
              "    (6): ReLU(inplace=True)\n",
              "    (7): Conv2d(128, 128, kernel_size=(3, 3), stride=(1, 1), padding=(1, 1))\n",
              "    (8): ReLU(inplace=True)\n",
              "    (9): MaxPool2d(kernel_size=2, stride=2, padding=0, dilation=1, ceil_mode=False)\n",
              "    (10): Conv2d(128, 256, kernel_size=(3, 3), stride=(1, 1), padding=(1, 1))\n",
              "    (11): ReLU(inplace=True)\n",
              "    (12): Conv2d(256, 256, kernel_size=(3, 3), stride=(1, 1), padding=(1, 1))\n",
              "    (13): ReLU(inplace=True)\n",
              "    (14): Conv2d(256, 256, kernel_size=(3, 3), stride=(1, 1), padding=(1, 1))\n",
              "    (15): ReLU(inplace=True)\n",
              "    (16): MaxPool2d(kernel_size=2, stride=2, padding=0, dilation=1, ceil_mode=False)\n",
              "    (17): Conv2d(256, 512, kernel_size=(3, 3), stride=(1, 1), padding=(1, 1))\n",
              "    (18): ReLU(inplace=True)\n",
              "    (19): Conv2d(512, 512, kernel_size=(3, 3), stride=(1, 1), padding=(1, 1))\n",
              "    (20): ReLU(inplace=True)\n",
              "    (21): Conv2d(512, 512, kernel_size=(3, 3), stride=(1, 1), padding=(1, 1))\n",
              "    (22): ReLU(inplace=True)\n",
              "    (23): MaxPool2d(kernel_size=2, stride=2, padding=0, dilation=1, ceil_mode=False)\n",
              "    (24): Conv2d(512, 512, kernel_size=(3, 3), stride=(1, 1), padding=(1, 1))\n",
              "    (25): ReLU(inplace=True)\n",
              "    (26): Conv2d(512, 512, kernel_size=(3, 3), stride=(1, 1), padding=(1, 1))\n",
              "    (27): ReLU(inplace=True)\n",
              "    (28): Conv2d(512, 512, kernel_size=(3, 3), stride=(1, 1), padding=(1, 1))\n",
              "    (29): ReLU(inplace=True)\n",
              "    (30): MaxPool2d(kernel_size=2, stride=2, padding=0, dilation=1, ceil_mode=False)\n",
              "  )\n",
              "  (avgpool): AdaptiveAvgPool2d(output_size=(7, 7))\n",
              "  (classifier): Sequential(\n",
              "    (0): Linear(in_features=25088, out_features=4096, bias=True)\n",
              "    (1): ReLU(inplace=True)\n",
              "    (2): Dropout(p=0.5, inplace=False)\n",
              "    (3): Linear(in_features=4096, out_features=4096, bias=True)\n",
              "    (4): ReLU(inplace=True)\n",
              "    (5): Dropout(p=0.5, inplace=False)\n",
              "    (6): Linear(in_features=4096, out_features=1000, bias=True)\n",
              "  )\n",
              ")"
            ]
          },
          "metadata": {},
          "execution_count": 138
        }
      ]
    },
    {
      "cell_type": "code",
      "source": [
        "for param in model.parameters():\n",
        "    param.requires_grad = False"
      ],
      "metadata": {
        "id": "tJ-m88Ui-2Zo"
      },
      "execution_count": null,
      "outputs": []
    },
    {
      "cell_type": "code",
      "source": [
        "model.classifier[0].requires_grad = True\n",
        "model.classifier[3].requires_grad = True"
      ],
      "metadata": {
        "id": "UR_wcRiU-7ev"
      },
      "execution_count": null,
      "outputs": []
    },
    {
      "cell_type": "code",
      "source": [
        "model.classifier[6] = torch.nn.Linear(4096, 2)"
      ],
      "metadata": {
        "id": "azDk-jkg-_yW"
      },
      "execution_count": null,
      "outputs": []
    },
    {
      "cell_type": "code",
      "source": [
        "model = model.to(DEVICE)\n",
        "\n",
        "optimizer = torch.optim.SGD(model.parameters(), momentum=0.9, lr=0.01)\n",
        "scheduler = torch.optim.lr_scheduler.ReduceLROnPlateau(optimizer,\n",
        "                                                       factor=0.1,\n",
        "                                                       mode='max',\n",
        "                                                       verbose=True)\n",
        "\n",
        "minibatch_loss_list, train_acc_list, valid_acc_list = train_model(\n",
        "    model=model,\n",
        "    num_epochs=NUM_EPOCHS,\n",
        "    train_loader=train_loader,\n",
        "    valid_loader=valid_loader,\n",
        "    test_loader=test_loader,\n",
        "    optimizer=optimizer,\n",
        "    device=DEVICE,\n",
        "    scheduler=scheduler,\n",
        "    scheduler_on='valid_acc',\n",
        "    logging_interval=100)\n",
        "\n",
        "plot_training_loss(minibatch_loss_list=minibatch_loss_list,\n",
        "                   num_epochs=NUM_EPOCHS,\n",
        "                   iter_per_epoch=len(train_loader),\n",
        "                   results_dir=None,\n",
        "                   averaging_iterations=200)\n",
        "plt.show()\n",
        "\n",
        "plot_accuracy(train_acc_list=train_acc_list,\n",
        "              valid_acc_list=valid_acc_list,\n",
        "              results_dir=None)\n",
        "plt.ylim([60, 100])\n",
        "plt.show()"
      ],
      "metadata": {
        "colab": {
          "base_uri": "https://localhost:8080/",
          "height": 1000
        },
        "id": "GYXj30qs_B3f",
        "outputId": "1dc66938-7d63-43b2-a186-2b9114c3a535"
      },
      "execution_count": null,
      "outputs": [
        {
          "output_type": "stream",
          "name": "stdout",
          "text": [
            "Epoch: 001/003 | Batch 0000/1669 | Loss: 0.8054\n",
            "Epoch: 001/003 | Batch 0100/1669 | Loss: 0.0042\n",
            "Epoch: 001/003 | Batch 0200/1669 | Loss: 0.0000\n",
            "Epoch: 001/003 | Batch 0300/1669 | Loss: 9.2322\n",
            "Epoch: 001/003 | Batch 0400/1669 | Loss: 0.0000\n",
            "Epoch: 001/003 | Batch 0500/1669 | Loss: 10.6495\n",
            "Epoch: 001/003 | Batch 0600/1669 | Loss: 0.0000\n",
            "Epoch: 001/003 | Batch 0700/1669 | Loss: 21.7751\n",
            "Epoch: 001/003 | Batch 0800/1669 | Loss: 15.4940\n",
            "Epoch: 001/003 | Batch 0900/1669 | Loss: 28.0586\n",
            "Epoch: 001/003 | Batch 1000/1669 | Loss: 0.0003\n",
            "Epoch: 001/003 | Batch 1100/1669 | Loss: 0.0000\n",
            "Epoch: 001/003 | Batch 1200/1669 | Loss: 42.9704\n",
            "Epoch: 001/003 | Batch 1300/1669 | Loss: 0.2778\n",
            "Epoch: 001/003 | Batch 1400/1669 | Loss: 50.5112\n",
            "Epoch: 001/003 | Batch 1500/1669 | Loss: 0.7317\n",
            "Epoch: 001/003 | Batch 1600/1669 | Loss: 30.3315\n",
            "Epoch: 001/003 | Train: 73.33% | Validation: 73.68%\n",
            "Time elapsed: 45.50 min\n",
            "Epoch: 002/003 | Batch 0000/1669 | Loss: 76.2419\n",
            "Epoch: 002/003 | Batch 0100/1669 | Loss: 29.6079\n",
            "Epoch: 002/003 | Batch 0200/1669 | Loss: 0.0000\n",
            "Epoch: 002/003 | Batch 0300/1669 | Loss: 20.7242\n",
            "Epoch: 002/003 | Batch 0400/1669 | Loss: 0.0000\n",
            "Epoch: 002/003 | Batch 0500/1669 | Loss: 5.1360\n",
            "Epoch: 002/003 | Batch 0600/1669 | Loss: 20.1875\n",
            "Epoch: 002/003 | Batch 0700/1669 | Loss: 22.2839\n",
            "Epoch: 002/003 | Batch 0800/1669 | Loss: 0.0000\n",
            "Epoch: 002/003 | Batch 0900/1669 | Loss: 0.0000\n",
            "Epoch: 002/003 | Batch 1000/1669 | Loss: 0.0000\n",
            "Epoch: 002/003 | Batch 1100/1669 | Loss: 1.5536\n",
            "Epoch: 002/003 | Batch 1200/1669 | Loss: 13.4580\n",
            "Epoch: 002/003 | Batch 1300/1669 | Loss: 0.0892\n",
            "Epoch: 002/003 | Batch 1400/1669 | Loss: 0.0000\n",
            "Epoch: 002/003 | Batch 1500/1669 | Loss: 0.0000\n",
            "Epoch: 002/003 | Batch 1600/1669 | Loss: 12.1047\n",
            "Epoch: 002/003 | Train: 81.98% | Validation: 81.65%\n",
            "Time elapsed: 55.87 min\n",
            "Epoch: 003/003 | Batch 0000/1669 | Loss: 0.0000\n",
            "Epoch: 003/003 | Batch 0100/1669 | Loss: 20.4888\n",
            "Epoch: 003/003 | Batch 0200/1669 | Loss: 15.5403\n",
            "Epoch: 003/003 | Batch 0300/1669 | Loss: 3.2731\n",
            "Epoch: 003/003 | Batch 0400/1669 | Loss: 19.2342\n",
            "Epoch: 003/003 | Batch 0500/1669 | Loss: 0.8727\n",
            "Epoch: 003/003 | Batch 0600/1669 | Loss: 7.2233\n",
            "Epoch: 003/003 | Batch 0700/1669 | Loss: 0.0000\n",
            "Epoch: 003/003 | Batch 0800/1669 | Loss: 22.3350\n",
            "Epoch: 003/003 | Batch 0900/1669 | Loss: 4.7655\n",
            "Epoch: 003/003 | Batch 1000/1669 | Loss: 0.0000\n",
            "Epoch: 003/003 | Batch 1100/1669 | Loss: 3.0136\n",
            "Epoch: 003/003 | Batch 1200/1669 | Loss: 0.0000\n",
            "Epoch: 003/003 | Batch 1300/1669 | Loss: 0.0000\n",
            "Epoch: 003/003 | Batch 1400/1669 | Loss: 0.6555\n",
            "Epoch: 003/003 | Batch 1500/1669 | Loss: 21.2391\n",
            "Epoch: 003/003 | Batch 1600/1669 | Loss: 0.1645\n",
            "Epoch: 003/003 | Train: 79.57% | Validation: 78.71%\n",
            "Time elapsed: 66.36 min\n",
            "Total Training Time: 66.36 min\n",
            "Test accuracy 79.58%\n"
          ]
        },
        {
          "output_type": "display_data",
          "data": {
            "text/plain": [
              "<Figure size 432x288 with 2 Axes>"
            ],
            "image/png": "[encoded data removed]"
          },
          "metadata": {
            "needs_background": "light"
          }
        },
        {
          "output_type": "display_data",
          "data": {
            "text/plain": [
              "<Figure size 432x288 with 1 Axes>"
            ],
            "image/png": "[encoded data removed]"
          },
          "metadata": {
            "needs_background": "light"
          }
        }
      ]
    },
    {
      "cell_type": "code",
      "source": [
        ""
      ],
      "metadata": {
        "id": "abcgrzUt_ZuI"
      },
      "execution_count": null,
      "outputs": []
    },
    {
      "cell_type": "code",
      "source": [
        "torch.save(model.state_dict(), '/content/drive/MyDrive/PRML Project/covid 19/weights/m1/vgg16_13_04_only_linear_layers.pth')"
      ],
      "metadata": {
        "id": "Dx3CyfxIOUB8"
      },
      "execution_count": null,
      "outputs": []
    },
    {
      "cell_type": "code",
      "source": [
        "model.cpu()\n",
        "unnormalizer = UnNormalize(mean, std)\n",
        "class_dict = {0: 'Covid',\n",
        "              1: 'Non-Covid'}\n",
        "show_examples(model=model, data_loader=test_loader, unnormalizer=unnormalizer, class_dict=class_dict)"
      ],
      "metadata": {
        "colab": {
          "base_uri": "https://localhost:8080/",
          "height": 599
        },
        "id": "BCO2UrOtN4jl",
        "outputId": "95fd3707-03ee-4b05-c53c-6e57dff63cfa"
      },
      "execution_count": null,
      "outputs": [
        {
          "output_type": "error",
          "ename": "IndexError",
          "evalue": "ignored",
          "traceback": [
            "\u001b[0;31m---------------------------------------------------------------------------\u001b[0m",
            "\u001b[0;31mIndexError\u001b[0m                                Traceback (most recent call last)",
            "\u001b[0;32m<ipython-input-144-7f12ff6e1da7>\u001b[0m in \u001b[0;36m<module>\u001b[0;34m()\u001b[0m\n\u001b[1;32m      3\u001b[0m class_dict = {0: 'Covid',\n\u001b[1;32m      4\u001b[0m               1: 'Non-Covid'}\n\u001b[0;32m----> 5\u001b[0;31m \u001b[0mshow_examples\u001b[0m\u001b[0;34m(\u001b[0m\u001b[0mmodel\u001b[0m\u001b[0;34m=\u001b[0m\u001b[0mmodel\u001b[0m\u001b[0;34m,\u001b[0m \u001b[0mdata_loader\u001b[0m\u001b[0;34m=\u001b[0m\u001b[0mtest_loader\u001b[0m\u001b[0;34m,\u001b[0m \u001b[0munnormalizer\u001b[0m\u001b[0;34m=\u001b[0m\u001b[0munnormalizer\u001b[0m\u001b[0;34m,\u001b[0m \u001b[0mclass_dict\u001b[0m\u001b[0;34m=\u001b[0m\u001b[0mclass_dict\u001b[0m\u001b[0;34m)\u001b[0m\u001b[0;34m\u001b[0m\u001b[0;34m\u001b[0m\u001b[0m\n\u001b[0m",
            "\u001b[0;32m<ipython-input-123-c48e17f75b50>\u001b[0m in \u001b[0;36mshow_examples\u001b[0;34m(model, data_loader, unnormalizer, class_dict)\u001b[0m\n\u001b[1;32m    107\u001b[0m \u001b[0;34m\u001b[0m\u001b[0m\n\u001b[1;32m    108\u001b[0m         \u001b[0;32mfor\u001b[0m \u001b[0midx\u001b[0m\u001b[0;34m,\u001b[0m \u001b[0max\u001b[0m \u001b[0;32min\u001b[0m \u001b[0menumerate\u001b[0m\u001b[0;34m(\u001b[0m\u001b[0maxes\u001b[0m\u001b[0;34m.\u001b[0m\u001b[0mravel\u001b[0m\u001b[0;34m(\u001b[0m\u001b[0;34m)\u001b[0m\u001b[0;34m)\u001b[0m\u001b[0;34m:\u001b[0m\u001b[0;34m\u001b[0m\u001b[0;34m\u001b[0m\u001b[0m\n\u001b[0;32m--> 109\u001b[0;31m             \u001b[0max\u001b[0m\u001b[0;34m.\u001b[0m\u001b[0mimshow\u001b[0m\u001b[0;34m(\u001b[0m\u001b[0mnhwc_img\u001b[0m\u001b[0;34m[\u001b[0m\u001b[0midx\u001b[0m\u001b[0;34m]\u001b[0m\u001b[0;34m)\u001b[0m\u001b[0;34m\u001b[0m\u001b[0;34m\u001b[0m\u001b[0m\n\u001b[0m\u001b[1;32m    110\u001b[0m             \u001b[0;32mif\u001b[0m \u001b[0mclass_dict\u001b[0m \u001b[0;32mis\u001b[0m \u001b[0;32mnot\u001b[0m \u001b[0;32mNone\u001b[0m\u001b[0;34m:\u001b[0m\u001b[0;34m\u001b[0m\u001b[0;34m\u001b[0m\u001b[0m\n\u001b[1;32m    111\u001b[0m                 ax.title.set_text(f'P: {class_dict[predictions[idx].item()]}'\n",
            "\u001b[0;31mIndexError\u001b[0m: index 4 is out of bounds for dimension 0 with size 4"
          ]
        },
        {
          "output_type": "display_data",
          "data": {
            "text/plain": [
              "<Figure size 432x288 with 15 Axes>"
            ],
            "image/png": "[encoded data removed]"
          },
          "metadata": {
            "needs_background": "light"
          }
        }
      ]
    },
    {
      "cell_type": "code",
      "source": [
        "mat = compute_confusion_matrix(model=model, data_loader=test_loader, device=torch.device('cpu'))\n",
        "plot_confusion_matrix(mat, class_names=class_dict.values())\n",
        "plt.show()"
      ],
      "metadata": {
        "colab": {
          "base_uri": "https://localhost:8080/",
          "height": 321
        },
        "id": "qOK3Vrz0N5UJ",
        "outputId": "89c1e755-79fd-4b32-ce4f-f760b7891949"
      },
      "execution_count": null,
      "outputs": [
        {
          "output_type": "display_data",
          "data": {
            "text/plain": [
              "<Figure size 432x288 with 1 Axes>"
            ],
            "image/png": "[encoded data removed]"
          },
          "metadata": {
            "needs_background": "light"
          }
        }
      ]
    },
    {
      "cell_type": "markdown",
      "source": [
        "Evaluation Metrics:"
      ],
      "metadata": {
        "id": "C3lxdaygD3LM"
      }
    },
    {
      "cell_type": "markdown",
      "source": [
        "![image.png](data:image/png;base64,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)"
      ],
      "metadata": {
        "id": "dCZIrf1HD6Lb"
      }
    }
  ]
}