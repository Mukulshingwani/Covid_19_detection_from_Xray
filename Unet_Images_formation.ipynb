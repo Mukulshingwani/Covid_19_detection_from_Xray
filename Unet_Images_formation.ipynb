{
  "nbformat": 4,
  "nbformat_minor": 0,
  "metadata": {
    "colab": {
      "name": "Unet_Images_formation.ipynb",
      "provenance": [],
      "collapsed_sections": []
    },
    "kernelspec": {
      "name": "python3",
      "display_name": "Python 3"
    },
    "language_info": {
      "name": "python"
    }
  },
  "cells": [
    {
      "cell_type": "code",
      "source": [
        "import pandas as pd\n",
        "import matplotlib.pyplot as plt\n",
        "import seaborn as sns"
      ],
      "metadata": {
        "id": "TVPDgAPM3Im9"
      },
      "execution_count": null,
      "outputs": []
    },
    {
      "cell_type": "code",
      "execution_count": null,
      "metadata": {
        "id": "4Wa0NRPI32ha"
      },
      "outputs": [],
      "source": [
        "import numpy as np \n",
        "import tensorflow as tf\n",
        "import pandas as pd\n",
        "from tqdm import tqdm\n",
        "import os\n",
        "from cv2 import imread, createCLAHE \n",
        "import cv2\n",
        "from glob import glob\n",
        "%matplotlib inline\n",
        "import matplotlib.pyplot as plt"
      ]
    },
    {
      "cell_type": "code",
      "source": [
        "from google.colab import drive\n",
        "drive.mount('/content/drive')"
      ],
      "metadata": {
        "colab": {
          "base_uri": "https://localhost:8080/"
        },
        "id": "7ub4jtsc3fUZ",
        "outputId": "c4a40114-bc27-43ab-b6c6-851f57ac3912"
      },
      "execution_count": null,
      "outputs": [
        {
          "output_type": "stream",
          "name": "stdout",
          "text": [
            "Mounted at /content/drive\n"
          ]
        }
      ]
    },
    {
      "cell_type": "code",
      "source": [
        "def SegmentImage(model,path,img_shape = (512,512),threshold = 0.5):\n",
        "    '''\n",
        "    **********Input**************\n",
        "    model: segmentation model (h5)\n",
        "    path: filepath to image (string)\n",
        "    img_shape: shape of the image(IMG_WIDTH,IMG_HEIGHT) used in segmenation model\n",
        "    threshold: float value varing between 0 and 1, thresholding the mask\n",
        "    *********Output*************\n",
        "    return: Segment mask, segmented image, original image\n",
        "    '''\n",
        "    IMG_WIDTH,IMG_HEIGHT = img_shape\n",
        "    ori_x = cv2.imread(path, cv2.IMREAD_GRAYSCALE)\n",
        "    ori_x = cv2.resize(ori_x, (IMG_HEIGHT,IMG_WIDTH))\n",
        "    x = ori_x/255.0\n",
        "    x = x.astype(np.float32)\n",
        "    x = np.expand_dims(x, axis=0)\n",
        "    y_pred = model.predict(x)[0] > threshold\n",
        "    y_pred = y_pred.astype(np.int32)\n",
        "    plt.imsave('mask.jpeg',np.squeeze(y_pred),cmap='gray')\n",
        "    maskapply = cv2.imread('mask.jpeg')\n",
        "    maskapply = cv2.cvtColor(maskapply, cv2.COLOR_BGR2GRAY)\n",
        "    chest_image = ori_x\n",
        "    chest_image = cv2.resize(chest_image, (IMG_HEIGHT, IMG_WIDTH),interpolation = cv2.INTER_NEAREST)\n",
        "    masked_image = cv2.bitwise_and(maskapply,chest_image)\n",
        "\n",
        "    invmaskapply = cv2.bitwise_not(maskapply)\n",
        "    invmasked_image = cv2.bitwise_and(invmaskapply,chest_image)\n",
        "    return maskapply,invmaskapply,masked_image,invmasked_image,chest_image"
      ],
      "metadata": {
        "id": "GZHXxDmw7Ay0"
      },
      "execution_count": null,
      "outputs": []
    },
    {
      "cell_type": "code",
      "source": [
        "import os"
      ],
      "metadata": {
        "id": "NR2xRhNJ3FTl"
      },
      "execution_count": null,
      "outputs": []
    },
    {
      "cell_type": "code",
      "source": [
        "len(os.listdir('/content/drive/MyDrive/PRML Project/covid 19/Extensive COVID-19 X-Ray and CT Chest Images Dataset.zip (Unzipped Files)/COVID-19 Dataset.zip (Unzipped Files)/COVID-19 Dataset/X-ray/COVID'))"
      ],
      "metadata": {
        "colab": {
          "base_uri": "https://localhost:8080/"
        },
        "id": "V3H2taz83RwF",
        "outputId": "e74280a8-100e-4b27-ef86-10090111bd9a"
      },
      "execution_count": null,
      "outputs": [
        {
          "output_type": "execute_result",
          "data": {
            "text/plain": [
              "4044"
            ]
          },
          "metadata": {},
          "execution_count": 6
        }
      ]
    },
    {
      "cell_type": "code",
      "source": [
        "allcovid = os.listdir('/content/drive/MyDrive/PRML Project/covid 19/Extensive COVID-19 X-Ray and CT Chest Images Dataset.zip (Unzipped Files)/COVID-19 Dataset.zip (Unzipped Files)/COVID-19 Dataset/X-ray/COVID')"
      ],
      "metadata": {
        "id": "bWPckJsx3bPL"
      },
      "execution_count": null,
      "outputs": []
    },
    {
      "cell_type": "code",
      "source": [
        "allnoncovid = os.listdir('/content/drive/MyDrive/PRML Project/covid 19/Extensive COVID-19 X-Ray and CT Chest Images Dataset.zip (Unzipped Files)/COVID-19 Dataset.zip (Unzipped Files)/COVID-19 Dataset/X-ray/Non-COVID')"
      ],
      "metadata": {
        "id": "fOsqZqKeKdBM"
      },
      "execution_count": null,
      "outputs": []
    },
    {
      "cell_type": "code",
      "source": [
        "base_covid = '/content/drive/MyDrive/PRML Project/covid 19/Extensive COVID-19 X-Ray and CT Chest Images Dataset.zip (Unzipped Files)/COVID-19 Dataset.zip (Unzipped Files)/COVID-19 Dataset/X-ray/COVID/'\n",
        "base_non_covid = '/content/drive/MyDrive/PRML Project/covid 19/Extensive COVID-19 X-Ray and CT Chest Images Dataset.zip (Unzipped Files)/COVID-19 Dataset.zip (Unzipped Files)/COVID-19 Dataset/X-ray/Non-COVID/'\n",
        "covid_masks = '/content/drive/MyDrive/PRML Project/covid 19/masks/Covid/'\n",
        "non_covid_masks = '/content/drive/MyDrive/PRML Project/covid 19/masks/Non-Covid/'\n",
        "invcovid_masks = '/content/drive/MyDrive/PRML Project/covid 19/inverse_masks/Covid/'\n",
        "invnon_covid_masks = '/content/drive/MyDrive/PRML Project/covid 19/inverse_masks/Non-Covid/'"
      ],
      "metadata": {
        "id": "VkAaZlo35E-j"
      },
      "execution_count": null,
      "outputs": []
    },
    {
      "cell_type": "code",
      "source": [
        "img1 = os.path.join(base_covid + allcovid[0])"
      ],
      "metadata": {
        "id": "FJa9gIbJ5hlM"
      },
      "execution_count": null,
      "outputs": []
    },
    {
      "cell_type": "code",
      "source": [
        "img1"
      ],
      "metadata": {
        "colab": {
          "base_uri": "https://localhost:8080/",
          "height": 71
        },
        "id": "l899SM4kDxY8",
        "outputId": "08a8dd44-2b91-409b-8868-06ce86655aa6"
      },
      "execution_count": null,
      "outputs": [
        {
          "output_type": "execute_result",
          "data": {
            "text/plain": [
              "'/content/drive/MyDrive/PRML Project/covid 19/Extensive COVID-19 X-Ray and CT Chest Images Dataset.zip (Unzipped Files)/COVID-19 Dataset.zip (Unzipped Files)/COVID-19 Dataset/X-ray/COVID/person1535_virus_2672.jpeg'"
            ],
            "application/vnd.google.colaboratory.intrinsic+json": {
              "type": "string"
            }
          },
          "metadata": {},
          "execution_count": 55
        }
      ]
    },
    {
      "cell_type": "code",
      "source": [
        "from keras.models import *\n",
        "from keras.layers import *\n",
        "from keras.optimizers import *\n",
        "from keras import backend as keras\n",
        "from keras.preprocessing.image import ImageDataGenerator\n",
        "from keras.callbacks import ModelCheckpoint, LearningRateScheduler\n",
        "\n",
        "\n",
        "def dice_coef(y_true, y_pred):\n",
        "    y_true_f = keras.flatten(y_true)\n",
        "    y_pred_f = keras.flatten(y_pred)\n",
        "    intersection = keras.sum(y_true_f * y_pred_f)\n",
        "    return (2. * intersection + 1) / (keras.sum(y_true_f) + keras.sum(y_pred_f) + 1)\n",
        "\n",
        "def dice_coef_loss(y_true, y_pred):\n",
        "    return -dice_coef(y_true, y_pred)\n",
        "\n",
        "def unet(input_size=(256,256,1)):\n",
        "    inputs = Input(input_size)\n",
        "    \n",
        "    conv1 = Conv2D(32, (3, 3), activation='relu', padding='same')(inputs)\n",
        "    conv1 = Conv2D(32, (3, 3), activation='relu', padding='same')(conv1)\n",
        "    pool1 = MaxPooling2D(pool_size=(2, 2))(conv1)\n",
        "\n",
        "    conv2 = Conv2D(64, (3, 3), activation='relu', padding='same')(pool1)\n",
        "    conv2 = Conv2D(64, (3, 3), activation='relu', padding='same')(conv2)\n",
        "    pool2 = MaxPooling2D(pool_size=(2, 2))(conv2)\n",
        "\n",
        "    conv3 = Conv2D(128, (3, 3), activation='relu', padding='same')(pool2)\n",
        "    conv3 = Conv2D(128, (3, 3), activation='relu', padding='same')(conv3)\n",
        "    pool3 = MaxPooling2D(pool_size=(2, 2))(conv3)\n",
        "\n",
        "    conv4 = Conv2D(256, (3, 3), activation='relu', padding='same')(pool3)\n",
        "    conv4 = Conv2D(256, (3, 3), activation='relu', padding='same')(conv4)\n",
        "    pool4 = MaxPooling2D(pool_size=(2, 2))(conv4)\n",
        "\n",
        "    conv5 = Conv2D(512, (3, 3), activation='relu', padding='same')(pool4)\n",
        "    conv5 = Conv2D(512, (3, 3), activation='relu', padding='same')(conv5)\n",
        "\n",
        "    up6 = concatenate([Conv2DTranspose(256, (2, 2), strides=(2, 2), padding='same')(conv5), conv4], axis=3)\n",
        "    conv6 = Conv2D(256, (3, 3), activation='relu', padding='same')(up6)\n",
        "    conv6 = Conv2D(256, (3, 3), activation='relu', padding='same')(conv6)\n",
        "\n",
        "    up7 = concatenate([Conv2DTranspose(128, (2, 2), strides=(2, 2), padding='same')(conv6), conv3], axis=3)\n",
        "    conv7 = Conv2D(128, (3, 3), activation='relu', padding='same')(up7)\n",
        "    conv7 = Conv2D(128, (3, 3), activation='relu', padding='same')(conv7)\n",
        "\n",
        "    up8 = concatenate([Conv2DTranspose(64, (2, 2), strides=(2, 2), padding='same')(conv7), conv2], axis=3)\n",
        "    conv8 = Conv2D(64, (3, 3), activation='relu', padding='same')(up8)\n",
        "    conv8 = Conv2D(64, (3, 3), activation='relu', padding='same')(conv8)\n",
        "\n",
        "    up9 = concatenate([Conv2DTranspose(32, (2, 2), strides=(2, 2), padding='same')(conv8), conv1], axis=3)\n",
        "    conv9 = Conv2D(32, (3, 3), activation='relu', padding='same')(up9)\n",
        "    conv9 = Conv2D(32, (3, 3), activation='relu', padding='same')(conv9)\n",
        "\n",
        "    conv10 = Conv2D(1, (1, 1), activation='sigmoid')(conv9)\n",
        "\n",
        "    return Model(inputs=[inputs], outputs=[conv10])"
      ],
      "metadata": {
        "id": "AvpleY4t6C74"
      },
      "execution_count": null,
      "outputs": []
    },
    {
      "cell_type": "code",
      "source": [
        "!pip install keras"
      ],
      "metadata": {
        "colab": {
          "base_uri": "https://localhost:8080/"
        },
        "id": "LcQlcfYV9I3D",
        "outputId": "3d4477ed-ba63-44d8-8867-1d5039c28a6a"
      },
      "execution_count": null,
      "outputs": [
        {
          "output_type": "stream",
          "name": "stdout",
          "text": [
            "Requirement already satisfied: keras in /usr/local/lib/python3.7/dist-packages (2.8.0)\n"
          ]
        }
      ]
    },
    {
      "cell_type": "code",
      "source": [
        "from tensorflow.keras.optimizers import Adam\n",
        "model = unet(input_size=(512,512,1))\n",
        "model.compile(optimizer=Adam(lr=1e-5), loss=dice_coef_loss,\n",
        "                  metrics=[dice_coef, 'binary_accuracy'])\n",
        "model.summary()"
      ],
      "metadata": {
        "colab": {
          "base_uri": "https://localhost:8080/"
        },
        "id": "ieDITqe-87Mt",
        "outputId": "6f6e50ad-c4cb-429c-d452-645bbfb82d5a"
      },
      "execution_count": null,
      "outputs": [
        {
          "output_type": "stream",
          "name": "stdout",
          "text": [
            "Model: \"model\"\n",
            "__________________________________________________________________________________________________\n",
            " Layer (type)                   Output Shape         Param #     Connected to                     \n",
            "==================================================================================================\n",
            " input_1 (InputLayer)           [(None, 512, 512, 1  0           []                               \n",
            "                                )]                                                                \n",
            "                                                                                                  \n",
            " conv2d (Conv2D)                (None, 512, 512, 32  320         ['input_1[0][0]']                \n",
            "                                )                                                                 \n",
            "                                                                                                  \n",
            " conv2d_1 (Conv2D)              (None, 512, 512, 32  9248        ['conv2d[0][0]']                 \n",
            "                                )                                                                 \n",
            "                                                                                                  \n",
            " max_pooling2d (MaxPooling2D)   (None, 256, 256, 32  0           ['conv2d_1[0][0]']               \n",
            "                                )                                                                 \n",
            "                                                                                                  \n",
            " conv2d_2 (Conv2D)              (None, 256, 256, 64  18496       ['max_pooling2d[0][0]']          \n",
            "                                )                                                                 \n",
            "                                                                                                  \n",
            " conv2d_3 (Conv2D)              (None, 256, 256, 64  36928       ['conv2d_2[0][0]']               \n",
            "                                )                                                                 \n",
            "                                                                                                  \n",
            " max_pooling2d_1 (MaxPooling2D)  (None, 128, 128, 64  0          ['conv2d_3[0][0]']               \n",
            "                                )                                                                 \n",
            "                                                                                                  \n",
            " conv2d_4 (Conv2D)              (None, 128, 128, 12  73856       ['max_pooling2d_1[0][0]']        \n",
            "                                8)                                                                \n",
            "                                                                                                  \n",
            " conv2d_5 (Conv2D)              (None, 128, 128, 12  147584      ['conv2d_4[0][0]']               \n",
            "                                8)                                                                \n",
            "                                                                                                  \n",
            " max_pooling2d_2 (MaxPooling2D)  (None, 64, 64, 128)  0          ['conv2d_5[0][0]']               \n",
            "                                                                                                  \n",
            " conv2d_6 (Conv2D)              (None, 64, 64, 256)  295168      ['max_pooling2d_2[0][0]']        \n",
            "                                                                                                  \n",
            " conv2d_7 (Conv2D)              (None, 64, 64, 256)  590080      ['conv2d_6[0][0]']               \n",
            "                                                                                                  \n",
            " max_pooling2d_3 (MaxPooling2D)  (None, 32, 32, 256)  0          ['conv2d_7[0][0]']               \n",
            "                                                                                                  \n",
            " conv2d_8 (Conv2D)              (None, 32, 32, 512)  1180160     ['max_pooling2d_3[0][0]']        \n",
            "                                                                                                  \n",
            " conv2d_9 (Conv2D)              (None, 32, 32, 512)  2359808     ['conv2d_8[0][0]']               \n",
            "                                                                                                  \n",
            " conv2d_transpose (Conv2DTransp  (None, 64, 64, 256)  524544     ['conv2d_9[0][0]']               \n",
            " ose)                                                                                             \n",
            "                                                                                                  \n",
            " concatenate (Concatenate)      (None, 64, 64, 512)  0           ['conv2d_transpose[0][0]',       \n",
            "                                                                  'conv2d_7[0][0]']               \n",
            "                                                                                                  \n",
            " conv2d_10 (Conv2D)             (None, 64, 64, 256)  1179904     ['concatenate[0][0]']            \n",
            "                                                                                                  \n",
            " conv2d_11 (Conv2D)             (None, 64, 64, 256)  590080      ['conv2d_10[0][0]']              \n",
            "                                                                                                  \n",
            " conv2d_transpose_1 (Conv2DTran  (None, 128, 128, 12  131200     ['conv2d_11[0][0]']              \n",
            " spose)                         8)                                                                \n",
            "                                                                                                  \n",
            " concatenate_1 (Concatenate)    (None, 128, 128, 25  0           ['conv2d_transpose_1[0][0]',     \n",
            "                                6)                                'conv2d_5[0][0]']               \n",
            "                                                                                                  \n",
            " conv2d_12 (Conv2D)             (None, 128, 128, 12  295040      ['concatenate_1[0][0]']          \n",
            "                                8)                                                                \n",
            "                                                                                                  \n",
            " conv2d_13 (Conv2D)             (None, 128, 128, 12  147584      ['conv2d_12[0][0]']              \n",
            "                                8)                                                                \n",
            "                                                                                                  \n",
            " conv2d_transpose_2 (Conv2DTran  (None, 256, 256, 64  32832      ['conv2d_13[0][0]']              \n",
            " spose)                         )                                                                 \n",
            "                                                                                                  \n",
            " concatenate_2 (Concatenate)    (None, 256, 256, 12  0           ['conv2d_transpose_2[0][0]',     \n",
            "                                8)                                'conv2d_3[0][0]']               \n",
            "                                                                                                  \n",
            " conv2d_14 (Conv2D)             (None, 256, 256, 64  73792       ['concatenate_2[0][0]']          \n",
            "                                )                                                                 \n",
            "                                                                                                  \n",
            " conv2d_15 (Conv2D)             (None, 256, 256, 64  36928       ['conv2d_14[0][0]']              \n",
            "                                )                                                                 \n",
            "                                                                                                  \n",
            " conv2d_transpose_3 (Conv2DTran  (None, 512, 512, 32  8224       ['conv2d_15[0][0]']              \n",
            " spose)                         )                                                                 \n",
            "                                                                                                  \n",
            " concatenate_3 (Concatenate)    (None, 512, 512, 64  0           ['conv2d_transpose_3[0][0]',     \n",
            "                                )                                 'conv2d_1[0][0]']               \n",
            "                                                                                                  \n",
            " conv2d_16 (Conv2D)             (None, 512, 512, 32  18464       ['concatenate_3[0][0]']          \n",
            "                                )                                                                 \n",
            "                                                                                                  \n",
            " conv2d_17 (Conv2D)             (None, 512, 512, 32  9248        ['conv2d_16[0][0]']              \n",
            "                                )                                                                 \n",
            "                                                                                                  \n",
            " conv2d_18 (Conv2D)             (None, 512, 512, 1)  33          ['conv2d_17[0][0]']              \n",
            "                                                                                                  \n",
            "==================================================================================================\n",
            "Total params: 7,759,521\n",
            "Trainable params: 7,759,521\n",
            "Non-trainable params: 0\n",
            "__________________________________________________________________________________________________\n"
          ]
        },
        {
          "output_type": "stream",
          "name": "stderr",
          "text": [
            "/usr/local/lib/python3.7/dist-packages/keras/optimizer_v2/adam.py:105: UserWarning: The `lr` argument is deprecated, use `learning_rate` instead.\n",
            "  super(Adam, self).__init__(name, **kwargs)\n"
          ]
        }
      ]
    },
    {
      "cell_type": "markdown",
      "source": [
        ""
      ],
      "metadata": {
        "id": "H3YC0ZIUPrcp"
      }
    },
    {
      "cell_type": "code",
      "source": [
        "model.load_weights('/content/drive/MyDrive/PRML Project/covid 19/Pretrained_Unet/cxr_reg_weights.best.hdf5')"
      ],
      "metadata": {
        "id": "KuMs8aEW9kcV"
      },
      "execution_count": null,
      "outputs": []
    },
    {
      "cell_type": "code",
      "source": [
        "from google.colab.patches import cv2_imshow"
      ],
      "metadata": {
        "id": "lkOXq4dsCQn-"
      },
      "execution_count": null,
      "outputs": []
    },
    {
      "cell_type": "markdown",
      "source": [
        "Forward Pass the Dataset on the Pretrained Model"
      ],
      "metadata": {
        "id": "x9868jmePnA2"
      }
    },
    {
      "cell_type": "code",
      "source": [
        "for fpath in allcovid:\n",
        "  imgpath = os.path.join(base_covid + fpath)\n",
        "  maskapply,invmaskapply,masked_image,invmasked_image,chest_image = SegmentImage(model, imgpath)\n",
        "  mask_path = os.path.join(covid_masks, fpath)\n",
        "  mask_path = os.path.splitext(mask_path)[0] + '.jpg'\n",
        "  cv2.imwrite(mask_path, masked_image)\n",
        "  invmask_path = os.path.join(invcovid_masks, fpath)\n",
        "  invmask_path = os.path.splitext(invmask_path)[0] + '.jpg'\n",
        "  cv2.imwrite(invmask_path, invmasked_image)"
      ],
      "metadata": {
        "id": "3fz6ZVgcBuVE"
      },
      "execution_count": null,
      "outputs": []
    },
    {
      "cell_type": "code",
      "source": [
        "for fpath in allnoncovid:\n",
        "  imgpath = os.path.join(base_non_covid + fpath)\n",
        "  maskapply,invmaskapfpathply,masked_image,invmasked_image,chest_image = SegmentImage(model, imgpath)\n",
        "  mask_path = os.path.join(non_covid_masks, fpath)\n",
        "  mask_path = os.path.splitext(mask_path)[0] + '.jpg'\n",
        "  cv2.imwrite(mask_path, masked_image)\n",
        "  invmask_path = os.path.join(invnon_covid_masks, fpath)\n",
        "  invmask_path = os.path.splitext(invmask_path)[0] + '.jpg'\n",
        "  cv2.imwrite(invmask_path, invmasked_image)"
      ],
      "metadata": {
        "id": "3-wwg2x1Hznx"
      },
      "execution_count": null,
      "outputs": []
    },
    {
      "cell_type": "code",
      "source": [
        ""
      ],
      "metadata": {
        "id": "3wes8DMTlLaM"
      },
      "execution_count": null,
      "outputs": []
    }
  ]
}