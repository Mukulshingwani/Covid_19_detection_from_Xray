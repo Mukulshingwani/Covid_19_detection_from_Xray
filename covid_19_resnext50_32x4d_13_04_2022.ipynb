{
  "nbformat": 4,
  "nbformat_minor": 0,
  "metadata": {
    "colab": {
      "name": "covid_19_resnext50_32x4d_13_04_2022.ipynb",
      "provenance": [],
      "collapsed_sections": []
    },
    "kernelspec": {
      "name": "python3",
      "display_name": "Python 3"
    },
    "language_info": {
      "name": "python"
    },
    "accelerator": "GPU"
  },
  "cells": [
    {
      "cell_type": "code",
      "source": [
        "from google.colab import drive\n",
        "drive.mount('/content/drive')"
      ],
      "metadata": {
        "colab": {
          "base_uri": "https://localhost:8080/"
        },
        "id": "Dzs52y-986Gi",
        "outputId": "d78ca7f4-df8c-4f94-c292-0aa834d353ae"
      },
      "execution_count": null,
      "outputs": [
        {
          "output_type": "stream",
          "name": "stdout",
          "text": [
            "Mounted at /content/drive\n"
          ]
        }
      ]
    },
    {
      "cell_type": "code",
      "source": [
        "import numpy as np\n",
        "import pandas as pd\n",
        "import matplotlib.pyplot as plt\n",
        "import seaborn as sns"
      ],
      "metadata": {
        "id": "R00QK97LIK6i"
      },
      "execution_count": null,
      "outputs": []
    },
    {
      "cell_type": "code",
      "source": [
        "import os\n",
        "import torch\n",
        "import torchvision\n",
        "import torchvision.transforms as transforms"
      ],
      "metadata": {
        "id": "Mg_cysYrt-82"
      },
      "execution_count": null,
      "outputs": []
    },
    {
      "cell_type": "code",
      "source": [
        "os.listdir('/content/drive/MyDrive/PRML Project/covid 19/Extensive COVID-19 X-Ray and CT Chest Images Dataset.zip (Unzipped Files)/COVID-19 Dataset.zip (Unzipped Files)/COVID-19 Dataset/X-ray')"
      ],
      "metadata": {
        "colab": {
          "base_uri": "https://localhost:8080/"
        },
        "id": "0KHHlo6V9Fuk",
        "outputId": "653f427e-7474-4f55-c494-0cbe82891592"
      },
      "execution_count": null,
      "outputs": [
        {
          "output_type": "execute_result",
          "data": {
            "text/plain": [
              "['Non-COVID', 'COVID']"
            ]
          },
          "metadata": {},
          "execution_count": 4
        }
      ]
    },
    {
      "cell_type": "code",
      "source": [
        "len(os.listdir('/content/drive/MyDrive/PRML Project/covid 19/Extensive COVID-19 X-Ray and CT Chest Images Dataset.zip (Unzipped Files)/COVID-19 Dataset.zip (Unzipped Files)/COVID-19 Dataset/X-ray/COVID'))"
      ],
      "metadata": {
        "colab": {
          "base_uri": "https://localhost:8080/"
        },
        "id": "cX2TXRrZ9TOe",
        "outputId": "155ccd54-98e5-4d75-8bc9-583ceaa169bf"
      },
      "execution_count": null,
      "outputs": [
        {
          "output_type": "execute_result",
          "data": {
            "text/plain": [
              "4044"
            ]
          },
          "metadata": {},
          "execution_count": 5
        }
      ]
    },
    {
      "cell_type": "code",
      "source": [
        "len(os.listdir('/content/drive/MyDrive/PRML Project/covid 19/Extensive COVID-19 X-Ray and CT Chest Images Dataset.zip (Unzipped Files)/COVID-19 Dataset.zip (Unzipped Files)/COVID-19 Dataset/X-ray/Non-COVID'))"
      ],
      "metadata": {
        "colab": {
          "base_uri": "https://localhost:8080/"
        },
        "id": "f7mmRihG9Xiz",
        "outputId": "cd8ce673-89f2-406c-abc0-2d008829ac74"
      },
      "execution_count": null,
      "outputs": [
        {
          "output_type": "execute_result",
          "data": {
            "text/plain": [
              "5500"
            ]
          },
          "metadata": {},
          "execution_count": 6
        }
      ]
    },
    {
      "cell_type": "code",
      "source": [
        "dataset_path = '/content/drive/MyDrive/PRML Project/covid 19/Extensive COVID-19 X-Ray and CT Chest Images Dataset.zip (Unzipped Files)/COVID-19 Dataset.zip (Unzipped Files)/COVID-19 Dataset/X-ray'"
      ],
      "metadata": {
        "id": "x1TncA6B9x5X"
      },
      "execution_count": null,
      "outputs": []
    },
    {
      "cell_type": "code",
      "source": [
        "dataset_transforms = transforms.Compose([transforms.Resize((224, 224)), transforms.ToTensor()])"
      ],
      "metadata": {
        "id": "ZKFsRoDF-Kr2"
      },
      "execution_count": null,
      "outputs": []
    },
    {
      "cell_type": "code",
      "source": [
        "def get_mean_and_std(loader):\n",
        "  mean = 0.\n",
        "  std = 0.\n",
        "  total_images_count = 0\n",
        "  for images, _ in loader:\n",
        "    image_count_in_a_batch = images.size(0)\n",
        "    images = images.view(image_count_in_a_batch, images.size(1), -1)\n",
        "    mean += images.mean(2).sum(0)\n",
        "    std += images.std(2).sum(0)\n",
        "    total_images_count += image_count_in_a_batch\n",
        "  mean /= total_images_count\n",
        "  std /= total_images_count\n",
        "\n",
        "  return mean, std "
      ],
      "metadata": {
        "id": "YumVD5UK_0Ex"
      },
      "execution_count": null,
      "outputs": []
    },
    {
      "cell_type": "code",
      "source": [
        "# mean = [0.4363, 0.4328, 0.3291]\n",
        "# std = [0.2129, 0.3075, 0.2038]\n",
        "# from torchvision.transforms.transforms import RandomHorizontalFlip\n",
        "# dataset_transforms2 = transforms.Compose([\n",
        "#                                           transforms.Resize((1024,1024), ), \n",
        "#                                           transforms.RandomHorizontalFlip(),\n",
        "#                                           transforms.RandomRotation(10),\n",
        "#                                           transforms.ToTensor(),\n",
        "#                                           transforms.Normalize(torch.Tensor(mean), torch.Tensor(std))\n",
        "#                                         ])"
      ],
      "metadata": {
        "id": "yAJW978AI0JV"
      },
      "execution_count": null,
      "outputs": []
    },
    {
      "cell_type": "code",
      "source": [
        "mean = [0.4867, 0.4870, 0.4872]\n",
        "std = [0.2273, 0.2273, 0.2274]\n",
        "from torchvision.transforms.transforms import RandomHorizontalFlip\n",
        "dataset_transforms2 = transforms.Compose([\n",
        "                                          transforms.Resize((224,224)), \n",
        "                                          transforms.RandomHorizontalFlip(),\n",
        "                                          transforms.RandomRotation(10),\n",
        "                                          transforms.ToTensor(),\n",
        "                                          transforms.Normalize(torch.Tensor(mean), torch.Tensor(std))\n",
        "                                        ])"
      ],
      "metadata": {
        "id": "bNMTaLx0YfBF"
      },
      "execution_count": null,
      "outputs": []
    },
    {
      "cell_type": "code",
      "source": [
        "dataset = torchvision.datasets.ImageFolder(root = dataset_path, transform = dataset_transforms2)"
      ],
      "metadata": {
        "id": "Nq6mAiN9_JdB"
      },
      "execution_count": null,
      "outputs": []
    },
    {
      "cell_type": "code",
      "source": [
        "len(dataset)"
      ],
      "metadata": {
        "colab": {
          "base_uri": "https://localhost:8080/"
        },
        "id": "UAhSm7M1AOnm",
        "outputId": "a8224540-27d5-4b97-92a9-f31d128b41af"
      },
      "execution_count": null,
      "outputs": [
        {
          "output_type": "execute_result",
          "data": {
            "text/plain": [
              "9537"
            ]
          },
          "metadata": {},
          "execution_count": 13
        }
      ]
    },
    {
      "cell_type": "code",
      "source": [
        "train_size = int(0.7 * len(dataset))\n",
        "validation_size = int(0.2 * len(dataset))\n",
        "test_size = len(dataset) - train_size - validation_size\n",
        "train_dataset, validation_dataset, test_dataset = torch.utils.data.random_split(dataset, [train_size,validation_size,test_size])"
      ],
      "metadata": {
        "id": "Jcfg2B7XAHSN"
      },
      "execution_count": null,
      "outputs": []
    },
    {
      "cell_type": "code",
      "source": [
        "dataset_loader = torch.utils.data.DataLoader(dataset = dataset, batch_size = 4, shuffle = True)"
      ],
      "metadata": {
        "id": "He7-jHhK_bTE"
      },
      "execution_count": null,
      "outputs": []
    },
    {
      "cell_type": "code",
      "source": [
        "train_loader = torch.utils.data.DataLoader(dataset = train_dataset, batch_size = 4, shuffle = True)\n",
        "valid_loader = torch.utils.data.DataLoader(dataset = validation_dataset, batch_size = 4)\n",
        "test_loader = torch.utils.data.DataLoader(dataset = test_dataset, batch_size = 4)"
      ],
      "metadata": {
        "id": "MvEugNx2AVk9"
      },
      "execution_count": null,
      "outputs": []
    },
    {
      "cell_type": "code",
      "source": [
        "# get_mean_and_std(dataset_loader)"
      ],
      "metadata": {
        "id": "G3HMxHyCBh42"
      },
      "execution_count": null,
      "outputs": []
    },
    {
      "cell_type": "code",
      "source": [
        "def show_transformed_images(dataset):\n",
        "  loader = torch.utils.data.DataLoader(dataset, batch_size = 6, shuffle = True)\n",
        "  batch = next(iter(loader))\n",
        "  images, labels = batch\n",
        "\n",
        "  grid = torchvision.utils.make_grid(images, nrow = 3)\n",
        "  plt.figure(figsize = (11,11))\n",
        "  plt.imshow(np.transpose(grid, (1,2,0)))\n",
        "  print(\"labels: \", labels)"
      ],
      "metadata": {
        "id": "duZNMaxUDhx9"
      },
      "execution_count": null,
      "outputs": []
    },
    {
      "cell_type": "code",
      "source": [
        "# show_transformed_images(dataset)"
      ],
      "metadata": {
        "id": "ccFBLMh9Ihkj"
      },
      "execution_count": null,
      "outputs": []
    },
    {
      "cell_type": "code",
      "source": [
        "# show_transformed_images(train_dataset)"
      ],
      "metadata": {
        "id": "1HTcfw3KAlYD"
      },
      "execution_count": null,
      "outputs": []
    },
    {
      "cell_type": "code",
      "source": [
        "# show_transformed_images(validation_dataset)"
      ],
      "metadata": {
        "id": "A9CuD4yAAzfm"
      },
      "execution_count": null,
      "outputs": []
    },
    {
      "cell_type": "code",
      "source": [
        "def set_device():\n",
        "  if torch.cuda.is_available():\n",
        "    dev = \"cuda:0\"\n",
        "  else:\n",
        "    dev = \"cpu\"\n",
        "  return torch.device(dev)"
      ],
      "metadata": {
        "id": "JhLfkUROIl61"
      },
      "execution_count": null,
      "outputs": []
    },
    {
      "cell_type": "code",
      "source": [
        "# DEVICE = set_device()"
      ],
      "metadata": {
        "id": "1CQr6AdVpeqg"
      },
      "execution_count": null,
      "outputs": []
    },
    {
      "cell_type": "code",
      "source": [
        "# DEVICE"
      ],
      "metadata": {
        "id": "tskrisCGphtm"
      },
      "execution_count": null,
      "outputs": []
    },
    {
      "cell_type": "code",
      "source": [
        "!nvidia-smi"
      ],
      "metadata": {
        "colab": {
          "base_uri": "https://localhost:8080/"
        },
        "id": "LeSFX8jhF3yp",
        "outputId": "0863a9b7-da22-4bea-9113-13b2ccb8143c"
      },
      "execution_count": null,
      "outputs": [
        {
          "output_type": "stream",
          "name": "stdout",
          "text": [
            "Wed Apr 13 21:00:54 2022       \n",
            "+-----------------------------------------------------------------------------+\n",
            "| NVIDIA-SMI 460.32.03    Driver Version: 460.32.03    CUDA Version: 11.2     |\n",
            "|-------------------------------+----------------------+----------------------+\n",
            "| GPU  Name        Persistence-M| Bus-Id        Disp.A | Volatile Uncorr. ECC |\n",
            "| Fan  Temp  Perf  Pwr:Usage/Cap|         Memory-Usage | GPU-Util  Compute M. |\n",
            "|                               |                      |               MIG M. |\n",
            "|===============================+======================+======================|\n",
            "|   0  Tesla T4            Off  | 00000000:00:04.0 Off |                    0 |\n",
            "| N/A   61C    P8    11W /  70W |      0MiB / 15109MiB |      0%      Default |\n",
            "|                               |                      |                  N/A |\n",
            "+-------------------------------+----------------------+----------------------+\n",
            "                                                                               \n",
            "+-----------------------------------------------------------------------------+\n",
            "| Processes:                                                                  |\n",
            "|  GPU   GI   CI        PID   Type   Process name                  GPU Memory |\n",
            "|        ID   ID                                                   Usage      |\n",
            "|=============================================================================|\n",
            "|  No running processes found                                                 |\n",
            "+-----------------------------------------------------------------------------+\n"
          ]
        }
      ]
    },
    {
      "cell_type": "code",
      "source": [
        "# imports from installed libraries\n",
        "import os\n",
        "import numpy as np\n",
        "import random\n",
        "import torch\n",
        "from distutils.version import LooseVersion as Version\n",
        "from itertools import product\n",
        "\n",
        "def set_all_seeds(seed):\n",
        "    os.environ[\"PL_GLOBAL_SEED\"] = str(seed)\n",
        "    random.seed(seed)\n",
        "    np.random.seed(seed)\n",
        "    torch.manual_seed(seed)\n",
        "    torch.cuda.manual_seed_all(seed)\n",
        "\n",
        "\n",
        "def set_deterministic(use_tensorcores=False):\n",
        "    if torch.cuda.is_available():\n",
        "        torch.backends.cudnn.benchmark = False\n",
        "        torch.backends.cudnn.deterministic = True\n",
        "\n",
        "    if torch.__version__ <= Version(\"1.7\"):\n",
        "        torch.set_deterministic(True)\n",
        "    else:\n",
        "        torch.use_deterministic_algorithms(True)\n",
        "        \n",
        "        # The following are set to True by default and allow cards\n",
        "        # like the Ampere and newer to utilize tensorcores for\n",
        "        # convolutions and matrix multiplications, which can result\n",
        "        # in a significant speed-up. However, results may differ compared\n",
        "        # to card how don't use mixed precision via tensor cores.\n",
        "        torch.backends.cuda.matmul.allow_tf32 = use_tensorcores\n",
        "        torch.backends.cudnn.allow_tf32 = use_tensorcores\n",
        "\n",
        "\n",
        "def compute_accuracy(model, data_loader, device):\n",
        "\n",
        "    with torch.no_grad():\n",
        "\n",
        "        correct_pred, num_examples = 0, 0\n",
        "\n",
        "        for i, (features, targets) in enumerate(data_loader):\n",
        "\n",
        "            features = features.to(device)\n",
        "            targets = targets.float().to(device)\n",
        "\n",
        "            logits = model(features)\n",
        "            _, predicted_labels = torch.max(logits, 1)\n",
        "\n",
        "            num_examples += targets.size(0)\n",
        "            correct_pred += (predicted_labels == targets).sum()\n",
        "    return correct_pred.float()/num_examples * 100\n",
        "\n",
        "\n",
        "def compute_confusion_matrix(model, data_loader, device):\n",
        "\n",
        "    all_targets, all_predictions = [], []\n",
        "    with torch.no_grad():\n",
        "\n",
        "        for i, (features, targets) in enumerate(data_loader):\n",
        "\n",
        "            features = features.to(device)\n",
        "            targets = targets\n",
        "            logits = model(features)\n",
        "            _, predicted_labels = torch.max(logits, 1)\n",
        "            all_targets.extend(targets.to('cpu'))\n",
        "            all_predictions.extend(predicted_labels.to('cpu'))\n",
        "\n",
        "    all_predictions = all_predictions\n",
        "    all_predictions = np.array(all_predictions)\n",
        "    all_targets = np.array(all_targets)\n",
        "        \n",
        "    class_labels = np.unique(np.concatenate((all_targets, all_predictions)))\n",
        "    if class_labels.shape[0] == 1:\n",
        "        if class_labels[0] != 0:\n",
        "            class_labels = np.array([0, class_labels[0]])\n",
        "        else:\n",
        "            class_labels = np.array([class_labels[0], 1])\n",
        "    n_labels = class_labels.shape[0]\n",
        "    lst = []\n",
        "    z = list(zip(all_targets, all_predictions))\n",
        "    for combi in product(class_labels, repeat=2):\n",
        "        lst.append(z.count(combi))\n",
        "    mat = np.asarray(lst)[:, None].reshape(n_labels, n_labels)\n",
        "    return mat"
      ],
      "metadata": {
        "id": "SukYi4CT9EQZ"
      },
      "execution_count": null,
      "outputs": []
    },
    {
      "cell_type": "code",
      "source": [
        "import time\n",
        "import torch\n",
        "\n",
        "def train_model(model, num_epochs, train_loader,\n",
        "                valid_loader, test_loader, optimizer,\n",
        "                device, logging_interval=50,\n",
        "                scheduler=None,\n",
        "                scheduler_on='valid_acc'):\n",
        "\n",
        "    start_time = time.time()\n",
        "    minibatch_loss_list, train_acc_list, valid_acc_list = [], [], []\n",
        "    \n",
        "    for epoch in range(num_epochs):\n",
        "\n",
        "        model.train()\n",
        "        for batch_idx, (features, targets) in enumerate(train_loader):\n",
        "\n",
        "            features = features.to(device)\n",
        "            targets = targets.to(device)\n",
        "\n",
        "            # ## FORWARD AND BACK PROP\n",
        "            logits = model(features)\n",
        "            loss = torch.nn.functional.cross_entropy(logits, targets)\n",
        "            optimizer.zero_grad()\n",
        "\n",
        "            loss.backward()\n",
        "\n",
        "            # ## UPDATE MODEL PARAMETERS\n",
        "            optimizer.step()\n",
        "\n",
        "            # ## LOGGING\n",
        "            minibatch_loss_list.append(loss.item())\n",
        "            if not batch_idx % logging_interval:\n",
        "                print(f'Epoch: {epoch+1:03d}/{num_epochs:03d} '\n",
        "                      f'| Batch {batch_idx:04d}/{len(train_loader):04d} '\n",
        "                      f'| Loss: {loss:.4f}')\n",
        "\n",
        "        model.eval()\n",
        "        with torch.no_grad():  # save memory during inference\n",
        "            train_acc = compute_accuracy(model, train_loader, device=device)\n",
        "            valid_acc = compute_accuracy(model, valid_loader, device=device)\n",
        "            print(f'Epoch: {epoch+1:03d}/{num_epochs:03d} '\n",
        "                  f'| Train: {train_acc :.2f}% '\n",
        "                  f'| Validation: {valid_acc :.2f}%')\n",
        "            train_acc_list.append(train_acc.item())\n",
        "            valid_acc_list.append(valid_acc.item())\n",
        "\n",
        "        elapsed = (time.time() - start_time)/60\n",
        "        print(f'Time elapsed: {elapsed:.2f} min')\n",
        "        \n",
        "        if scheduler is not None:\n",
        "\n",
        "            if scheduler_on == 'valid_acc':\n",
        "                scheduler.step(valid_acc_list[-1])\n",
        "            elif scheduler_on == 'minibatch_loss':\n",
        "                scheduler.step(minibatch_loss_list[-1])\n",
        "            else:\n",
        "                raise ValueError(f'Invalid `scheduler_on` choice.')\n",
        "        \n",
        "\n",
        "    elapsed = (time.time() - start_time)/60\n",
        "    print(f'Total Training Time: {elapsed:.2f} min')\n",
        "\n",
        "    test_acc = compute_accuracy(model, test_loader, device=device)\n",
        "    print(f'Test accuracy {test_acc :.2f}%')\n",
        "\n",
        "    return minibatch_loss_list, train_acc_list, valid_acc_list"
      ],
      "metadata": {
        "id": "9TP-V4Cgi3g9"
      },
      "execution_count": null,
      "outputs": []
    },
    {
      "cell_type": "code",
      "source": [
        "# imports from installed libraries\n",
        "import os\n",
        "import matplotlib.pyplot as plt\n",
        "import numpy as np\n",
        "import torch\n",
        "\n",
        "\n",
        "def plot_training_loss(minibatch_loss_list, num_epochs, iter_per_epoch,\n",
        "                       results_dir=None, averaging_iterations=100):\n",
        "\n",
        "    plt.figure()\n",
        "    ax1 = plt.subplot(1, 1, 1)\n",
        "    ax1.plot(range(len(minibatch_loss_list)),\n",
        "             (minibatch_loss_list), label='Minibatch Loss')\n",
        "\n",
        "    if len(minibatch_loss_list) > 1000:\n",
        "        ax1.set_ylim([\n",
        "            0, np.max(minibatch_loss_list[1000:])*1.5\n",
        "            ])\n",
        "    ax1.set_xlabel('Iterations')\n",
        "    ax1.set_ylabel('Loss')\n",
        "\n",
        "    ax1.plot(np.convolve(minibatch_loss_list,\n",
        "                         np.ones(averaging_iterations,)/averaging_iterations,\n",
        "                         mode='valid'),\n",
        "             label='Running Average')\n",
        "    ax1.legend()\n",
        "\n",
        "    ###################\n",
        "    # Set scond x-axis\n",
        "    ax2 = ax1.twiny()\n",
        "    newlabel = list(range(num_epochs+1))\n",
        "\n",
        "    newpos = [e*iter_per_epoch for e in newlabel]\n",
        "\n",
        "    ax2.set_xticks(newpos[::10])\n",
        "    ax2.set_xticklabels(newlabel[::10])\n",
        "\n",
        "    ax2.xaxis.set_ticks_position('bottom')\n",
        "    ax2.xaxis.set_label_position('bottom')\n",
        "    ax2.spines['bottom'].set_position(('outward', 45))\n",
        "    ax2.set_xlabel('Epochs')\n",
        "    ax2.set_xlim(ax1.get_xlim())\n",
        "    ###################\n",
        "\n",
        "    plt.tight_layout()\n",
        "\n",
        "    if results_dir is not None:\n",
        "        image_path = os.path.join(results_dir, 'plot_training_loss.pdf')\n",
        "        plt.savefig(image_path)\n",
        "\n",
        "\n",
        "def plot_accuracy(train_acc_list, valid_acc_list, results_dir):\n",
        "\n",
        "    num_epochs = len(train_acc_list)\n",
        "\n",
        "    plt.plot(np.arange(1, num_epochs+1),\n",
        "             train_acc_list, label='Training')\n",
        "    plt.plot(np.arange(1, num_epochs+1),\n",
        "             valid_acc_list, label='Validation')\n",
        "\n",
        "    plt.xlabel('Epoch')\n",
        "    plt.ylabel('Accuracy')\n",
        "    plt.legend()\n",
        "\n",
        "    plt.tight_layout()\n",
        "\n",
        "    if results_dir is not None:\n",
        "        image_path = os.path.join(\n",
        "            results_dir, 'plot_acc_training_validation.pdf')\n",
        "        plt.savefig(image_path)\n",
        "\n",
        "\n",
        "def show_examples(model, data_loader, unnormalizer=None, class_dict=None):\n",
        "    \n",
        "        \n",
        "    for batch_idx, (features, targets) in enumerate(data_loader):\n",
        "\n",
        "        with torch.no_grad():\n",
        "            features = features\n",
        "            targets = targets\n",
        "            logits = model(features)\n",
        "            predictions = torch.argmax(logits, dim=1)\n",
        "        break\n",
        "\n",
        "    fig, axes = plt.subplots(nrows=3, ncols=5,\n",
        "                             sharex=True, sharey=True)\n",
        "    \n",
        "    if unnormalizer is not None:\n",
        "        for idx in range(features.shape[0]):\n",
        "            features[idx] = unnormalizer(features[idx])\n",
        "    nhwc_img = np.transpose(features, axes=(0, 2, 3, 1))\n",
        "    \n",
        "    if nhwc_img.shape[-1] == 1:\n",
        "        nhw_img = np.squeeze(nhwc_img.numpy(), axis=3)\n",
        "\n",
        "        for idx, ax in enumerate(axes.ravel()):\n",
        "            ax.imshow(nhw_img[idx], cmap='binary')\n",
        "            if class_dict is not None:\n",
        "                ax.title.set_text(f'P: {class_dict[predictions[idx].item()]}'\n",
        "                                  f'\\nT: {class_dict[targets[idx].item()]}')\n",
        "            else:\n",
        "                ax.title.set_text(f'P: {predictions[idx]} | T: {targets[idx]}')\n",
        "            ax.axison = False\n",
        "\n",
        "    else:\n",
        "\n",
        "        for idx, ax in enumerate(axes.ravel()):\n",
        "            ax.imshow(nhwc_img[idx])\n",
        "            if class_dict is not None:\n",
        "                ax.title.set_text(f'P: {class_dict[predictions[idx].item()]}'\n",
        "                                  f'\\nT: {class_dict[targets[idx].item()]}')\n",
        "            else:\n",
        "                ax.title.set_text(f'P: {predictions[idx]} | T: {targets[idx]}')\n",
        "            ax.axison = False\n",
        "    plt.tight_layout()\n",
        "    plt.show()\n",
        "\n",
        "\n",
        "def plot_confusion_matrix(conf_mat,\n",
        "                          hide_spines=False,\n",
        "                          hide_ticks=False,\n",
        "                          figsize=None,\n",
        "                          cmap=None,\n",
        "                          colorbar=False,\n",
        "                          show_absolute=True,\n",
        "                          show_normed=False,\n",
        "                          class_names=None):\n",
        "\n",
        "    if not (show_absolute or show_normed):\n",
        "        raise AssertionError('Both show_absolute and show_normed are False')\n",
        "    if class_names is not None and len(class_names) != len(conf_mat):\n",
        "        raise AssertionError('len(class_names) should be equal to number of'\n",
        "                             'classes in the dataset')\n",
        "\n",
        "    total_samples = conf_mat.sum(axis=1)[:, np.newaxis]\n",
        "    normed_conf_mat = conf_mat.astype('float') / total_samples\n",
        "\n",
        "    fig, ax = plt.subplots(figsize=figsize)\n",
        "    ax.grid(False)\n",
        "    if cmap is None:\n",
        "        cmap = plt.cm.Blues\n",
        "\n",
        "    if figsize is None:\n",
        "        figsize = (len(conf_mat)*1.25, len(conf_mat)*1.25)\n",
        "\n",
        "    if show_normed:\n",
        "        matshow = ax.matshow(normed_conf_mat, cmap=cmap)\n",
        "    else:\n",
        "        matshow = ax.matshow(conf_mat, cmap=cmap)\n",
        "\n",
        "    if colorbar:\n",
        "        fig.colorbar(matshow)\n",
        "\n",
        "    for i in range(conf_mat.shape[0]):\n",
        "        for j in range(conf_mat.shape[1]):\n",
        "            cell_text = \"\"\n",
        "            if show_absolute:\n",
        "                cell_text += format(conf_mat[i, j], 'd')\n",
        "                if show_normed:\n",
        "                    cell_text += \"\\n\" + '('\n",
        "                    cell_text += format(normed_conf_mat[i, j], '.2f') + ')'\n",
        "            else:\n",
        "                cell_text += format(normed_conf_mat[i, j], '.2f')\n",
        "            ax.text(x=j,\n",
        "                    y=i,\n",
        "                    s=cell_text,\n",
        "                    va='center',\n",
        "                    ha='center',\n",
        "                    color=\"white\" if normed_conf_mat[i, j] > 0.5 else \"black\")\n",
        "    \n",
        "    if class_names is not None:\n",
        "        tick_marks = np.arange(len(class_names))\n",
        "        plt.xticks(tick_marks, class_names, rotation=90)\n",
        "        plt.yticks(tick_marks, class_names)\n",
        "        \n",
        "    if hide_spines:\n",
        "        ax.spines['right'].set_visible(False)\n",
        "        ax.spines['top'].set_visible(False)\n",
        "        ax.spines['left'].set_visible(False)\n",
        "        ax.spines['bottom'].set_visible(False)\n",
        "    ax.yaxis.set_ticks_position('left')\n",
        "    ax.xaxis.set_ticks_position('bottom')\n",
        "    if hide_ticks:\n",
        "        ax.axes.get_yaxis().set_ticks([])\n",
        "        ax.axes.get_xaxis().set_ticks([])\n",
        "\n",
        "    plt.xlabel('predicted label')\n",
        "    plt.ylabel('true label')\n",
        "    return fig, ax"
      ],
      "metadata": {
        "id": "Ich8ZSuh9MDe"
      },
      "execution_count": null,
      "outputs": []
    },
    {
      "cell_type": "code",
      "source": [
        "import torch\n",
        "from torch.utils.data import sampler\n",
        "from torchvision import datasets\n",
        "from torch.utils.data import DataLoader\n",
        "from torch.utils.data import SubsetRandomSampler\n",
        "from torchvision import transforms\n",
        "\n",
        "\n",
        "class UnNormalize(object):\n",
        "    def __init__(self, mean, std):\n",
        "        self.mean = mean\n",
        "        self.std = std\n",
        "\n",
        "    def __call__(self, tensor):\n",
        "        \"\"\"\n",
        "        Parameters:\n",
        "        ------------\n",
        "        tensor (Tensor): Tensor image of size (C, H, W) to be normalized.\n",
        "        \n",
        "        Returns:\n",
        "        ------------\n",
        "        Tensor: Normalized image.\n",
        "        \"\"\"\n",
        "        for t, m, s in zip(tensor, self.mean, self.std):\n",
        "            t.mul_(s).add_(m)\n",
        "        return tensor\n",
        "\n",
        "\n",
        "# # def get_dataloaders_mnist(batch_size, num_workers=0,\n",
        "# #                           validation_fraction=None,\n",
        "# #                           train_transforms=None,\n",
        "# #                           test_transforms=None):\n",
        "\n",
        "# #     if train_transforms is None:\n",
        "# #         train_transforms = transforms.ToTensor()\n",
        "\n",
        "# #     if test_transforms is None:\n",
        "# #         test_transforms = transforms.ToTensor()\n",
        "\n",
        "# #     train_dataset = datasets.MNIST(root='data',\n",
        "# #                                    train=True,\n",
        "# #                                    transform=train_transforms,\n",
        "# #                                    download=True)\n",
        "\n",
        "# #     valid_dataset = datasets.MNIST(root='data',\n",
        "# #                                    train=True,\n",
        "# #                                    transform=test_transforms)\n",
        "\n",
        "# #     test_dataset = datasets.MNIST(root='data',\n",
        "# #                                   train=False,\n",
        "# #                                   transform=test_transforms)\n",
        "\n",
        "# #     if validation_fraction is not None:\n",
        "# #         num = int(validation_fraction * 60000)\n",
        "# #         train_indices = torch.arange(0, 60000 - num)\n",
        "# #         valid_indices = torch.arange(60000 - num, 60000)\n",
        "\n",
        "# #         train_sampler = SubsetRandomSampler(train_indices)\n",
        "# #         valid_sampler = SubsetRandomSampler(valid_indices)\n",
        "\n",
        "# #         valid_loader = DataLoader(dataset=valid_dataset,\n",
        "# #                                   batch_size=batch_size,\n",
        "# #                                   num_workers=num_workers,\n",
        "# #                                   sampler=valid_sampler)\n",
        "\n",
        "# #         train_loader = DataLoader(dataset=train_dataset,\n",
        "# #                                   batch_size=batch_size,\n",
        "#                                   num_workers=num_workers,\n",
        "#                                   drop_last=True,\n",
        "#                                   sampler=train_sampler)\n",
        "\n",
        "#     else:\n",
        "#         train_loader = DataLoader(dataset=train_dataset,\n",
        "#                                   batch_size=batch_size,\n",
        "#                                   num_workers=num_workers,\n",
        "#                                   drop_last=True,\n",
        "#                                   shuffle=True)\n",
        "\n",
        "#     test_loader = DataLoader(dataset=test_dataset,\n",
        "#                              batch_size=batch_size,\n",
        "#                              num_workers=num_workers,\n",
        "#                              shuffle=False)\n",
        "\n",
        "#     if validation_fraction is None:\n",
        "#         return train_loader, test_loader\n",
        "#     else:\n",
        "#         return train_loader, valid_loader, test_loader\n",
        "\n",
        "\n",
        "# def get_dataloaders_cifar10(batch_size, num_workers=0,\n",
        "#                             validation_fraction=None,\n",
        "#                             train_transforms=None,\n",
        "#                             test_transforms=None):\n",
        "\n",
        "#     if train_transforms is None:\n",
        "#         train_transforms = transforms.ToTensor()\n",
        "\n",
        "#     if test_transforms is None:\n",
        "#         test_transforms = transforms.ToTensor()\n",
        "\n",
        "#     train_dataset = datasets.CIFAR10(root='data',\n",
        "#                                      train=True,\n",
        "#                                      transform=train_transforms,\n",
        "#                                      download=True)\n",
        "\n",
        "#     valid_dataset = datasets.CIFAR10(root='data',\n",
        "#                                      train=True,\n",
        "#                                      transform=test_transforms)\n",
        "\n",
        "#     test_dataset = datasets.CIFAR10(root='data',\n",
        "#                                     train=False,\n",
        "#                                     transform=test_transforms)\n",
        "\n",
        "#     if validation_fraction is not None:\n",
        "#         num = int(validation_fraction * 50000)\n",
        "#         train_indices = torch.arange(0, 50000 - num)\n",
        "#         valid_indices = torch.arange(50000 - num, 50000)\n",
        "\n",
        "#         train_sampler = SubsetRandomSampler(train_indices)\n",
        "#         valid_sampler = SubsetRandomSampler(valid_indices)\n",
        "\n",
        "#         valid_loader = DataLoader(dataset=valid_dataset,\n",
        "#                                   batch_size=batch_size,\n",
        "#                                   num_workers=num_workers,\n",
        "#                                   sampler=valid_sampler)\n",
        "\n",
        "#         train_loader = DataLoader(dataset=train_dataset,\n",
        "#                                   batch_size=batch_size,\n",
        "#                                   num_workers=num_workers,\n",
        "#                                   drop_last=True,\n",
        "#                                   sampler=train_sampler)\n",
        "\n",
        "#     else:\n",
        "#         train_loader = DataLoader(dataset=train_dataset,\n",
        "#                                   batch_size=batch_size,\n",
        "#                                   num_workers=num_workers,\n",
        "#                                   drop_last=True,\n",
        "#                                   shuffle=True)\n",
        "\n",
        "#     test_loader = DataLoader(dataset=test_dataset,\n",
        "#                              batch_size=batch_size,\n",
        "#                              num_workers=num_workers,\n",
        "#                              shuffle=False)\n",
        "\n",
        "#     if validation_fraction is None:\n",
        "#         return train_loader, test_loader\n",
        "#     else:\n",
        "#         return train_loader, valid_loader, test_loader"
      ],
      "metadata": {
        "id": "AeRlHi3Y9lD0"
      },
      "execution_count": null,
      "outputs": []
    },
    {
      "cell_type": "code",
      "source": [
        "import torch\n",
        "import torchvision\n",
        "import numpy as np\n",
        "import matplotlib.pyplot as plt"
      ],
      "metadata": {
        "id": "QMAn7rEf9vrs"
      },
      "execution_count": null,
      "outputs": []
    },
    {
      "cell_type": "code",
      "source": [
        "RANDOM_SEED = 123\n",
        "BATCH_SIZE = 32\n",
        "NUM_EPOCHS = 3\n",
        "DEVICE = torch.device('cuda:0' if torch.cuda.is_available() else 'cpu')"
      ],
      "metadata": {
        "id": "lPicr7Bj99J3"
      },
      "execution_count": null,
      "outputs": []
    },
    {
      "cell_type": "code",
      "source": [
        "set_all_seeds(RANDOM_SEED)\n",
        "#set_deterministic()"
      ],
      "metadata": {
        "id": "zZru4BqL-Civ"
      },
      "execution_count": null,
      "outputs": []
    },
    {
      "cell_type": "code",
      "source": [
        "# Checking the dataset\n",
        "for images, labels in train_loader:  \n",
        "    print('Image batch dimensions:', images.shape)\n",
        "    print('Image label dimensions:', labels.shape)\n",
        "    print('Class labels of 10 examples:', labels[:10])\n",
        "    break"
      ],
      "metadata": {
        "colab": {
          "base_uri": "https://localhost:8080/"
        },
        "id": "fH5fr69u-FpJ",
        "outputId": "27161473-0514-4d38-9132-2347cd87ad18"
      },
      "execution_count": null,
      "outputs": [
        {
          "output_type": "stream",
          "name": "stdout",
          "text": [
            "Image batch dimensions: torch.Size([4, 3, 224, 224])\n",
            "Image label dimensions: torch.Size([4])\n",
            "Class labels of 10 examples: tensor([1, 1, 1, 1])\n"
          ]
        }
      ]
    },
    {
      "cell_type": "code",
      "source": [
        "model = torchvision.models.resnext50_32x4d(pretrained=False)\n",
        "model"
      ],
      "metadata": {
        "colab": {
          "base_uri": "https://localhost:8080/"
        },
        "id": "VUFMODyQ-c_l",
        "outputId": "661dad65-3e34-4288-f2c6-102348960338"
      },
      "execution_count": null,
      "outputs": [
        {
          "output_type": "execute_result",
          "data": {
            "text/plain": [
              "ResNet(\n",
              "  (conv1): Conv2d(3, 64, kernel_size=(7, 7), stride=(2, 2), padding=(3, 3), bias=False)\n",
              "  (bn1): BatchNorm2d(64, eps=1e-05, momentum=0.1, affine=True, track_running_stats=True)\n",
              "  (relu): ReLU(inplace=True)\n",
              "  (maxpool): MaxPool2d(kernel_size=3, stride=2, padding=1, dilation=1, ceil_mode=False)\n",
              "  (layer1): Sequential(\n",
              "    (0): Bottleneck(\n",
              "      (conv1): Conv2d(64, 128, kernel_size=(1, 1), stride=(1, 1), bias=False)\n",
              "      (bn1): BatchNorm2d(128, eps=1e-05, momentum=0.1, affine=True, track_running_stats=True)\n",
              "      (conv2): Conv2d(128, 128, kernel_size=(3, 3), stride=(1, 1), padding=(1, 1), groups=32, bias=False)\n",
              "      (bn2): BatchNorm2d(128, eps=1e-05, momentum=0.1, affine=True, track_running_stats=True)\n",
              "      (conv3): Conv2d(128, 256, kernel_size=(1, 1), stride=(1, 1), bias=False)\n",
              "      (bn3): BatchNorm2d(256, eps=1e-05, momentum=0.1, affine=True, track_running_stats=True)\n",
              "      (relu): ReLU(inplace=True)\n",
              "      (downsample): Sequential(\n",
              "        (0): Conv2d(64, 256, kernel_size=(1, 1), stride=(1, 1), bias=False)\n",
              "        (1): BatchNorm2d(256, eps=1e-05, momentum=0.1, affine=True, track_running_stats=True)\n",
              "      )\n",
              "    )\n",
              "    (1): Bottleneck(\n",
              "      (conv1): Conv2d(256, 128, kernel_size=(1, 1), stride=(1, 1), bias=False)\n",
              "      (bn1): BatchNorm2d(128, eps=1e-05, momentum=0.1, affine=True, track_running_stats=True)\n",
              "      (conv2): Conv2d(128, 128, kernel_size=(3, 3), stride=(1, 1), padding=(1, 1), groups=32, bias=False)\n",
              "      (bn2): BatchNorm2d(128, eps=1e-05, momentum=0.1, affine=True, track_running_stats=True)\n",
              "      (conv3): Conv2d(128, 256, kernel_size=(1, 1), stride=(1, 1), bias=False)\n",
              "      (bn3): BatchNorm2d(256, eps=1e-05, momentum=0.1, affine=True, track_running_stats=True)\n",
              "      (relu): ReLU(inplace=True)\n",
              "    )\n",
              "    (2): Bottleneck(\n",
              "      (conv1): Conv2d(256, 128, kernel_size=(1, 1), stride=(1, 1), bias=False)\n",
              "      (bn1): BatchNorm2d(128, eps=1e-05, momentum=0.1, affine=True, track_running_stats=True)\n",
              "      (conv2): Conv2d(128, 128, kernel_size=(3, 3), stride=(1, 1), padding=(1, 1), groups=32, bias=False)\n",
              "      (bn2): BatchNorm2d(128, eps=1e-05, momentum=0.1, affine=True, track_running_stats=True)\n",
              "      (conv3): Conv2d(128, 256, kernel_size=(1, 1), stride=(1, 1), bias=False)\n",
              "      (bn3): BatchNorm2d(256, eps=1e-05, momentum=0.1, affine=True, track_running_stats=True)\n",
              "      (relu): ReLU(inplace=True)\n",
              "    )\n",
              "  )\n",
              "  (layer2): Sequential(\n",
              "    (0): Bottleneck(\n",
              "      (conv1): Conv2d(256, 256, kernel_size=(1, 1), stride=(1, 1), bias=False)\n",
              "      (bn1): BatchNorm2d(256, eps=1e-05, momentum=0.1, affine=True, track_running_stats=True)\n",
              "      (conv2): Conv2d(256, 256, kernel_size=(3, 3), stride=(2, 2), padding=(1, 1), groups=32, bias=False)\n",
              "      (bn2): BatchNorm2d(256, eps=1e-05, momentum=0.1, affine=True, track_running_stats=True)\n",
              "      (conv3): Conv2d(256, 512, kernel_size=(1, 1), stride=(1, 1), bias=False)\n",
              "      (bn3): BatchNorm2d(512, eps=1e-05, momentum=0.1, affine=True, track_running_stats=True)\n",
              "      (relu): ReLU(inplace=True)\n",
              "      (downsample): Sequential(\n",
              "        (0): Conv2d(256, 512, kernel_size=(1, 1), stride=(2, 2), bias=False)\n",
              "        (1): BatchNorm2d(512, eps=1e-05, momentum=0.1, affine=True, track_running_stats=True)\n",
              "      )\n",
              "    )\n",
              "    (1): Bottleneck(\n",
              "      (conv1): Conv2d(512, 256, kernel_size=(1, 1), stride=(1, 1), bias=False)\n",
              "      (bn1): BatchNorm2d(256, eps=1e-05, momentum=0.1, affine=True, track_running_stats=True)\n",
              "      (conv2): Conv2d(256, 256, kernel_size=(3, 3), stride=(1, 1), padding=(1, 1), groups=32, bias=False)\n",
              "      (bn2): BatchNorm2d(256, eps=1e-05, momentum=0.1, affine=True, track_running_stats=True)\n",
              "      (conv3): Conv2d(256, 512, kernel_size=(1, 1), stride=(1, 1), bias=False)\n",
              "      (bn3): BatchNorm2d(512, eps=1e-05, momentum=0.1, affine=True, track_running_stats=True)\n",
              "      (relu): ReLU(inplace=True)\n",
              "    )\n",
              "    (2): Bottleneck(\n",
              "      (conv1): Conv2d(512, 256, kernel_size=(1, 1), stride=(1, 1), bias=False)\n",
              "      (bn1): BatchNorm2d(256, eps=1e-05, momentum=0.1, affine=True, track_running_stats=True)\n",
              "      (conv2): Conv2d(256, 256, kernel_size=(3, 3), stride=(1, 1), padding=(1, 1), groups=32, bias=False)\n",
              "      (bn2): BatchNorm2d(256, eps=1e-05, momentum=0.1, affine=True, track_running_stats=True)\n",
              "      (conv3): Conv2d(256, 512, kernel_size=(1, 1), stride=(1, 1), bias=False)\n",
              "      (bn3): BatchNorm2d(512, eps=1e-05, momentum=0.1, affine=True, track_running_stats=True)\n",
              "      (relu): ReLU(inplace=True)\n",
              "    )\n",
              "    (3): Bottleneck(\n",
              "      (conv1): Conv2d(512, 256, kernel_size=(1, 1), stride=(1, 1), bias=False)\n",
              "      (bn1): BatchNorm2d(256, eps=1e-05, momentum=0.1, affine=True, track_running_stats=True)\n",
              "      (conv2): Conv2d(256, 256, kernel_size=(3, 3), stride=(1, 1), padding=(1, 1), groups=32, bias=False)\n",
              "      (bn2): BatchNorm2d(256, eps=1e-05, momentum=0.1, affine=True, track_running_stats=True)\n",
              "      (conv3): Conv2d(256, 512, kernel_size=(1, 1), stride=(1, 1), bias=False)\n",
              "      (bn3): BatchNorm2d(512, eps=1e-05, momentum=0.1, affine=True, track_running_stats=True)\n",
              "      (relu): ReLU(inplace=True)\n",
              "    )\n",
              "  )\n",
              "  (layer3): Sequential(\n",
              "    (0): Bottleneck(\n",
              "      (conv1): Conv2d(512, 512, kernel_size=(1, 1), stride=(1, 1), bias=False)\n",
              "      (bn1): BatchNorm2d(512, eps=1e-05, momentum=0.1, affine=True, track_running_stats=True)\n",
              "      (conv2): Conv2d(512, 512, kernel_size=(3, 3), stride=(2, 2), padding=(1, 1), groups=32, bias=False)\n",
              "      (bn2): BatchNorm2d(512, eps=1e-05, momentum=0.1, affine=True, track_running_stats=True)\n",
              "      (conv3): Conv2d(512, 1024, kernel_size=(1, 1), stride=(1, 1), bias=False)\n",
              "      (bn3): BatchNorm2d(1024, eps=1e-05, momentum=0.1, affine=True, track_running_stats=True)\n",
              "      (relu): ReLU(inplace=True)\n",
              "      (downsample): Sequential(\n",
              "        (0): Conv2d(512, 1024, kernel_size=(1, 1), stride=(2, 2), bias=False)\n",
              "        (1): BatchNorm2d(1024, eps=1e-05, momentum=0.1, affine=True, track_running_stats=True)\n",
              "      )\n",
              "    )\n",
              "    (1): Bottleneck(\n",
              "      (conv1): Conv2d(1024, 512, kernel_size=(1, 1), stride=(1, 1), bias=False)\n",
              "      (bn1): BatchNorm2d(512, eps=1e-05, momentum=0.1, affine=True, track_running_stats=True)\n",
              "      (conv2): Conv2d(512, 512, kernel_size=(3, 3), stride=(1, 1), padding=(1, 1), groups=32, bias=False)\n",
              "      (bn2): BatchNorm2d(512, eps=1e-05, momentum=0.1, affine=True, track_running_stats=True)\n",
              "      (conv3): Conv2d(512, 1024, kernel_size=(1, 1), stride=(1, 1), bias=False)\n",
              "      (bn3): BatchNorm2d(1024, eps=1e-05, momentum=0.1, affine=True, track_running_stats=True)\n",
              "      (relu): ReLU(inplace=True)\n",
              "    )\n",
              "    (2): Bottleneck(\n",
              "      (conv1): Conv2d(1024, 512, kernel_size=(1, 1), stride=(1, 1), bias=False)\n",
              "      (bn1): BatchNorm2d(512, eps=1e-05, momentum=0.1, affine=True, track_running_stats=True)\n",
              "      (conv2): Conv2d(512, 512, kernel_size=(3, 3), stride=(1, 1), padding=(1, 1), groups=32, bias=False)\n",
              "      (bn2): BatchNorm2d(512, eps=1e-05, momentum=0.1, affine=True, track_running_stats=True)\n",
              "      (conv3): Conv2d(512, 1024, kernel_size=(1, 1), stride=(1, 1), bias=False)\n",
              "      (bn3): BatchNorm2d(1024, eps=1e-05, momentum=0.1, affine=True, track_running_stats=True)\n",
              "      (relu): ReLU(inplace=True)\n",
              "    )\n",
              "    (3): Bottleneck(\n",
              "      (conv1): Conv2d(1024, 512, kernel_size=(1, 1), stride=(1, 1), bias=False)\n",
              "      (bn1): BatchNorm2d(512, eps=1e-05, momentum=0.1, affine=True, track_running_stats=True)\n",
              "      (conv2): Conv2d(512, 512, kernel_size=(3, 3), stride=(1, 1), padding=(1, 1), groups=32, bias=False)\n",
              "      (bn2): BatchNorm2d(512, eps=1e-05, momentum=0.1, affine=True, track_running_stats=True)\n",
              "      (conv3): Conv2d(512, 1024, kernel_size=(1, 1), stride=(1, 1), bias=False)\n",
              "      (bn3): BatchNorm2d(1024, eps=1e-05, momentum=0.1, affine=True, track_running_stats=True)\n",
              "      (relu): ReLU(inplace=True)\n",
              "    )\n",
              "    (4): Bottleneck(\n",
              "      (conv1): Conv2d(1024, 512, kernel_size=(1, 1), stride=(1, 1), bias=False)\n",
              "      (bn1): BatchNorm2d(512, eps=1e-05, momentum=0.1, affine=True, track_running_stats=True)\n",
              "      (conv2): Conv2d(512, 512, kernel_size=(3, 3), stride=(1, 1), padding=(1, 1), groups=32, bias=False)\n",
              "      (bn2): BatchNorm2d(512, eps=1e-05, momentum=0.1, affine=True, track_running_stats=True)\n",
              "      (conv3): Conv2d(512, 1024, kernel_size=(1, 1), stride=(1, 1), bias=False)\n",
              "      (bn3): BatchNorm2d(1024, eps=1e-05, momentum=0.1, affine=True, track_running_stats=True)\n",
              "      (relu): ReLU(inplace=True)\n",
              "    )\n",
              "    (5): Bottleneck(\n",
              "      (conv1): Conv2d(1024, 512, kernel_size=(1, 1), stride=(1, 1), bias=False)\n",
              "      (bn1): BatchNorm2d(512, eps=1e-05, momentum=0.1, affine=True, track_running_stats=True)\n",
              "      (conv2): Conv2d(512, 512, kernel_size=(3, 3), stride=(1, 1), padding=(1, 1), groups=32, bias=False)\n",
              "      (bn2): BatchNorm2d(512, eps=1e-05, momentum=0.1, affine=True, track_running_stats=True)\n",
              "      (conv3): Conv2d(512, 1024, kernel_size=(1, 1), stride=(1, 1), bias=False)\n",
              "      (bn3): BatchNorm2d(1024, eps=1e-05, momentum=0.1, affine=True, track_running_stats=True)\n",
              "      (relu): ReLU(inplace=True)\n",
              "    )\n",
              "  )\n",
              "  (layer4): Sequential(\n",
              "    (0): Bottleneck(\n",
              "      (conv1): Conv2d(1024, 1024, kernel_size=(1, 1), stride=(1, 1), bias=False)\n",
              "      (bn1): BatchNorm2d(1024, eps=1e-05, momentum=0.1, affine=True, track_running_stats=True)\n",
              "      (conv2): Conv2d(1024, 1024, kernel_size=(3, 3), stride=(2, 2), padding=(1, 1), groups=32, bias=False)\n",
              "      (bn2): BatchNorm2d(1024, eps=1e-05, momentum=0.1, affine=True, track_running_stats=True)\n",
              "      (conv3): Conv2d(1024, 2048, kernel_size=(1, 1), stride=(1, 1), bias=False)\n",
              "      (bn3): BatchNorm2d(2048, eps=1e-05, momentum=0.1, affine=True, track_running_stats=True)\n",
              "      (relu): ReLU(inplace=True)\n",
              "      (downsample): Sequential(\n",
              "        (0): Conv2d(1024, 2048, kernel_size=(1, 1), stride=(2, 2), bias=False)\n",
              "        (1): BatchNorm2d(2048, eps=1e-05, momentum=0.1, affine=True, track_running_stats=True)\n",
              "      )\n",
              "    )\n",
              "    (1): Bottleneck(\n",
              "      (conv1): Conv2d(2048, 1024, kernel_size=(1, 1), stride=(1, 1), bias=False)\n",
              "      (bn1): BatchNorm2d(1024, eps=1e-05, momentum=0.1, affine=True, track_running_stats=True)\n",
              "      (conv2): Conv2d(1024, 1024, kernel_size=(3, 3), stride=(1, 1), padding=(1, 1), groups=32, bias=False)\n",
              "      (bn2): BatchNorm2d(1024, eps=1e-05, momentum=0.1, affine=True, track_running_stats=True)\n",
              "      (conv3): Conv2d(1024, 2048, kernel_size=(1, 1), stride=(1, 1), bias=False)\n",
              "      (bn3): BatchNorm2d(2048, eps=1e-05, momentum=0.1, affine=True, track_running_stats=True)\n",
              "      (relu): ReLU(inplace=True)\n",
              "    )\n",
              "    (2): Bottleneck(\n",
              "      (conv1): Conv2d(2048, 1024, kernel_size=(1, 1), stride=(1, 1), bias=False)\n",
              "      (bn1): BatchNorm2d(1024, eps=1e-05, momentum=0.1, affine=True, track_running_stats=True)\n",
              "      (conv2): Conv2d(1024, 1024, kernel_size=(3, 3), stride=(1, 1), padding=(1, 1), groups=32, bias=False)\n",
              "      (bn2): BatchNorm2d(1024, eps=1e-05, momentum=0.1, affine=True, track_running_stats=True)\n",
              "      (conv3): Conv2d(1024, 2048, kernel_size=(1, 1), stride=(1, 1), bias=False)\n",
              "      (bn3): BatchNorm2d(2048, eps=1e-05, momentum=0.1, affine=True, track_running_stats=True)\n",
              "      (relu): ReLU(inplace=True)\n",
              "    )\n",
              "  )\n",
              "  (avgpool): AdaptiveAvgPool2d(output_size=(1, 1))\n",
              "  (fc): Linear(in_features=2048, out_features=1000, bias=True)\n",
              ")"
            ]
          },
          "metadata": {},
          "execution_count": 45
        }
      ]
    },
    {
      "cell_type": "code",
      "source": [
        "# for param in model.parameters():\n",
        "#     param.requires_grad = False"
      ],
      "metadata": {
        "id": "tJ-m88Ui-2Zo"
      },
      "execution_count": null,
      "outputs": []
    },
    {
      "cell_type": "code",
      "source": [
        "# model.classifier[0].requires_grad = True\n",
        "# model.classifier[3].requires_grad = True"
      ],
      "metadata": {
        "id": "UR_wcRiU-7ev"
      },
      "execution_count": null,
      "outputs": []
    },
    {
      "cell_type": "code",
      "source": [
        "model.fc = torch.nn.Linear(2048, 2)"
      ],
      "metadata": {
        "id": "azDk-jkg-_yW"
      },
      "execution_count": null,
      "outputs": []
    },
    {
      "cell_type": "code",
      "source": [
        "model = model.to(DEVICE)\n",
        "\n",
        "optimizer = torch.optim.SGD(model.parameters(), momentum=0.9, lr=0.01)\n",
        "scheduler = torch.optim.lr_scheduler.ReduceLROnPlateau(optimizer,\n",
        "                                                       factor=0.1,\n",
        "                                                       mode='max',\n",
        "                                                       verbose=True)\n",
        "\n",
        "minibatch_loss_list, train_acc_list, valid_acc_list = train_model(\n",
        "    model=model,\n",
        "    num_epochs=NUM_EPOCHS,\n",
        "    train_loader=train_loader,\n",
        "    valid_loader=valid_loader,\n",
        "    test_loader=test_loader,\n",
        "    optimizer=optimizer,\n",
        "    device=DEVICE,\n",
        "    scheduler=scheduler,\n",
        "    scheduler_on='valid_acc',\n",
        "    logging_interval=100)\n",
        "\n",
        "plot_training_loss(minibatch_loss_list=minibatch_loss_list,\n",
        "                   num_epochs=NUM_EPOCHS,\n",
        "                   iter_per_epoch=len(train_loader),\n",
        "                   results_dir=None,\n",
        "                   averaging_iterations=200)\n",
        "plt.show()\n",
        "\n",
        "plot_accuracy(train_acc_list=train_acc_list,\n",
        "              valid_acc_list=valid_acc_list,\n",
        "              results_dir=None)\n",
        "plt.ylim([60, 100])\n",
        "plt.show()"
      ],
      "metadata": {
        "colab": {
          "base_uri": "https://localhost:8080/",
          "height": 1000
        },
        "id": "GYXj30qs_B3f",
        "outputId": "de18bf33-4fc7-4829-d575-4bcb54b10090"
      },
      "execution_count": null,
      "outputs": [
        {
          "output_type": "stream",
          "name": "stdout",
          "text": [
            "Epoch: 001/003 | Batch 0000/1669 | Loss: 0.4915\n",
            "Epoch: 001/003 | Batch 0100/1669 | Loss: 0.6267\n",
            "Epoch: 001/003 | Batch 0200/1669 | Loss: 1.3345\n",
            "Epoch: 001/003 | Batch 0300/1669 | Loss: 0.3553\n",
            "Epoch: 001/003 | Batch 0400/1669 | Loss: 0.5957\n",
            "Epoch: 001/003 | Batch 0500/1669 | Loss: 0.3463\n",
            "Epoch: 001/003 | Batch 0600/1669 | Loss: 0.1973\n",
            "Epoch: 001/003 | Batch 0700/1669 | Loss: 0.3403\n",
            "Epoch: 001/003 | Batch 0800/1669 | Loss: 0.5508\n",
            "Epoch: 001/003 | Batch 0900/1669 | Loss: 1.5409\n",
            "Epoch: 001/003 | Batch 1000/1669 | Loss: 0.4507\n",
            "Epoch: 001/003 | Batch 1100/1669 | Loss: 0.1885\n",
            "Epoch: 001/003 | Batch 1200/1669 | Loss: 0.2126\n",
            "Epoch: 001/003 | Batch 1300/1669 | Loss: 0.8210\n",
            "Epoch: 001/003 | Batch 1400/1669 | Loss: 1.0684\n",
            "Epoch: 001/003 | Batch 1500/1669 | Loss: 0.4529\n",
            "Epoch: 001/003 | Batch 1600/1669 | Loss: 0.5593\n",
            "Epoch: 001/003 | Train: 71.10% | Validation: 69.01%\n",
            "Time elapsed: 36.09 min\n",
            "Epoch: 002/003 | Batch 0000/1669 | Loss: 1.3045\n",
            "Epoch: 002/003 | Batch 0100/1669 | Loss: 0.5813\n",
            "Epoch: 002/003 | Batch 0200/1669 | Loss: 0.3600\n",
            "Epoch: 002/003 | Batch 0300/1669 | Loss: 0.3539\n",
            "Epoch: 002/003 | Batch 0400/1669 | Loss: 0.4382\n",
            "Epoch: 002/003 | Batch 0500/1669 | Loss: 0.3313\n",
            "Epoch: 002/003 | Batch 0600/1669 | Loss: 0.9824\n",
            "Epoch: 002/003 | Batch 0700/1669 | Loss: 1.7691\n",
            "Epoch: 002/003 | Batch 0800/1669 | Loss: 0.6167\n",
            "Epoch: 002/003 | Batch 0900/1669 | Loss: 0.6833\n",
            "Epoch: 002/003 | Batch 1000/1669 | Loss: 0.4496\n",
            "Epoch: 002/003 | Batch 1100/1669 | Loss: 0.0922\n",
            "Epoch: 002/003 | Batch 1200/1669 | Loss: 0.3722\n",
            "Epoch: 002/003 | Batch 1300/1669 | Loss: 0.3748\n",
            "Epoch: 002/003 | Batch 1400/1669 | Loss: 0.2904\n",
            "Epoch: 002/003 | Batch 1500/1669 | Loss: 0.3277\n",
            "Epoch: 002/003 | Batch 1600/1669 | Loss: 0.3683\n",
            "Epoch: 002/003 | Train: 74.88% | Validation: 74.67%\n",
            "Time elapsed: 44.18 min\n",
            "Epoch: 003/003 | Batch 0000/1669 | Loss: 0.5640\n",
            "Epoch: 003/003 | Batch 0100/1669 | Loss: 0.2684\n",
            "Epoch: 003/003 | Batch 0200/1669 | Loss: 0.0454\n",
            "Epoch: 003/003 | Batch 0300/1669 | Loss: 0.5939\n",
            "Epoch: 003/003 | Batch 0400/1669 | Loss: 0.3102\n",
            "Epoch: 003/003 | Batch 0500/1669 | Loss: 0.4865\n",
            "Epoch: 003/003 | Batch 0600/1669 | Loss: 0.6292\n",
            "Epoch: 003/003 | Batch 0700/1669 | Loss: 0.4223\n",
            "Epoch: 003/003 | Batch 0800/1669 | Loss: 0.6384\n",
            "Epoch: 003/003 | Batch 0900/1669 | Loss: 0.6737\n",
            "Epoch: 003/003 | Batch 1000/1669 | Loss: 1.0873\n",
            "Epoch: 003/003 | Batch 1100/1669 | Loss: 0.4404\n",
            "Epoch: 003/003 | Batch 1200/1669 | Loss: 0.5519\n",
            "Epoch: 003/003 | Batch 1300/1669 | Loss: 0.1639\n",
            "Epoch: 003/003 | Batch 1400/1669 | Loss: 0.6174\n",
            "Epoch: 003/003 | Batch 1500/1669 | Loss: 0.3129\n",
            "Epoch: 003/003 | Batch 1600/1669 | Loss: 0.7638\n",
            "Epoch: 003/003 | Train: 78.83% | Validation: 78.08%\n",
            "Time elapsed: 52.35 min\n",
            "Total Training Time: 52.35 min\n",
            "Test accuracy 78.64%\n"
          ]
        },
        {
          "output_type": "display_data",
          "data": {
            "text/plain": [
              "<Figure size 432x288 with 2 Axes>"
            ],
            "image/png": "[encoded data removed]"
          },
          "metadata": {
            "needs_background": "light"
          }
        },
        {
          "output_type": "display_data",
          "data": {
            "text/plain": [
              "<Figure size 432x288 with 1 Axes>"
            ],
            "image/png": "[encoded data removed]"
          },
          "metadata": {
            "needs_background": "light"
          }
        }
      ]
    },
    {
      "cell_type": "code",
      "source": [
        ""
      ],
      "metadata": {
        "id": "abcgrzUt_ZuI"
      },
      "execution_count": null,
      "outputs": []
    },
    {
      "cell_type": "code",
      "source": [
        "torch.save(model.state_dict(), '/content/drive/MyDrive/PRML Project/covid 19/weights/m1/resnext50_32x4d_13_04_only_linear_layers.pth')"
      ],
      "metadata": {
        "id": "Dx3CyfxIOUB8"
      },
      "execution_count": null,
      "outputs": []
    },
    {
      "cell_type": "code",
      "source": [
        "model.cpu()\n",
        "unnormalizer = UnNormalize(mean, std)\n",
        "class_dict = {0: 'Covid',\n",
        "              1: 'Non-Covid'}\n",
        "# show_examples(model=model, data_loader=test_loader, unnormalizer=unnormalizer, class_dict=class_dict)"
      ],
      "metadata": {
        "id": "BCO2UrOtN4jl"
      },
      "execution_count": null,
      "outputs": []
    },
    {
      "cell_type": "code",
      "source": [
        "mat = compute_confusion_matrix(model=model, data_loader=test_loader, device=torch.device('cpu'))\n",
        "plot_confusion_matrix(mat, class_names=class_dict.values())\n",
        "plt.show()"
      ],
      "metadata": {
        "id": "qOK3Vrz0N5UJ",
        "colab": {
          "base_uri": "https://localhost:8080/",
          "height": 321
        },
        "outputId": "295fc4c8-24de-4377-d338-4b63eabce516"
      },
      "execution_count": null,
      "outputs": [
        {
          "output_type": "display_data",
          "data": {
            "text/plain": [
              "<Figure size 432x288 with 1 Axes>"
            ],
            "image/png": "[encoded data removed]"
          },
          "metadata": {
            "needs_background": "light"
          }
        }
      ]
    },
    {
      "cell_type": "markdown",
      "source": [
        "Evaluation Metrics:"
      ],
      "metadata": {
        "id": "UQ3gQ1R0s2L3"
      }
    },
    {
      "cell_type": "markdown",
      "source": [
        "![image.png](data:image/png;base64,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)"
      ],
      "metadata": {
        "id": "rdEF4Fsk2fj3"
      }
    }
  ]
}