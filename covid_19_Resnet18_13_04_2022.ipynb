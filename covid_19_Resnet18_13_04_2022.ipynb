{
  "nbformat": 4,
  "nbformat_minor": 0,
  "metadata": {
    "colab": {
      "name": "covid_19_Resnet18_13_04_2022.ipynb",
      "provenance": [],
      "collapsed_sections": []
    },
    "kernelspec": {
      "name": "python3",
      "display_name": "Python 3"
    },
    "language_info": {
      "name": "python"
    },
    "accelerator": "GPU"
  },
  "cells": [
    {
      "cell_type": "code",
      "source": [
        "from google.colab import drive\n",
        "drive.mount('/content/drive')"
      ],
      "metadata": {
        "colab": {
          "base_uri": "https://localhost:8080/"
        },
        "id": "Dzs52y-986Gi",
        "outputId": "f7cd58a0-77dd-4025-f975-705b58387c45"
      },
      "execution_count": null,
      "outputs": [
        {
          "output_type": "stream",
          "name": "stdout",
          "text": [
            "Mounted at /content/drive\n"
          ]
        }
      ]
    },
    {
      "cell_type": "code",
      "source": [
        "import numpy as np\n",
        "import pandas as pd\n",
        "import matplotlib.pyplot as plt\n",
        "import seaborn as sns"
      ],
      "metadata": {
        "id": "R00QK97LIK6i"
      },
      "execution_count": null,
      "outputs": []
    },
    {
      "cell_type": "code",
      "source": [
        "import os\n",
        "import torch\n",
        "import torchvision\n",
        "import torchvision.transforms as transforms"
      ],
      "metadata": {
        "id": "Mg_cysYrt-82"
      },
      "execution_count": null,
      "outputs": []
    },
    {
      "cell_type": "code",
      "source": [
        "os.listdir('/content/drive/MyDrive/PRML Project/covid 19/Extensive COVID-19 X-Ray and CT Chest Images Dataset.zip (Unzipped Files)/COVID-19 Dataset.zip (Unzipped Files)/COVID-19 Dataset/X-ray')"
      ],
      "metadata": {
        "colab": {
          "base_uri": "https://localhost:8080/"
        },
        "id": "0KHHlo6V9Fuk",
        "outputId": "57cfc33d-24a3-4951-81aa-0704b8b600c1"
      },
      "execution_count": null,
      "outputs": [
        {
          "output_type": "execute_result",
          "data": {
            "text/plain": [
              "['Non-COVID', 'COVID']"
            ]
          },
          "metadata": {},
          "execution_count": 4
        }
      ]
    },
    {
      "cell_type": "code",
      "source": [
        "len(os.listdir('/content/drive/MyDrive/PRML Project/covid 19/Extensive COVID-19 X-Ray and CT Chest Images Dataset.zip (Unzipped Files)/COVID-19 Dataset.zip (Unzipped Files)/COVID-19 Dataset/X-ray/COVID'))"
      ],
      "metadata": {
        "colab": {
          "base_uri": "https://localhost:8080/"
        },
        "id": "cX2TXRrZ9TOe",
        "outputId": "f2f901f0-5ede-403a-dede-5ad9d79fc5b5"
      },
      "execution_count": null,
      "outputs": [
        {
          "output_type": "execute_result",
          "data": {
            "text/plain": [
              "4044"
            ]
          },
          "metadata": {},
          "execution_count": 5
        }
      ]
    },
    {
      "cell_type": "code",
      "source": [
        "len(os.listdir('/content/drive/MyDrive/PRML Project/covid 19/Extensive COVID-19 X-Ray and CT Chest Images Dataset.zip (Unzipped Files)/COVID-19 Dataset.zip (Unzipped Files)/COVID-19 Dataset/X-ray/Non-COVID'))"
      ],
      "metadata": {
        "colab": {
          "base_uri": "https://localhost:8080/"
        },
        "id": "f7mmRihG9Xiz",
        "outputId": "1ecbf380-82fa-4687-f79e-49a47aa40da0"
      },
      "execution_count": null,
      "outputs": [
        {
          "output_type": "execute_result",
          "data": {
            "text/plain": [
              "5500"
            ]
          },
          "metadata": {},
          "execution_count": 6
        }
      ]
    },
    {
      "cell_type": "code",
      "source": [
        "dataset_path = '/content/drive/MyDrive/PRML Project/covid 19/Extensive COVID-19 X-Ray and CT Chest Images Dataset.zip (Unzipped Files)/COVID-19 Dataset.zip (Unzipped Files)/COVID-19 Dataset/X-ray'"
      ],
      "metadata": {
        "id": "x1TncA6B9x5X"
      },
      "execution_count": null,
      "outputs": []
    },
    {
      "cell_type": "code",
      "source": [
        "dataset_transforms = transforms.Compose([transforms.Resize((224, 224)), transforms.ToTensor()])"
      ],
      "metadata": {
        "id": "ZKFsRoDF-Kr2"
      },
      "execution_count": null,
      "outputs": []
    },
    {
      "cell_type": "code",
      "source": [
        "def get_mean_and_std(loader):\n",
        "  mean = 0.\n",
        "  std = 0.\n",
        "  total_images_count = 0\n",
        "  for images, _ in loader:\n",
        "    image_count_in_a_batch = images.size(0)\n",
        "    images = images.view(image_count_in_a_batch, images.size(1), -1)\n",
        "    mean += images.mean(2).sum(0)\n",
        "    std += images.std(2).sum(0)\n",
        "    total_images_count += image_count_in_a_batch\n",
        "  mean /= total_images_count\n",
        "  std /= total_images_count\n",
        "\n",
        "  return mean, std "
      ],
      "metadata": {
        "id": "YumVD5UK_0Ex"
      },
      "execution_count": null,
      "outputs": []
    },
    {
      "cell_type": "code",
      "source": [
        "# mean = [0.4363, 0.4328, 0.3291]\n",
        "# std = [0.2129, 0.3075, 0.2038]\n",
        "# from torchvision.transforms.transforms import RandomHorizontalFlip\n",
        "# dataset_transforms2 = transforms.Compose([\n",
        "#                                           transforms.Resize((1024,1024), ), \n",
        "#                                           transforms.RandomHorizontalFlip(),\n",
        "#                                           transforms.RandomRotation(10),\n",
        "#                                           transforms.ToTensor(),\n",
        "#                                           transforms.Normalize(torch.Tensor(mean), torch.Tensor(std))\n",
        "#                                         ])"
      ],
      "metadata": {
        "id": "yAJW978AI0JV"
      },
      "execution_count": null,
      "outputs": []
    },
    {
      "cell_type": "code",
      "source": [
        "mean = [0.4867, 0.4870, 0.4872]\n",
        "std = [0.2273, 0.2273, 0.2274]\n",
        "from torchvision.transforms.transforms import RandomHorizontalFlip\n",
        "dataset_transforms2 = transforms.Compose([\n",
        "                                          transforms.Resize((224,224)), \n",
        "                                          transforms.RandomHorizontalFlip(),\n",
        "                                          transforms.RandomRotation(10),\n",
        "                                          transforms.ToTensor(),\n",
        "                                          transforms.Normalize(torch.Tensor(mean), torch.Tensor(std))\n",
        "                                        ])"
      ],
      "metadata": {
        "id": "bNMTaLx0YfBF"
      },
      "execution_count": null,
      "outputs": []
    },
    {
      "cell_type": "code",
      "source": [
        "dataset = torchvision.datasets.ImageFolder(root = dataset_path, transform = dataset_transforms2)"
      ],
      "metadata": {
        "id": "Nq6mAiN9_JdB"
      },
      "execution_count": null,
      "outputs": []
    },
    {
      "cell_type": "code",
      "source": [
        "len(dataset)"
      ],
      "metadata": {
        "colab": {
          "base_uri": "https://localhost:8080/"
        },
        "id": "UAhSm7M1AOnm",
        "outputId": "2a51816b-f3aa-4411-bc35-b934ac61e48c"
      },
      "execution_count": null,
      "outputs": [
        {
          "output_type": "execute_result",
          "data": {
            "text/plain": [
              "9537"
            ]
          },
          "metadata": {},
          "execution_count": 10
        }
      ]
    },
    {
      "cell_type": "code",
      "source": [
        "train_size = int(0.7 * len(dataset))\n",
        "validation_size = int(0.2 * len(dataset))\n",
        "test_size = len(dataset) - train_size - validation_size\n",
        "train_dataset, validation_dataset, test_dataset = torch.utils.data.random_split(dataset, [train_size,validation_size,test_size])"
      ],
      "metadata": {
        "id": "Jcfg2B7XAHSN"
      },
      "execution_count": null,
      "outputs": []
    },
    {
      "cell_type": "code",
      "source": [
        "dataset_loader = torch.utils.data.DataLoader(dataset = dataset, batch_size = 4, shuffle = True)"
      ],
      "metadata": {
        "id": "He7-jHhK_bTE"
      },
      "execution_count": null,
      "outputs": []
    },
    {
      "cell_type": "code",
      "source": [
        "train_loader = torch.utils.data.DataLoader(dataset = train_dataset, batch_size = 4, shuffle = True)\n",
        "valid_loader = torch.utils.data.DataLoader(dataset = validation_dataset, batch_size = 4)\n",
        "test_loader = torch.utils.data.DataLoader(dataset = test_dataset, batch_size = 4)"
      ],
      "metadata": {
        "id": "MvEugNx2AVk9"
      },
      "execution_count": null,
      "outputs": []
    },
    {
      "cell_type": "code",
      "source": [
        "# get_mean_and_std(dataset_loader)"
      ],
      "metadata": {
        "id": "G3HMxHyCBh42"
      },
      "execution_count": null,
      "outputs": []
    },
    {
      "cell_type": "code",
      "source": [
        "def show_transformed_images(dataset):\n",
        "  loader = torch.utils.data.DataLoader(dataset, batch_size = 6, shuffle = True)\n",
        "  batch = next(iter(loader))\n",
        "  images, labels = batch\n",
        "\n",
        "  grid = torchvision.utils.make_grid(images, nrow = 3)\n",
        "  plt.figure(figsize = (11,11))\n",
        "  plt.imshow(np.transpose(grid, (1,2,0)))\n",
        "  print(\"labels: \", labels)"
      ],
      "metadata": {
        "id": "duZNMaxUDhx9"
      },
      "execution_count": null,
      "outputs": []
    },
    {
      "cell_type": "code",
      "source": [
        "# show_transformed_images(dataset)"
      ],
      "metadata": {
        "id": "ccFBLMh9Ihkj"
      },
      "execution_count": null,
      "outputs": []
    },
    {
      "cell_type": "code",
      "source": [
        "# show_transformed_images(train_dataset)"
      ],
      "metadata": {
        "id": "1HTcfw3KAlYD"
      },
      "execution_count": null,
      "outputs": []
    },
    {
      "cell_type": "code",
      "source": [
        "# show_transformed_images(validation_dataset)"
      ],
      "metadata": {
        "id": "A9CuD4yAAzfm"
      },
      "execution_count": null,
      "outputs": []
    },
    {
      "cell_type": "code",
      "source": [
        "def set_device():\n",
        "  if torch.cuda.is_available():\n",
        "    dev = \"cuda:0\"\n",
        "  else:\n",
        "    dev = \"cpu\"\n",
        "  return torch.device(dev)"
      ],
      "metadata": {
        "id": "JhLfkUROIl61"
      },
      "execution_count": null,
      "outputs": []
    },
    {
      "cell_type": "code",
      "source": [
        "# DEVICE = set_device()"
      ],
      "metadata": {
        "id": "1CQr6AdVpeqg"
      },
      "execution_count": null,
      "outputs": []
    },
    {
      "cell_type": "code",
      "source": [
        "# DEVICE"
      ],
      "metadata": {
        "id": "tskrisCGphtm"
      },
      "execution_count": null,
      "outputs": []
    },
    {
      "cell_type": "code",
      "source": [
        "!nvidia-smi"
      ],
      "metadata": {
        "colab": {
          "base_uri": "https://localhost:8080/"
        },
        "id": "LeSFX8jhF3yp",
        "outputId": "f8a8625f-e228-4642-af7d-98378437c306"
      },
      "execution_count": null,
      "outputs": [
        {
          "output_type": "stream",
          "name": "stdout",
          "text": [
            "Wed Apr 13 19:25:52 2022       \n",
            "+-----------------------------------------------------------------------------+\n",
            "| NVIDIA-SMI 460.32.03    Driver Version: 460.32.03    CUDA Version: 11.2     |\n",
            "|-------------------------------+----------------------+----------------------+\n",
            "| GPU  Name        Persistence-M| Bus-Id        Disp.A | Volatile Uncorr. ECC |\n",
            "| Fan  Temp  Perf  Pwr:Usage/Cap|         Memory-Usage | GPU-Util  Compute M. |\n",
            "|                               |                      |               MIG M. |\n",
            "|===============================+======================+======================|\n",
            "|   0  Tesla T4            Off  | 00000000:00:04.0 Off |                    0 |\n",
            "| N/A   33C    P8     9W /  70W |      0MiB / 15109MiB |      0%      Default |\n",
            "|                               |                      |                  N/A |\n",
            "+-------------------------------+----------------------+----------------------+\n",
            "                                                                               \n",
            "+-----------------------------------------------------------------------------+\n",
            "| Processes:                                                                  |\n",
            "|  GPU   GI   CI        PID   Type   Process name                  GPU Memory |\n",
            "|        ID   ID                                                   Usage      |\n",
            "|=============================================================================|\n",
            "|  No running processes found                                                 |\n",
            "+-----------------------------------------------------------------------------+\n"
          ]
        }
      ]
    },
    {
      "cell_type": "code",
      "source": [
        "# imports from installed libraries\n",
        "import os\n",
        "import numpy as np\n",
        "import random\n",
        "import torch\n",
        "from distutils.version import LooseVersion as Version\n",
        "from itertools import product\n",
        "\n",
        "def set_all_seeds(seed):\n",
        "    os.environ[\"PL_GLOBAL_SEED\"] = str(seed)\n",
        "    random.seed(seed)\n",
        "    np.random.seed(seed)\n",
        "    torch.manual_seed(seed)\n",
        "    torch.cuda.manual_seed_all(seed)\n",
        "\n",
        "\n",
        "def set_deterministic(use_tensorcores=False):\n",
        "    if torch.cuda.is_available():\n",
        "        torch.backends.cudnn.benchmark = False\n",
        "        torch.backends.cudnn.deterministic = True\n",
        "\n",
        "    if torch.__version__ <= Version(\"1.7\"):\n",
        "        torch.set_deterministic(True)\n",
        "    else:\n",
        "        torch.use_deterministic_algorithms(True)\n",
        "        \n",
        "        # The following are set to True by default and allow cards\n",
        "        # like the Ampere and newer to utilize tensorcores for\n",
        "        # convolutions and matrix multiplications, which can result\n",
        "        # in a significant speed-up. However, results may differ compared\n",
        "        # to card how don't use mixed precision via tensor cores.\n",
        "        torch.backends.cuda.matmul.allow_tf32 = use_tensorcores\n",
        "        torch.backends.cudnn.allow_tf32 = use_tensorcores\n",
        "\n",
        "\n",
        "def compute_accuracy(model, data_loader, device):\n",
        "\n",
        "    with torch.no_grad():\n",
        "\n",
        "        correct_pred, num_examples = 0, 0\n",
        "\n",
        "        for i, (features, targets) in enumerate(data_loader):\n",
        "\n",
        "            features = features.to(device)\n",
        "            targets = targets.float().to(device)\n",
        "\n",
        "            logits = model(features)\n",
        "            _, predicted_labels = torch.max(logits, 1)\n",
        "\n",
        "            num_examples += targets.size(0)\n",
        "            correct_pred += (predicted_labels == targets).sum()\n",
        "    return correct_pred.float()/num_examples * 100\n",
        "\n",
        "\n",
        "def compute_confusion_matrix(model, data_loader, device):\n",
        "\n",
        "    all_targets, all_predictions = [], []\n",
        "    with torch.no_grad():\n",
        "\n",
        "        for i, (features, targets) in enumerate(data_loader):\n",
        "\n",
        "            features = features.to(device)\n",
        "            targets = targets\n",
        "            logits = model(features)\n",
        "            _, predicted_labels = torch.max(logits, 1)\n",
        "            all_targets.extend(targets.to('cpu'))\n",
        "            all_predictions.extend(predicted_labels.to('cpu'))\n",
        "\n",
        "    all_predictions = all_predictions\n",
        "    all_predictions = np.array(all_predictions)\n",
        "    all_targets = np.array(all_targets)\n",
        "        \n",
        "    class_labels = np.unique(np.concatenate((all_targets, all_predictions)))\n",
        "    if class_labels.shape[0] == 1:\n",
        "        if class_labels[0] != 0:\n",
        "            class_labels = np.array([0, class_labels[0]])\n",
        "        else:\n",
        "            class_labels = np.array([class_labels[0], 1])\n",
        "    n_labels = class_labels.shape[0]\n",
        "    lst = []\n",
        "    z = list(zip(all_targets, all_predictions))\n",
        "    for combi in product(class_labels, repeat=2):\n",
        "        lst.append(z.count(combi))\n",
        "    mat = np.asarray(lst)[:, None].reshape(n_labels, n_labels)\n",
        "    return mat"
      ],
      "metadata": {
        "id": "SukYi4CT9EQZ"
      },
      "execution_count": null,
      "outputs": []
    },
    {
      "cell_type": "code",
      "source": [
        "import time\n",
        "import torch\n",
        "\n",
        "def train_model(model, num_epochs, train_loader,\n",
        "                valid_loader, test_loader, optimizer,\n",
        "                device, logging_interval=50,\n",
        "                scheduler=None,\n",
        "                scheduler_on='valid_acc'):\n",
        "\n",
        "    start_time = time.time()\n",
        "    minibatch_loss_list, train_acc_list, valid_acc_list = [], [], []\n",
        "    \n",
        "    for epoch in range(num_epochs):\n",
        "\n",
        "        model.train()\n",
        "        for batch_idx, (features, targets) in enumerate(train_loader):\n",
        "\n",
        "            features = features.to(device)\n",
        "            targets = targets.to(device)\n",
        "\n",
        "            # ## FORWARD AND BACK PROP\n",
        "            logits = model(features)\n",
        "            loss = torch.nn.functional.cross_entropy(logits, targets)\n",
        "            optimizer.zero_grad()\n",
        "\n",
        "            loss.backward()\n",
        "\n",
        "            # ## UPDATE MODEL PARAMETERS\n",
        "            optimizer.step()\n",
        "\n",
        "            # ## LOGGING\n",
        "            minibatch_loss_list.append(loss.item())\n",
        "            if not batch_idx % logging_interval:\n",
        "                print(f'Epoch: {epoch+1:03d}/{num_epochs:03d} '\n",
        "                      f'| Batch {batch_idx:04d}/{len(train_loader):04d} '\n",
        "                      f'| Loss: {loss:.4f}')\n",
        "\n",
        "        model.eval()\n",
        "        with torch.no_grad():  # save memory during inference\n",
        "            train_acc = compute_accuracy(model, train_loader, device=device)\n",
        "            valid_acc = compute_accuracy(model, valid_loader, device=device)\n",
        "            print(f'Epoch: {epoch+1:03d}/{num_epochs:03d} '\n",
        "                  f'| Train: {train_acc :.2f}% '\n",
        "                  f'| Validation: {valid_acc :.2f}%')\n",
        "            train_acc_list.append(train_acc.item())\n",
        "            valid_acc_list.append(valid_acc.item())\n",
        "\n",
        "        elapsed = (time.time() - start_time)/60\n",
        "        print(f'Time elapsed: {elapsed:.2f} min')\n",
        "        \n",
        "        if scheduler is not None:\n",
        "\n",
        "            if scheduler_on == 'valid_acc':\n",
        "                scheduler.step(valid_acc_list[-1])\n",
        "            elif scheduler_on == 'minibatch_loss':\n",
        "                scheduler.step(minibatch_loss_list[-1])\n",
        "            else:\n",
        "                raise ValueError(f'Invalid `scheduler_on` choice.')\n",
        "        \n",
        "\n",
        "    elapsed = (time.time() - start_time)/60\n",
        "    print(f'Total Training Time: {elapsed:.2f} min')\n",
        "\n",
        "    test_acc = compute_accuracy(model, test_loader, device=device)\n",
        "    print(f'Test accuracy {test_acc :.2f}%')\n",
        "\n",
        "    return minibatch_loss_list, train_acc_list, valid_acc_list"
      ],
      "metadata": {
        "id": "9TP-V4Cgi3g9"
      },
      "execution_count": null,
      "outputs": []
    },
    {
      "cell_type": "code",
      "source": [
        "# imports from installed libraries\n",
        "import os\n",
        "import matplotlib.pyplot as plt\n",
        "import numpy as np\n",
        "import torch\n",
        "\n",
        "\n",
        "def plot_training_loss(minibatch_loss_list, num_epochs, iter_per_epoch,\n",
        "                       results_dir=None, averaging_iterations=100):\n",
        "\n",
        "    plt.figure()\n",
        "    ax1 = plt.subplot(1, 1, 1)\n",
        "    ax1.plot(range(len(minibatch_loss_list)),\n",
        "             (minibatch_loss_list), label='Minibatch Loss')\n",
        "\n",
        "    if len(minibatch_loss_list) > 1000:\n",
        "        ax1.set_ylim([\n",
        "            0, np.max(minibatch_loss_list[1000:])*1.5\n",
        "            ])\n",
        "    ax1.set_xlabel('Iterations')\n",
        "    ax1.set_ylabel('Loss')\n",
        "\n",
        "    ax1.plot(np.convolve(minibatch_loss_list,\n",
        "                         np.ones(averaging_iterations,)/averaging_iterations,\n",
        "                         mode='valid'),\n",
        "             label='Running Average')\n",
        "    ax1.legend()\n",
        "\n",
        "    ###################\n",
        "    # Set scond x-axis\n",
        "    ax2 = ax1.twiny()\n",
        "    newlabel = list(range(num_epochs+1))\n",
        "\n",
        "    newpos = [e*iter_per_epoch for e in newlabel]\n",
        "\n",
        "    ax2.set_xticks(newpos[::10])\n",
        "    ax2.set_xticklabels(newlabel[::10])\n",
        "\n",
        "    ax2.xaxis.set_ticks_position('bottom')\n",
        "    ax2.xaxis.set_label_position('bottom')\n",
        "    ax2.spines['bottom'].set_position(('outward', 45))\n",
        "    ax2.set_xlabel('Epochs')\n",
        "    ax2.set_xlim(ax1.get_xlim())\n",
        "    ###################\n",
        "\n",
        "    plt.tight_layout()\n",
        "\n",
        "    if results_dir is not None:\n",
        "        image_path = os.path.join(results_dir, 'plot_training_loss.pdf')\n",
        "        plt.savefig(image_path)\n",
        "\n",
        "\n",
        "def plot_accuracy(train_acc_list, valid_acc_list, results_dir):\n",
        "\n",
        "    num_epochs = len(train_acc_list)\n",
        "\n",
        "    plt.plot(np.arange(1, num_epochs+1),\n",
        "             train_acc_list, label='Training')\n",
        "    plt.plot(np.arange(1, num_epochs+1),\n",
        "             valid_acc_list, label='Validation')\n",
        "\n",
        "    plt.xlabel('Epoch')\n",
        "    plt.ylabel('Accuracy')\n",
        "    plt.legend()\n",
        "\n",
        "    plt.tight_layout()\n",
        "\n",
        "    if results_dir is not None:\n",
        "        image_path = os.path.join(\n",
        "            results_dir, 'plot_acc_training_validation.pdf')\n",
        "        plt.savefig(image_path)\n",
        "\n",
        "\n",
        "def show_examples(model, data_loader, unnormalizer=None, class_dict=None):\n",
        "    \n",
        "        \n",
        "    for batch_idx, (features, targets) in enumerate(data_loader):\n",
        "\n",
        "        with torch.no_grad():\n",
        "            features = features\n",
        "            targets = targets\n",
        "            logits = model(features)\n",
        "            predictions = torch.argmax(logits, dim=1)\n",
        "        break\n",
        "\n",
        "    fig, axes = plt.subplots(nrows=3, ncols=5,\n",
        "                             sharex=True, sharey=True)\n",
        "    \n",
        "    if unnormalizer is not None:\n",
        "        for idx in range(features.shape[0]):\n",
        "            features[idx] = unnormalizer(features[idx])\n",
        "    nhwc_img = np.transpose(features, axes=(0, 2, 3, 1))\n",
        "    \n",
        "    if nhwc_img.shape[-1] == 1:\n",
        "        nhw_img = np.squeeze(nhwc_img.numpy(), axis=3)\n",
        "\n",
        "        for idx, ax in enumerate(axes.ravel()):\n",
        "            ax.imshow(nhw_img[idx], cmap='binary')\n",
        "            if class_dict is not None:\n",
        "                ax.title.set_text(f'P: {class_dict[predictions[idx].item()]}'\n",
        "                                  f'\\nT: {class_dict[targets[idx].item()]}')\n",
        "            else:\n",
        "                ax.title.set_text(f'P: {predictions[idx]} | T: {targets[idx]}')\n",
        "            ax.axison = False\n",
        "\n",
        "    else:\n",
        "\n",
        "        for idx, ax in enumerate(axes.ravel()):\n",
        "            ax.imshow(nhwc_img[idx])\n",
        "            if class_dict is not None:\n",
        "                ax.title.set_text(f'P: {class_dict[predictions[idx].item()]}'\n",
        "                                  f'\\nT: {class_dict[targets[idx].item()]}')\n",
        "            else:\n",
        "                ax.title.set_text(f'P: {predictions[idx]} | T: {targets[idx]}')\n",
        "            ax.axison = False\n",
        "    plt.tight_layout()\n",
        "    plt.show()\n",
        "\n",
        "\n",
        "def plot_confusion_matrix(conf_mat,\n",
        "                          hide_spines=False,\n",
        "                          hide_ticks=False,\n",
        "                          figsize=None,\n",
        "                          cmap=None,\n",
        "                          colorbar=False,\n",
        "                          show_absolute=True,\n",
        "                          show_normed=False,\n",
        "                          class_names=None):\n",
        "\n",
        "    if not (show_absolute or show_normed):\n",
        "        raise AssertionError('Both show_absolute and show_normed are False')\n",
        "    if class_names is not None and len(class_names) != len(conf_mat):\n",
        "        raise AssertionError('len(class_names) should be equal to number of'\n",
        "                             'classes in the dataset')\n",
        "\n",
        "    total_samples = conf_mat.sum(axis=1)[:, np.newaxis]\n",
        "    normed_conf_mat = conf_mat.astype('float') / total_samples\n",
        "\n",
        "    fig, ax = plt.subplots(figsize=figsize)\n",
        "    ax.grid(False)\n",
        "    if cmap is None:\n",
        "        cmap = plt.cm.Blues\n",
        "\n",
        "    if figsize is None:\n",
        "        figsize = (len(conf_mat)*1.25, len(conf_mat)*1.25)\n",
        "\n",
        "    if show_normed:\n",
        "        matshow = ax.matshow(normed_conf_mat, cmap=cmap)\n",
        "    else:\n",
        "        matshow = ax.matshow(conf_mat, cmap=cmap)\n",
        "\n",
        "    if colorbar:\n",
        "        fig.colorbar(matshow)\n",
        "\n",
        "    for i in range(conf_mat.shape[0]):\n",
        "        for j in range(conf_mat.shape[1]):\n",
        "            cell_text = \"\"\n",
        "            if show_absolute:\n",
        "                cell_text += format(conf_mat[i, j], 'd')\n",
        "                if show_normed:\n",
        "                    cell_text += \"\\n\" + '('\n",
        "                    cell_text += format(normed_conf_mat[i, j], '.2f') + ')'\n",
        "            else:\n",
        "                cell_text += format(normed_conf_mat[i, j], '.2f')\n",
        "            ax.text(x=j,\n",
        "                    y=i,\n",
        "                    s=cell_text,\n",
        "                    va='center',\n",
        "                    ha='center',\n",
        "                    color=\"white\" if normed_conf_mat[i, j] > 0.5 else \"black\")\n",
        "    \n",
        "    if class_names is not None:\n",
        "        tick_marks = np.arange(len(class_names))\n",
        "        plt.xticks(tick_marks, class_names, rotation=90)\n",
        "        plt.yticks(tick_marks, class_names)\n",
        "        \n",
        "    if hide_spines:\n",
        "        ax.spines['right'].set_visible(False)\n",
        "        ax.spines['top'].set_visible(False)\n",
        "        ax.spines['left'].set_visible(False)\n",
        "        ax.spines['bottom'].set_visible(False)\n",
        "    ax.yaxis.set_ticks_position('left')\n",
        "    ax.xaxis.set_ticks_position('bottom')\n",
        "    if hide_ticks:\n",
        "        ax.axes.get_yaxis().set_ticks([])\n",
        "        ax.axes.get_xaxis().set_ticks([])\n",
        "\n",
        "    plt.xlabel('predicted label')\n",
        "    plt.ylabel('true label')\n",
        "    return fig, ax"
      ],
      "metadata": {
        "id": "Ich8ZSuh9MDe"
      },
      "execution_count": null,
      "outputs": []
    },
    {
      "cell_type": "code",
      "source": [
        "import torch\n",
        "from torch.utils.data import sampler\n",
        "from torchvision import datasets\n",
        "from torch.utils.data import DataLoader\n",
        "from torch.utils.data import SubsetRandomSampler\n",
        "from torchvision import transforms\n",
        "\n",
        "\n",
        "class UnNormalize(object):\n",
        "    def __init__(self, mean, std):\n",
        "        self.mean = mean\n",
        "        self.std = std\n",
        "\n",
        "    def __call__(self, tensor):\n",
        "        \"\"\"\n",
        "        Parameters:\n",
        "        ------------\n",
        "        tensor (Tensor): Tensor image of size (C, H, W) to be normalized.\n",
        "        \n",
        "        Returns:\n",
        "        ------------\n",
        "        Tensor: Normalized image.\n",
        "        \"\"\"\n",
        "        for t, m, s in zip(tensor, self.mean, self.std):\n",
        "            t.mul_(s).add_(m)\n",
        "        return tensor\n",
        "\n",
        "\n",
        "# # def get_dataloaders_mnist(batch_size, num_workers=0,\n",
        "# #                           validation_fraction=None,\n",
        "# #                           train_transforms=None,\n",
        "# #                           test_transforms=None):\n",
        "\n",
        "# #     if train_transforms is None:\n",
        "# #         train_transforms = transforms.ToTensor()\n",
        "\n",
        "# #     if test_transforms is None:\n",
        "# #         test_transforms = transforms.ToTensor()\n",
        "\n",
        "# #     train_dataset = datasets.MNIST(root='data',\n",
        "# #                                    train=True,\n",
        "# #                                    transform=train_transforms,\n",
        "# #                                    download=True)\n",
        "\n",
        "# #     valid_dataset = datasets.MNIST(root='data',\n",
        "# #                                    train=True,\n",
        "# #                                    transform=test_transforms)\n",
        "\n",
        "# #     test_dataset = datasets.MNIST(root='data',\n",
        "# #                                   train=False,\n",
        "# #                                   transform=test_transforms)\n",
        "\n",
        "# #     if validation_fraction is not None:\n",
        "# #         num = int(validation_fraction * 60000)\n",
        "# #         train_indices = torch.arange(0, 60000 - num)\n",
        "# #         valid_indices = torch.arange(60000 - num, 60000)\n",
        "\n",
        "# #         train_sampler = SubsetRandomSampler(train_indices)\n",
        "# #         valid_sampler = SubsetRandomSampler(valid_indices)\n",
        "\n",
        "# #         valid_loader = DataLoader(dataset=valid_dataset,\n",
        "# #                                   batch_size=batch_size,\n",
        "# #                                   num_workers=num_workers,\n",
        "# #                                   sampler=valid_sampler)\n",
        "\n",
        "# #         train_loader = DataLoader(dataset=train_dataset,\n",
        "# #                                   batch_size=batch_size,\n",
        "#                                   num_workers=num_workers,\n",
        "#                                   drop_last=True,\n",
        "#                                   sampler=train_sampler)\n",
        "\n",
        "#     else:\n",
        "#         train_loader = DataLoader(dataset=train_dataset,\n",
        "#                                   batch_size=batch_size,\n",
        "#                                   num_workers=num_workers,\n",
        "#                                   drop_last=True,\n",
        "#                                   shuffle=True)\n",
        "\n",
        "#     test_loader = DataLoader(dataset=test_dataset,\n",
        "#                              batch_size=batch_size,\n",
        "#                              num_workers=num_workers,\n",
        "#                              shuffle=False)\n",
        "\n",
        "#     if validation_fraction is None:\n",
        "#         return train_loader, test_loader\n",
        "#     else:\n",
        "#         return train_loader, valid_loader, test_loader\n",
        "\n",
        "\n",
        "# def get_dataloaders_cifar10(batch_size, num_workers=0,\n",
        "#                             validation_fraction=None,\n",
        "#                             train_transforms=None,\n",
        "#                             test_transforms=None):\n",
        "\n",
        "#     if train_transforms is None:\n",
        "#         train_transforms = transforms.ToTensor()\n",
        "\n",
        "#     if test_transforms is None:\n",
        "#         test_transforms = transforms.ToTensor()\n",
        "\n",
        "#     train_dataset = datasets.CIFAR10(root='data',\n",
        "#                                      train=True,\n",
        "#                                      transform=train_transforms,\n",
        "#                                      download=True)\n",
        "\n",
        "#     valid_dataset = datasets.CIFAR10(root='data',\n",
        "#                                      train=True,\n",
        "#                                      transform=test_transforms)\n",
        "\n",
        "#     test_dataset = datasets.CIFAR10(root='data',\n",
        "#                                     train=False,\n",
        "#                                     transform=test_transforms)\n",
        "\n",
        "#     if validation_fraction is not None:\n",
        "#         num = int(validation_fraction * 50000)\n",
        "#         train_indices = torch.arange(0, 50000 - num)\n",
        "#         valid_indices = torch.arange(50000 - num, 50000)\n",
        "\n",
        "#         train_sampler = SubsetRandomSampler(train_indices)\n",
        "#         valid_sampler = SubsetRandomSampler(valid_indices)\n",
        "\n",
        "#         valid_loader = DataLoader(dataset=valid_dataset,\n",
        "#                                   batch_size=batch_size,\n",
        "#                                   num_workers=num_workers,\n",
        "#                                   sampler=valid_sampler)\n",
        "\n",
        "#         train_loader = DataLoader(dataset=train_dataset,\n",
        "#                                   batch_size=batch_size,\n",
        "#                                   num_workers=num_workers,\n",
        "#                                   drop_last=True,\n",
        "#                                   sampler=train_sampler)\n",
        "\n",
        "#     else:\n",
        "#         train_loader = DataLoader(dataset=train_dataset,\n",
        "#                                   batch_size=batch_size,\n",
        "#                                   num_workers=num_workers,\n",
        "#                                   drop_last=True,\n",
        "#                                   shuffle=True)\n",
        "\n",
        "#     test_loader = DataLoader(dataset=test_dataset,\n",
        "#                              batch_size=batch_size,\n",
        "#                              num_workers=num_workers,\n",
        "#                              shuffle=False)\n",
        "\n",
        "#     if validation_fraction is None:\n",
        "#         return train_loader, test_loader\n",
        "#     else:\n",
        "#         return train_loader, valid_loader, test_loader"
      ],
      "metadata": {
        "id": "AeRlHi3Y9lD0"
      },
      "execution_count": null,
      "outputs": []
    },
    {
      "cell_type": "code",
      "source": [
        "import torch\n",
        "import torchvision\n",
        "import numpy as np\n",
        "import matplotlib.pyplot as plt"
      ],
      "metadata": {
        "id": "QMAn7rEf9vrs"
      },
      "execution_count": null,
      "outputs": []
    },
    {
      "cell_type": "code",
      "source": [
        "RANDOM_SEED = 123\n",
        "BATCH_SIZE = 4\n",
        "NUM_EPOCHS = 50\n",
        "DEVICE = torch.device('cuda:0' if torch.cuda.is_available() else 'cpu')"
      ],
      "metadata": {
        "id": "lPicr7Bj99J3"
      },
      "execution_count": null,
      "outputs": []
    },
    {
      "cell_type": "code",
      "source": [
        "set_all_seeds(RANDOM_SEED)\n",
        "#set_deterministic()"
      ],
      "metadata": {
        "id": "zZru4BqL-Civ"
      },
      "execution_count": null,
      "outputs": []
    },
    {
      "cell_type": "code",
      "source": [
        "# Checking the dataset\n",
        "for images, labels in train_loader:  \n",
        "    print('Image batch dimensions:', images.shape)\n",
        "    print('Image label dimensions:', labels.shape)\n",
        "    print('Class labels of 10 examples:', labels[:10])\n",
        "    break"
      ],
      "metadata": {
        "colab": {
          "base_uri": "https://localhost:8080/"
        },
        "id": "fH5fr69u-FpJ",
        "outputId": "6fa0ef36-964d-4288-fa0d-6cbe9591c5d3"
      },
      "execution_count": null,
      "outputs": [
        {
          "output_type": "stream",
          "name": "stdout",
          "text": [
            "Image batch dimensions: torch.Size([4, 3, 224, 224])\n",
            "Image label dimensions: torch.Size([4])\n",
            "Class labels of 10 examples: tensor([1, 1, 0, 1])\n"
          ]
        }
      ]
    },
    {
      "cell_type": "code",
      "source": [
        "model = torchvision.models.resnet18(pretrained=False)\n",
        "model"
      ],
      "metadata": {
        "colab": {
          "base_uri": "https://localhost:8080/"
        },
        "id": "VUFMODyQ-c_l",
        "outputId": "693a2571-c461-40c4-b106-f8885ffddc4e"
      },
      "execution_count": null,
      "outputs": [
        {
          "output_type": "execute_result",
          "data": {
            "text/plain": [
              "ResNet(\n",
              "  (conv1): Conv2d(3, 64, kernel_size=(7, 7), stride=(2, 2), padding=(3, 3), bias=False)\n",
              "  (bn1): BatchNorm2d(64, eps=1e-05, momentum=0.1, affine=True, track_running_stats=True)\n",
              "  (relu): ReLU(inplace=True)\n",
              "  (maxpool): MaxPool2d(kernel_size=3, stride=2, padding=1, dilation=1, ceil_mode=False)\n",
              "  (layer1): Sequential(\n",
              "    (0): BasicBlock(\n",
              "      (conv1): Conv2d(64, 64, kernel_size=(3, 3), stride=(1, 1), padding=(1, 1), bias=False)\n",
              "      (bn1): BatchNorm2d(64, eps=1e-05, momentum=0.1, affine=True, track_running_stats=True)\n",
              "      (relu): ReLU(inplace=True)\n",
              "      (conv2): Conv2d(64, 64, kernel_size=(3, 3), stride=(1, 1), padding=(1, 1), bias=False)\n",
              "      (bn2): BatchNorm2d(64, eps=1e-05, momentum=0.1, affine=True, track_running_stats=True)\n",
              "    )\n",
              "    (1): BasicBlock(\n",
              "      (conv1): Conv2d(64, 64, kernel_size=(3, 3), stride=(1, 1), padding=(1, 1), bias=False)\n",
              "      (bn1): BatchNorm2d(64, eps=1e-05, momentum=0.1, affine=True, track_running_stats=True)\n",
              "      (relu): ReLU(inplace=True)\n",
              "      (conv2): Conv2d(64, 64, kernel_size=(3, 3), stride=(1, 1), padding=(1, 1), bias=False)\n",
              "      (bn2): BatchNorm2d(64, eps=1e-05, momentum=0.1, affine=True, track_running_stats=True)\n",
              "    )\n",
              "  )\n",
              "  (layer2): Sequential(\n",
              "    (0): BasicBlock(\n",
              "      (conv1): Conv2d(64, 128, kernel_size=(3, 3), stride=(2, 2), padding=(1, 1), bias=False)\n",
              "      (bn1): BatchNorm2d(128, eps=1e-05, momentum=0.1, affine=True, track_running_stats=True)\n",
              "      (relu): ReLU(inplace=True)\n",
              "      (conv2): Conv2d(128, 128, kernel_size=(3, 3), stride=(1, 1), padding=(1, 1), bias=False)\n",
              "      (bn2): BatchNorm2d(128, eps=1e-05, momentum=0.1, affine=True, track_running_stats=True)\n",
              "      (downsample): Sequential(\n",
              "        (0): Conv2d(64, 128, kernel_size=(1, 1), stride=(2, 2), bias=False)\n",
              "        (1): BatchNorm2d(128, eps=1e-05, momentum=0.1, affine=True, track_running_stats=True)\n",
              "      )\n",
              "    )\n",
              "    (1): BasicBlock(\n",
              "      (conv1): Conv2d(128, 128, kernel_size=(3, 3), stride=(1, 1), padding=(1, 1), bias=False)\n",
              "      (bn1): BatchNorm2d(128, eps=1e-05, momentum=0.1, affine=True, track_running_stats=True)\n",
              "      (relu): ReLU(inplace=True)\n",
              "      (conv2): Conv2d(128, 128, kernel_size=(3, 3), stride=(1, 1), padding=(1, 1), bias=False)\n",
              "      (bn2): BatchNorm2d(128, eps=1e-05, momentum=0.1, affine=True, track_running_stats=True)\n",
              "    )\n",
              "  )\n",
              "  (layer3): Sequential(\n",
              "    (0): BasicBlock(\n",
              "      (conv1): Conv2d(128, 256, kernel_size=(3, 3), stride=(2, 2), padding=(1, 1), bias=False)\n",
              "      (bn1): BatchNorm2d(256, eps=1e-05, momentum=0.1, affine=True, track_running_stats=True)\n",
              "      (relu): ReLU(inplace=True)\n",
              "      (conv2): Conv2d(256, 256, kernel_size=(3, 3), stride=(1, 1), padding=(1, 1), bias=False)\n",
              "      (bn2): BatchNorm2d(256, eps=1e-05, momentum=0.1, affine=True, track_running_stats=True)\n",
              "      (downsample): Sequential(\n",
              "        (0): Conv2d(128, 256, kernel_size=(1, 1), stride=(2, 2), bias=False)\n",
              "        (1): BatchNorm2d(256, eps=1e-05, momentum=0.1, affine=True, track_running_stats=True)\n",
              "      )\n",
              "    )\n",
              "    (1): BasicBlock(\n",
              "      (conv1): Conv2d(256, 256, kernel_size=(3, 3), stride=(1, 1), padding=(1, 1), bias=False)\n",
              "      (bn1): BatchNorm2d(256, eps=1e-05, momentum=0.1, affine=True, track_running_stats=True)\n",
              "      (relu): ReLU(inplace=True)\n",
              "      (conv2): Conv2d(256, 256, kernel_size=(3, 3), stride=(1, 1), padding=(1, 1), bias=False)\n",
              "      (bn2): BatchNorm2d(256, eps=1e-05, momentum=0.1, affine=True, track_running_stats=True)\n",
              "    )\n",
              "  )\n",
              "  (layer4): Sequential(\n",
              "    (0): BasicBlock(\n",
              "      (conv1): Conv2d(256, 512, kernel_size=(3, 3), stride=(2, 2), padding=(1, 1), bias=False)\n",
              "      (bn1): BatchNorm2d(512, eps=1e-05, momentum=0.1, affine=True, track_running_stats=True)\n",
              "      (relu): ReLU(inplace=True)\n",
              "      (conv2): Conv2d(512, 512, kernel_size=(3, 3), stride=(1, 1), padding=(1, 1), bias=False)\n",
              "      (bn2): BatchNorm2d(512, eps=1e-05, momentum=0.1, affine=True, track_running_stats=True)\n",
              "      (downsample): Sequential(\n",
              "        (0): Conv2d(256, 512, kernel_size=(1, 1), stride=(2, 2), bias=False)\n",
              "        (1): BatchNorm2d(512, eps=1e-05, momentum=0.1, affine=True, track_running_stats=True)\n",
              "      )\n",
              "    )\n",
              "    (1): BasicBlock(\n",
              "      (conv1): Conv2d(512, 512, kernel_size=(3, 3), stride=(1, 1), padding=(1, 1), bias=False)\n",
              "      (bn1): BatchNorm2d(512, eps=1e-05, momentum=0.1, affine=True, track_running_stats=True)\n",
              "      (relu): ReLU(inplace=True)\n",
              "      (conv2): Conv2d(512, 512, kernel_size=(3, 3), stride=(1, 1), padding=(1, 1), bias=False)\n",
              "      (bn2): BatchNorm2d(512, eps=1e-05, momentum=0.1, affine=True, track_running_stats=True)\n",
              "    )\n",
              "  )\n",
              "  (avgpool): AdaptiveAvgPool2d(output_size=(1, 1))\n",
              "  (fc): Linear(in_features=512, out_features=1000, bias=True)\n",
              ")"
            ]
          },
          "metadata": {},
          "execution_count": 40
        }
      ]
    },
    {
      "cell_type": "code",
      "source": [
        "# for param in model.parameters():\n",
        "#     param.requires_grad = False"
      ],
      "metadata": {
        "id": "tJ-m88Ui-2Zo"
      },
      "execution_count": null,
      "outputs": []
    },
    {
      "cell_type": "code",
      "source": [
        "# model.classifier[0].requires_grad = True\n",
        "# model.classifier[3].requires_grad = True"
      ],
      "metadata": {
        "id": "UR_wcRiU-7ev"
      },
      "execution_count": null,
      "outputs": []
    },
    {
      "cell_type": "code",
      "source": [
        "model.fc = torch.nn.Linear(512, 2)"
      ],
      "metadata": {
        "id": "azDk-jkg-_yW"
      },
      "execution_count": null,
      "outputs": []
    },
    {
      "cell_type": "code",
      "source": [
        "model = model.to(DEVICE)\n",
        "\n",
        "optimizer = torch.optim.SGD(model.parameters(), momentum=0.9, lr=0.01)\n",
        "scheduler = torch.optim.lr_scheduler.ReduceLROnPlateau(optimizer,\n",
        "                                                       factor=0.1,\n",
        "                                                       mode='max',\n",
        "                                                       verbose=True)\n",
        "\n",
        "minibatch_loss_list, train_acc_list, valid_acc_list = train_model(\n",
        "    model=model,\n",
        "    num_epochs=NUM_EPOCHS,\n",
        "    train_loader=train_loader,\n",
        "    valid_loader=valid_loader,\n",
        "    test_loader=test_loader,\n",
        "    optimizer=optimizer,\n",
        "    device=DEVICE,\n",
        "    scheduler=scheduler,\n",
        "    scheduler_on='valid_acc',\n",
        "    logging_interval=100)\n",
        "\n",
        "plot_training_loss(minibatch_loss_list=minibatch_loss_list,\n",
        "                   num_epochs=NUM_EPOCHS,\n",
        "                   iter_per_epoch=len(train_loader),\n",
        "                   results_dir=None,\n",
        "                   averaging_iterations=200)\n",
        "plt.show()\n",
        "\n",
        "plot_accuracy(train_acc_list=train_acc_list,\n",
        "              valid_acc_list=valid_acc_list,\n",
        "              results_dir=None)\n",
        "plt.ylim([60, 100])\n",
        "plt.show()"
      ],
      "metadata": {
        "colab": {
          "base_uri": "https://localhost:8080/",
          "height": 1000
        },
        "id": "GYXj30qs_B3f",
        "outputId": "e494cc3f-662e-4a11-a0f9-03bbf8a3c320"
      },
      "execution_count": null,
      "outputs": [
        {
          "output_type": "stream",
          "name": "stdout",
          "text": [
            "Epoch: 001/003 | Batch 0000/1669 | Loss: 0.7846\n",
            "Epoch: 001/003 | Batch 0100/1669 | Loss: 0.9563\n",
            "Epoch: 001/003 | Batch 0200/1669 | Loss: 0.4211\n",
            "Epoch: 001/003 | Batch 0300/1669 | Loss: 0.6021\n",
            "Epoch: 001/003 | Batch 0400/1669 | Loss: 0.7114\n",
            "Epoch: 001/003 | Batch 0500/1669 | Loss: 1.1155\n",
            "Epoch: 001/003 | Batch 0600/1669 | Loss: 1.0495\n",
            "Epoch: 001/003 | Batch 0700/1669 | Loss: 0.3284\n",
            "Epoch: 001/003 | Batch 0800/1669 | Loss: 0.3062\n",
            "Epoch: 001/003 | Batch 0900/1669 | Loss: 0.1210\n",
            "Epoch: 001/003 | Batch 1000/1669 | Loss: 0.2866\n",
            "Epoch: 001/003 | Batch 1100/1669 | Loss: 0.4384\n",
            "Epoch: 001/003 | Batch 1200/1669 | Loss: 0.6122\n",
            "Epoch: 001/003 | Batch 1300/1669 | Loss: 0.4679\n",
            "Epoch: 001/003 | Batch 1400/1669 | Loss: 0.2130\n",
            "Epoch: 001/003 | Batch 1500/1669 | Loss: 0.2734\n",
            "Epoch: 001/003 | Batch 1600/1669 | Loss: 0.6213\n",
            "Epoch: 001/003 | Train: 73.38% | Validation: 73.83%\n",
            "Time elapsed: 44.99 min\n",
            "Epoch: 002/003 | Batch 0000/1669 | Loss: 0.3475\n",
            "Epoch: 002/003 | Batch 0100/1669 | Loss: 0.2410\n",
            "Epoch: 002/003 | Batch 0200/1669 | Loss: 0.6125\n",
            "Epoch: 002/003 | Batch 0300/1669 | Loss: 0.3707\n",
            "Epoch: 002/003 | Batch 0400/1669 | Loss: 0.9027\n",
            "Epoch: 002/003 | Batch 0500/1669 | Loss: 0.6124\n",
            "Epoch: 002/003 | Batch 0600/1669 | Loss: 0.3859\n",
            "Epoch: 002/003 | Batch 0700/1669 | Loss: 0.3508\n",
            "Epoch: 002/003 | Batch 0800/1669 | Loss: 0.3534\n",
            "Epoch: 002/003 | Batch 0900/1669 | Loss: 0.5357\n",
            "Epoch: 002/003 | Batch 1000/1669 | Loss: 1.1827\n",
            "Epoch: 002/003 | Batch 1100/1669 | Loss: 0.3237\n",
            "Epoch: 002/003 | Batch 1200/1669 | Loss: 0.4778\n",
            "Epoch: 002/003 | Batch 1300/1669 | Loss: 0.6406\n",
            "Epoch: 002/003 | Batch 1400/1669 | Loss: 0.6096\n",
            "Epoch: 002/003 | Batch 1500/1669 | Loss: 0.4857\n",
            "Epoch: 002/003 | Batch 1600/1669 | Loss: 0.2618\n",
            "Epoch: 002/003 | Train: 82.43% | Validation: 81.33%\n",
            "Time elapsed: 51.88 min\n",
            "Epoch: 003/003 | Batch 0000/1669 | Loss: 0.9181\n",
            "Epoch: 003/003 | Batch 0100/1669 | Loss: 0.5854\n",
            "Epoch: 003/003 | Batch 0200/1669 | Loss: 0.1231\n",
            "Epoch: 003/003 | Batch 0300/1669 | Loss: 0.1572\n",
            "Epoch: 003/003 | Batch 0400/1669 | Loss: 1.0927\n",
            "Epoch: 003/003 | Batch 0500/1669 | Loss: 0.1682\n",
            "Epoch: 003/003 | Batch 0600/1669 | Loss: 0.7957\n",
            "Epoch: 003/003 | Batch 0700/1669 | Loss: 0.7416\n",
            "Epoch: 003/003 | Batch 0800/1669 | Loss: 0.4306\n",
            "Epoch: 003/003 | Batch 0900/1669 | Loss: 0.3066\n",
            "Epoch: 003/003 | Batch 1000/1669 | Loss: 0.2396\n",
            "Epoch: 003/003 | Batch 1100/1669 | Loss: 0.2232\n",
            "Epoch: 003/003 | Batch 1200/1669 | Loss: 0.1436\n",
            "Epoch: 003/003 | Batch 1300/1669 | Loss: 0.6911\n",
            "Epoch: 003/003 | Batch 1400/1669 | Loss: 0.6313\n",
            "Epoch: 003/003 | Batch 1500/1669 | Loss: 0.5113\n",
            "Epoch: 003/003 | Batch 1600/1669 | Loss: 0.3413\n",
            "Epoch: 003/003 | Train: 79.58% | Validation: 79.02%\n",
            "Time elapsed: 58.63 min\n",
            "Total Training Time: 58.63 min\n",
            "Test accuracy 78.74%\n"
          ]
        },
        {
          "output_type": "display_data",
          "data": {
            "text/plain": [
              "<Figure size 432x288 with 2 Axes>"
            ],
            "image/png": "[encoded data removed]"
          },
          "metadata": {
            "needs_background": "light"
          }
        },
        {
          "output_type": "display_data",
          "data": {
            "text/plain": [
              "<Figure size 432x288 with 1 Axes>"
            ],
            "image/png": "[encoded data removed]"
          },
          "metadata": {
            "needs_background": "light"
          }
        }
      ]
    },
    {
      "cell_type": "code",
      "source": [
        ""
      ],
      "metadata": {
        "id": "abcgrzUt_ZuI"
      },
      "execution_count": null,
      "outputs": []
    },
    {
      "cell_type": "code",
      "source": [
        "torch.save(model.state_dict(), '/content/drive/MyDrive/PRML Project/covid 19/weights/m1/resnet18_13_04_only_linear_layers.pth')"
      ],
      "metadata": {
        "id": "Dx3CyfxIOUB8"
      },
      "execution_count": null,
      "outputs": []
    },
    {
      "cell_type": "code",
      "source": [
        "model.cpu()\n",
        "unnormalizer = UnNormalize(mean, std)\n",
        "class_dict = {0: 'Covid',\n",
        "              1: 'Non-Covid'}\n",
        "# show_examples(model=model, data_loader=test_loader, unnormalizer=unnormalizer, class_dict=class_dict)"
      ],
      "metadata": {
        "id": "BCO2UrOtN4jl",
        "colab": {
          "base_uri": "https://localhost:8080/",
          "height": 598
        },
        "outputId": "55779b9b-abf0-408a-cdf4-1be7318fcbbf"
      },
      "execution_count": null,
      "outputs": [
        {
          "output_type": "error",
          "ename": "IndexError",
          "evalue": "ignored",
          "traceback": [
            "\u001b[0;31m---------------------------------------------------------------------------\u001b[0m",
            "\u001b[0;31mIndexError\u001b[0m                                Traceback (most recent call last)",
            "\u001b[0;32m<ipython-input-37-7f12ff6e1da7>\u001b[0m in \u001b[0;36m<module>\u001b[0;34m()\u001b[0m\n\u001b[1;32m      3\u001b[0m class_dict = {0: 'Covid',\n\u001b[1;32m      4\u001b[0m               1: 'Non-Covid'}\n\u001b[0;32m----> 5\u001b[0;31m \u001b[0mshow_examples\u001b[0m\u001b[0;34m(\u001b[0m\u001b[0mmodel\u001b[0m\u001b[0;34m=\u001b[0m\u001b[0mmodel\u001b[0m\u001b[0;34m,\u001b[0m \u001b[0mdata_loader\u001b[0m\u001b[0;34m=\u001b[0m\u001b[0mtest_loader\u001b[0m\u001b[0;34m,\u001b[0m \u001b[0munnormalizer\u001b[0m\u001b[0;34m=\u001b[0m\u001b[0munnormalizer\u001b[0m\u001b[0;34m,\u001b[0m \u001b[0mclass_dict\u001b[0m\u001b[0;34m=\u001b[0m\u001b[0mclass_dict\u001b[0m\u001b[0;34m)\u001b[0m\u001b[0;34m\u001b[0m\u001b[0;34m\u001b[0m\u001b[0m\n\u001b[0m",
            "\u001b[0;32m<ipython-input-25-c48e17f75b50>\u001b[0m in \u001b[0;36mshow_examples\u001b[0;34m(model, data_loader, unnormalizer, class_dict)\u001b[0m\n\u001b[1;32m    107\u001b[0m \u001b[0;34m\u001b[0m\u001b[0m\n\u001b[1;32m    108\u001b[0m         \u001b[0;32mfor\u001b[0m \u001b[0midx\u001b[0m\u001b[0;34m,\u001b[0m \u001b[0max\u001b[0m \u001b[0;32min\u001b[0m \u001b[0menumerate\u001b[0m\u001b[0;34m(\u001b[0m\u001b[0maxes\u001b[0m\u001b[0;34m.\u001b[0m\u001b[0mravel\u001b[0m\u001b[0;34m(\u001b[0m\u001b[0;34m)\u001b[0m\u001b[0;34m)\u001b[0m\u001b[0;34m:\u001b[0m\u001b[0;34m\u001b[0m\u001b[0;34m\u001b[0m\u001b[0m\n\u001b[0;32m--> 109\u001b[0;31m             \u001b[0max\u001b[0m\u001b[0;34m.\u001b[0m\u001b[0mimshow\u001b[0m\u001b[0;34m(\u001b[0m\u001b[0mnhwc_img\u001b[0m\u001b[0;34m[\u001b[0m\u001b[0midx\u001b[0m\u001b[0;34m]\u001b[0m\u001b[0;34m)\u001b[0m\u001b[0;34m\u001b[0m\u001b[0;34m\u001b[0m\u001b[0m\n\u001b[0m\u001b[1;32m    110\u001b[0m             \u001b[0;32mif\u001b[0m \u001b[0mclass_dict\u001b[0m \u001b[0;32mis\u001b[0m \u001b[0;32mnot\u001b[0m \u001b[0;32mNone\u001b[0m\u001b[0;34m:\u001b[0m\u001b[0;34m\u001b[0m\u001b[0;34m\u001b[0m\u001b[0m\n\u001b[1;32m    111\u001b[0m                 ax.title.set_text(f'P: {class_dict[predictions[idx].item()]}'\n",
            "\u001b[0;31mIndexError\u001b[0m: index 4 is out of bounds for dimension 0 with size 4"
          ]
        },
        {
          "output_type": "display_data",
          "data": {
            "text/plain": [
              "<Figure size 432x288 with 15 Axes>"
            ],
            "image/png": "[encoded data removed]"
          },
          "metadata": {
            "needs_background": "light"
          }
        }
      ]
    },
    {
      "cell_type": "code",
      "source": [
        "mat = compute_confusion_matrix(model=model, data_loader=test_loader, device=torch.device('cpu'))\n",
        "plot_confusion_matrix(mat, class_names=class_dict.values())\n",
        "plt.show()"
      ],
      "metadata": {
        "id": "qOK3Vrz0N5UJ",
        "colab": {
          "base_uri": "https://localhost:8080/",
          "height": 321
        },
        "outputId": "0ad0fe6a-124d-42ff-a289-81991262204c"
      },
      "execution_count": null,
      "outputs": [
        {
          "output_type": "display_data",
          "data": {
            "text/plain": [
              "<Figure size 432x288 with 1 Axes>"
            ],
            "image/png": "[encoded data removed]"
          },
          "metadata": {
            "needs_background": "light"
          }
        }
      ]
    },
    {
      "cell_type": "markdown",
      "source": [
        "Evaluation Metrics:"
      ],
      "metadata": {
        "id": "UQ3gQ1R0s2L3"
      }
    },
    {
      "cell_type": "markdown",
      "source": [
        "![image.png](data:image/png;base64,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)"
      ],
      "metadata": {
        "id": "yvCPw_qKsv1k"
      }
    }
  ]
}